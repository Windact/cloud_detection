{
 "cells": [
  {
   "cell_type": "code",
   "execution_count": 1,
   "id": "cfb5802f-e13f-4004-a986-b27c630d0a98",
   "metadata": {},
   "outputs": [],
   "source": [
    "from pathlib import Path\n",
    "\n",
    "import tensorflow as tf\n",
    "import tensorflow_addons as tfa\n",
    "import tensorflow_io as tfio"
   ]
  },
  {
   "cell_type": "code",
   "execution_count": 2,
   "id": "7a9ceea6-30a0-4853-a5f1-395e8bedebe7",
   "metadata": {},
   "outputs": [
    {
     "data": {
      "text/plain": [
       "PosixPath('/home/windact/cloud_detection')"
      ]
     },
     "execution_count": 2,
     "metadata": {},
     "output_type": "execute_result"
    }
   ],
   "source": [
    "Path.cwd().parent.resolve()"
   ]
  },
  {
   "cell_type": "code",
   "execution_count": 3,
   "id": "2f1d135a-6524-4cc7-9be3-6704493d20f5",
   "metadata": {},
   "outputs": [
    {
     "data": {
      "text/plain": [
       "PosixPath('/home/windact/cloud_detection')"
      ]
     },
     "execution_count": 3,
     "metadata": {},
     "output_type": "execute_result"
    }
   ],
   "source": [
    "ROOT_DIR = Path.cwd().parent.resolve()\n",
    "ROOT_DIR"
   ]
  },
  {
   "cell_type": "code",
   "execution_count": 4,
   "id": "76645801-96f2-467d-a439-bfaddf56ce58",
   "metadata": {},
   "outputs": [
    {
     "data": {
      "text/plain": [
       "PosixPath('/home/windact/cloud_detection/data')"
      ]
     },
     "execution_count": 4,
     "metadata": {},
     "output_type": "execute_result"
    }
   ],
   "source": [
    "DATA_DIR = ROOT_DIR / \"data\"\n",
    "DATA_DIR"
   ]
  },
  {
   "cell_type": "code",
   "execution_count": 5,
   "id": "e723c52a-2339-4eb1-adb9-7077fea1c118",
   "metadata": {},
   "outputs": [],
   "source": [
    "TRAIN_FEATURES = DATA_DIR / \"train_features\"\n",
    "TRAIN_LABELS = DATA_DIR / \"train_labels\""
   ]
  },
  {
   "cell_type": "code",
   "execution_count": 6,
   "id": "6e0bfc1f-b306-4daf-9103-5c7abc693b68",
   "metadata": {},
   "outputs": [],
   "source": [
    "TRAIN_DATA_PATH= DATA_DIR / \"train_data.csv\"\n",
    "VAL_DATA_PATH= DATA_DIR / \"val_data.csv\""
   ]
  },
  {
   "cell_type": "code",
   "execution_count": 7,
   "id": "5041e40d-2190-48db-8c0c-fad82b24a870",
   "metadata": {},
   "outputs": [],
   "source": [
    "# Train dataset"
   ]
  },
  {
   "cell_type": "code",
   "execution_count": 8,
   "id": "26b64fee-e8b5-4a09-a46f-ea9dfb3589b5",
   "metadata": {},
   "outputs": [],
   "source": [
    "file_paths = TRAIN_DATA_PATH"
   ]
  },
  {
   "cell_type": "code",
   "execution_count": 9,
   "id": "a9cd6b84-7e00-4fb2-aaf1-300797e73a10",
   "metadata": {},
   "outputs": [],
   "source": [
    "train_dataset = tf.data.TextLineDataset(filenames=file_paths)"
   ]
  },
  {
   "cell_type": "code",
   "execution_count": 10,
   "id": "17bf2e47-be7b-4de1-a3cb-cca5eb9bb2d5",
   "metadata": {},
   "outputs": [
    {
     "data": {
      "text/plain": [
       "[<tf.Tensor: shape=(), dtype=string, numpy=b'adwp;/home/windact/cloud_detection/data/train_features/adwp/B02.tif;/home/windact/cloud_detection/data/train_features/adwp/B03.tif;/home/windact/cloud_detection/data/train_features/adwp/B04.tif;/home/windact/cloud_detection/data/train_features/adwp/B08.tif;/home/windact/cloud_detection/data/train_labels/adwp.tif'>,\n",
       " <tf.Tensor: shape=(), dtype=string, numpy=b'adwu;/home/windact/cloud_detection/data/train_features/adwu/B02.tif;/home/windact/cloud_detection/data/train_features/adwu/B03.tif;/home/windact/cloud_detection/data/train_features/adwu/B04.tif;/home/windact/cloud_detection/data/train_features/adwu/B08.tif;/home/windact/cloud_detection/data/train_labels/adwu.tif'>,\n",
       " <tf.Tensor: shape=(), dtype=string, numpy=b'adwz;/home/windact/cloud_detection/data/train_features/adwz/B02.tif;/home/windact/cloud_detection/data/train_features/adwz/B03.tif;/home/windact/cloud_detection/data/train_features/adwz/B04.tif;/home/windact/cloud_detection/data/train_features/adwz/B08.tif;/home/windact/cloud_detection/data/train_labels/adwz.tif'>,\n",
       " <tf.Tensor: shape=(), dtype=string, numpy=b'adxp;/home/windact/cloud_detection/data/train_features/adxp/B02.tif;/home/windact/cloud_detection/data/train_features/adxp/B03.tif;/home/windact/cloud_detection/data/train_features/adxp/B04.tif;/home/windact/cloud_detection/data/train_features/adxp/B08.tif;/home/windact/cloud_detection/data/train_labels/adxp.tif'>,\n",
       " <tf.Tensor: shape=(), dtype=string, numpy=b'aeaj;/home/windact/cloud_detection/data/train_features/aeaj/B02.tif;/home/windact/cloud_detection/data/train_features/aeaj/B03.tif;/home/windact/cloud_detection/data/train_features/aeaj/B04.tif;/home/windact/cloud_detection/data/train_features/aeaj/B08.tif;/home/windact/cloud_detection/data/train_labels/aeaj.tif'>]"
      ]
     },
     "execution_count": 10,
     "metadata": {},
     "output_type": "execute_result"
    }
   ],
   "source": [
    "list(train_dataset.skip(1).take(5))"
   ]
  },
  {
   "cell_type": "code",
   "execution_count": 7,
   "id": "3edea349-f426-4f53-8bfe-6c5f61803067",
   "metadata": {},
   "outputs": [],
   "source": [
    "IMG_HEIGHT = tf.constant(192, dtype=tf.int32)\n",
    "IMG_WIDTH = tf.constant(192,dtype=tf.int32)\n",
    "EPOCHS  = 2\n",
    "\n",
    "@tf.function\n",
    "def load_image(img_path):\n",
    "    image = tf.io.read_file(img_path)\n",
    "    image = tfio.experimental.image.decode_tiff(image)\n",
    "    \n",
    "    return image\n",
    "\n",
    "@tf.function\n",
    "def parser(row_csv):\n",
    "    # decoding the csv file\n",
    "    chip_id,B02_path,B03_path,B04_path,B08_path,label_path = tf.io.decode_csv(records = row_csv, record_defaults = [\"chip_id\",\"B02_path\",\"B03_path\",\"B04_path\",\"B08_path\",\"label_path\"], field_delim=';')\n",
    "    \n",
    "    B02_img = load_image(B02_path)\n",
    "    # B02_img = B02_img[:,:,0]\n",
    "    # B02_img = tf.expand_dims(B02_img, axis = -1, name=None)\n",
    "    \n",
    "    B03_img = load_image(B03_path)\n",
    "    # B03_img = B03_img[:,:,0]\n",
    "    # B03_img = tf.expand_dims(B03_img, axis = -1, name=None)\n",
    "    \n",
    "    B04_img = load_image(B04_path)\n",
    "    # B04_img = B04_img[:,:,0]\n",
    "    # B04_img = tf.expand_dims(B04_img, axis = -1, name=None)\n",
    "    \n",
    "    B08_img = load_image(B08_path)\n",
    "    # B08_img = B08_img[:,:,0]\n",
    "    # B08_img = tf.expand_dims(B08_img, axis = -1, name=None)\n",
    "    \n",
    "    image = tf.concat([B02_img,B03_img,B04_img,B08_img], axis = -1)\n",
    "    image = tf.image.convert_image_dtype(image, dtype=tf.float32, saturate=False)\n",
    "    \n",
    "    label = load_image(label_path)\n",
    "    # label = label[:,:,0]\n",
    "    # label = tf.expand_dims(label, axis = -1, name=None)\n",
    "    \n",
    "    label = tf.image.convert_image_dtype(label, dtype=tf.float32, saturate=False)\n",
    "    \n",
    "    \n",
    "    return image, label\n",
    "\n",
    "@tf.function\n",
    "def img_reshape(img,msk):\n",
    "    img_o = tf.image.resize(img,(192, 192),preserve_aspect_ratio=False)\n",
    "    msk_o = tf.image.resize(msk,(192, 192),preserve_aspect_ratio=False)\n",
    "    \n",
    "    return img_o,msk_o\n",
    "    \n",
    "\n",
    "@tf.function\n",
    "def rotate_clk_img_and_msk(img, msk):\n",
    "    angles_tensor = tf.constant([4, 6, 8, 10, 12, 14, 16, 18, 20], dtype=tf.float32)\n",
    "    angle = tf.random.shuffle(angles_tensor)[0]\n",
    "    # Image\n",
    "    img_o = tfa.image.rotate(images = img,angles = angle,interpolation = \"nearest\",fill_mode = \"reflect\",fill_value = 0.0)\n",
    "    # Label\n",
    "    msk_o = tfa.image.rotate(images = msk,angles = angle,interpolation = \"nearest\",fill_mode = \"reflect\",fill_value = 0.0)\n",
    "    \n",
    "    return img_o, msk_o\n",
    "\n",
    "@tf.function\n",
    "def rotate_cclk_img_and_msk(img, msk):\n",
    "    angles_tensor = tf.constant([-20, -18, -16, -14, -12, -10, -8, -6, -4],dtype=tf.float32)\n",
    "    angle = tf.random.shuffle(angles_tensor)[0]\n",
    "    # Image\n",
    "    img_o = tfa.image.rotate(images = img,angles = angle,interpolation = \"nearest\",fill_mode = \"reflect\",fill_value = 0.0)\n",
    "    # Label\n",
    "    msk_o = tfa.image.rotate(images = msk,angles = angle,interpolation = \"nearest\",fill_mode = \"reflect\",fill_value = 0.0)\n",
    "    \n",
    "    return img_o, msk_o\n",
    "\n",
    "@tf.function\n",
    "def flipping_img_and_msk(img, msk):\n",
    "    img_o = tf.image.flip_left_right(img)\n",
    "    img_o = tf.image.flip_up_down(img)\n",
    "    \n",
    "    msk_o = tf.image.flip_left_right(msk)\n",
    "    msk_o = tf.image.flip_up_down(msk)\n",
    "    \n",
    "    return img_o,msk_o\n",
    "\n",
    "\n",
    "    \n",
    "@tf.function\n",
    "def zoom_img_and_msk(img, msk,height = 512,width = 512):\n",
    "\n",
    "    zoom_factor_tensor = tf.constant([1.2, 1.5, 1.8, 2, 2.2, 2.5], dtype=tf.float32)  # currently doesn't have zoom out!\n",
    "    zoom_factor = tf.random.shuffle(zoom_factor_tensor)[0]\n",
    "    # print(\"*-*-*-*-*-*\")\n",
    "    # print(img.shape)\n",
    "    #h,w,c = img.shape\n",
    "    # h = height\n",
    "    # w = width\n",
    "    h = tf.cast(height,dtype= tf.int32)\n",
    "    w = tf.cast(width,dtype= tf.int32)\n",
    "    \n",
    "    # img = tf.cast(img, dtype=tf.float32)\n",
    "    # msk = tf.cast(msk, dtype=tf.float32)\n",
    "    \n",
    "\n",
    "    # width and height of the zoomed image\n",
    "    zh = tf.math.multiply(zoom_factor, tf.cast(h, dtype=tf.float32))\n",
    "    zh = tf.cast(zh,dtype= tf.int32)\n",
    "    \n",
    "    zw = tf.math.multiply(zoom_factor, tf.cast(w, dtype=tf.float32))\n",
    "    zw = tf.cast(zw,dtype= tf.int32)\n",
    "    \n",
    "    # zh = int(np.round(zoom_factor * h))\n",
    "    # zw = int(np.round(zoom_factor * w))\n",
    "\n",
    "    img = tf.image.resize(img,(zh, zw),preserve_aspect_ratio=False)\n",
    "    msk = tf.image.resize(msk,(zh, zw),preserve_aspect_ratio=False)\n",
    "    \n",
    "    region_tensor = tf.constant([0, 1, 2, 3, 4],dtype= tf.float32)\n",
    "    region = tf.random.shuffle(region_tensor)[0]\n",
    "\n",
    "    # zooming out\n",
    "    # tf.print(\"before zoom\")\n",
    "    # tf.print(img.dtype)\n",
    "    \n",
    "    if tf.math.less_equal(zoom_factor, tf.constant(1, dtype= tf.float32)):\n",
    "        outimg = img\n",
    "        outmsk = msk\n",
    "        \n",
    "        # tf.print(\"zoom 1\")\n",
    "        # tf.print(img.dtype)\n",
    "\n",
    "    # zooming in\n",
    "    # else:\n",
    "    #     # Initializing\n",
    "    #     outimg = tf.zeros_like(img, dtype=tf.float32, name=None)\n",
    "    #     outmsk = tf.zeros_like(msk, dtype=tf.float32, name=None)\n",
    "        # bounding box of the clipped region within the input array\n",
    "    elif tf.math.equal(region, tf.constant(0,dtype= tf.float32)):\n",
    "        outimg = img[0:h, 0:w,:]\n",
    "        outmsk = msk[0:h, 0:w,:]\n",
    "        \n",
    "        # tf.print(\"zoom 0\")\n",
    "        # tf.print(img.dtype)\n",
    "        \n",
    "    elif tf.math.equal(region, tf.constant(1,dtype= tf.float32)):\n",
    "        outimg = img[0:h, zw - w:zw,:]\n",
    "        outmsk = msk[0:h, zw - w:zw,:]\n",
    "        \n",
    "        # tf.print(\"zoom 11\")\n",
    "        # tf.print(img.dtype)\n",
    "        \n",
    "    elif tf.math.equal(region, tf.constant(2,dtype= tf.float32)):\n",
    "        outimg = img[zh - h:zh, 0:w,:]\n",
    "        outmsk = msk[zh - h:zh, 0:w,:]\n",
    "        \n",
    "        # tf.print(\"zoom 2\")\n",
    "        # tf.print(img.dtype)\n",
    "        \n",
    "    elif tf.math.equal(region, tf.constant(3,dtype= tf.float32)):\n",
    "        outimg = img[zh - h:zh, zw - w:zw,:]\n",
    "        outmsk = msk[zh - h:zh, zw - w:zw,:]\n",
    "        \n",
    "        # tf.print(\"zoom 3\")\n",
    "        # tf.print(img.dtype)\n",
    "        \n",
    "    # if tf.math.equal(region, tf.constant(4,dtype= tf.float32)):\n",
    "\n",
    "    else:\n",
    "        # tf.print(\"zoom 4\")\n",
    "        # tf.print(img.dtype)\n",
    "        \n",
    "        marh = tf.math.floordiv( h, tf.constant(2))\n",
    "        marw = tf.math.floordiv( w, tf.constant(2))\n",
    "\n",
    "        zh_div = tf.math.floordiv( zh, tf.constant(2))\n",
    "        zw_div = tf.math.floordiv( zw, tf.constant(2))\n",
    "\n",
    "        zh_div_add = tf.math.add( zh_div, marh)\n",
    "        zh_div_minus = tf.math.subtract( zh_div, marh)\n",
    "\n",
    "        zw_div_add = tf.math.add( zw_div, marw)\n",
    "        zw_div_minus = tf.math.subtract( zw_div, marw)\n",
    "\n",
    "        outimg = img[zh_div_minus:zw_div_add, zw_div_minus:zw_div_add,:]\n",
    "        outmsk = msk[zh_div_minus:zw_div_add, zw_div_minus:zw_div_add,:]\n",
    "\n",
    "        # outimg = img[(zh // 2 - marh):(zh // 2 + marh), (zw // 2 - marw):(zw // 2 + marw),:]\n",
    "        # outmsk = msk[(zh // 2 - marh):(zh // 2 + marh), (zw // 2 - marw):(zw // 2 + marw),:]\n",
    "\n",
    "    # to make sure the output is in the same size of the input\n",
    "    img_o = tf.image.resize(outimg,(h, w),preserve_aspect_ratio=False)\n",
    "    msk_o = tf.image.resize(outmsk,(h, w),preserve_aspect_ratio=False)\n",
    "    return img_o, msk_o\n",
    "\n",
    "\n",
    "@tf.function\n",
    "def data_augmentation(img, msk):\n",
    "    \n",
    "    coin_rotate_clk_img_and_msk = tf.random.uniform(shape = (1,1), minval=0, maxval=1, dtype=tf.dtypes.float32, seed=None, name=None)\n",
    "    coin_rotate_cclk_img_and_msk = tf.random.uniform(shape = (1,1), minval=0, maxval=1, dtype=tf.dtypes.float32, seed=None, name=None)\n",
    "    coin_flipping_img_and_msk = tf.random.uniform(shape = (1,1), minval=0, maxval=1, dtype=tf.dtypes.float32, seed=None, name=None)\n",
    "    coin_zoom_img_and_msk = tf.random.uniform(shape = (1,1), minval=0, maxval=1, dtype=tf.dtypes.float32, seed=None, name=None)\n",
    "\n",
    "    # rotate_clk_img_and_msk\n",
    "    if tf.math.greater_equal(coin_rotate_clk_img_and_msk, tf.constant(0.5)):\n",
    "        # tf.print(tf.constant(\"rotate_clk_img_and_msk\"))\n",
    "        # tf.print(coin_rotate_clk_img_and_msk)\n",
    "        img,msk = rotate_clk_img_and_msk(img, msk)\n",
    "    \n",
    "    # rotate_cclk_img_and_msk\n",
    "    if tf.math.greater_equal(coin_rotate_cclk_img_and_msk, tf.constant(0.5)):\n",
    "        # tf.print(tf.constant(\"rotate_cclk_img_and_msk\"))\n",
    "        # tf.print(coin_rotate_cclk_img_and_msk)\n",
    "        img,msk = rotate_cclk_img_and_msk(img, msk)\n",
    "        \n",
    "    # flipping_img_and_msk\n",
    "    # rotate_cclk_img_and_msk\n",
    "    if tf.math.greater_equal(coin_flipping_img_and_msk, tf.constant(0.5)):\n",
    "        # tf.print(tf.constant(\"flipping_img_and_msk\"))\n",
    "        # tf.print(coin_flipping_img_and_msk)\n",
    "        img,msk = flipping_img_and_msk(img, msk)\n",
    "    \n",
    "    # zoom_img_and_msk\n",
    "    if tf.math.greater_equal(coin_zoom_img_and_msk, tf.constant(0.5)):\n",
    "        # tf.print(tf.constant(\"coin_zoom_img_and_msk\"))\n",
    "        # tf.print(coin_zoom_img_and_msk)\n",
    "        img,msk = zoom_img_and_msk(img, msk,height = IMG_HEIGHT,width = IMG_WIDTH)\n",
    "    \n",
    "    return img,msk\n",
    "\n",
    "def load_dataset(file_paths, reshape = False,buffer_size = 1000, batch_size = 12,training = True, num_epochs = EPOCHS):\n",
    "    AUTOTUNE = tf.data.experimental.AUTOTUNE\n",
    "    \n",
    "    dataset = tf.data.TextLineDataset(filenames=file_paths)\n",
    "    dataset = dataset.skip(1).map(parser).cache()\n",
    "    \n",
    "    # reshape\n",
    "    if reshape == True:\n",
    "        dataset = dataset.map(img_reshape)\n",
    "    \n",
    "    dataset = dataset.map(data_augmentation)\n",
    "    \n",
    "    if training == True:\n",
    "        dataset = dataset.shuffle(buffer_size =buffer_size)\n",
    "        dataset = dataset.repeat(count=num_epochs)\n",
    "    else:\n",
    "        dataset = dataset.repeat(count=1)\n",
    "        \n",
    "    dataset = dataset.batch(batch_size = batch_size,drop_remainder = False).prefetch(buffer_size=AUTOTUNE)\n",
    "    \n",
    "    return dataset\n",
    "    \n",
    "\n"
   ]
  },
  {
   "cell_type": "code",
   "execution_count": 8,
   "id": "bafc617d-694f-4a06-a6aa-85a919ead701",
   "metadata": {},
   "outputs": [],
   "source": [
    "from tensorflow.keras import backend as K\n",
    "from tensorflow import keras\n",
    "\n",
    "smooth = 0.0000001\n",
    "\n",
    "\n",
    "def jacc_coef(y_true, y_pred):\n",
    "    y_true_f = K.flatten(y_true)\n",
    "    y_pred_f = K.flatten(y_pred)\n",
    "    intersection = K.sum(y_true_f * y_pred_f)\n",
    "    return 1 - ((intersection + smooth) / (K.sum(y_true_f) + K.sum(y_pred_f) - intersection + smooth))\n",
    "\n",
    "\n",
    "class ADAMLearningRateTracker(keras.callbacks.Callback):\n",
    "    \"\"\"It prints out the last used learning rate after each epoch (useful for resuming a training)\n",
    "    original code: https://github.com/keras-team/keras/issues/7874#issuecomment-329347949\n",
    "    \"\"\"\n",
    "\n",
    "    def __init__(self, end_lr):\n",
    "        super(ADAMLearningRateTracker, self).__init__()\n",
    "        self.end_lr = end_lr\n",
    "\n",
    "    def on_epoch_end(self, epoch, logs={}):  # works only when decay in optimizer is zero\n",
    "        optimizer = self.model.optimizer\n",
    "        # t = K.cast(optimizer.iterations, K.floatx()) + 1\n",
    "        # lr_t = K.eval(optimizer.lr * (K.sqrt(1. - K.pow(optimizer.beta_2, t)) /\n",
    "        #                               (1. - K.pow(optimizer.beta_1, t))))\n",
    "        # print('\\n***The last Actual Learning rate in this epoch is:', lr_t,'***\\n')\n",
    "        print('\\n***The last Basic Learning rate in this epoch is:', K.eval(optimizer.lr), '***\\n')\n",
    "        # stops the training if the basic lr is less than or equal to end_learning_rate\n",
    "        if K.eval(optimizer.lr) <= self.end_lr:\n",
    "            print(\"training is finished\")\n",
    "            self.model.stop_training = True"
   ]
  },
  {
   "cell_type": "code",
   "execution_count": 9,
   "id": "dd5cddb6-c0df-43ad-9ebf-63c17df1a714",
   "metadata": {},
   "outputs": [],
   "source": [
    "from tensorflow.keras.models import Model\n",
    "from tensorflow.keras.layers import Input, concatenate, Conv2D, MaxPooling2D, Conv2DTranspose, BatchNormalization,\\\n",
    "    Activation, Dropout\n",
    "from tensorflow import  keras\n",
    "\n",
    "\"\"\"\n",
    "Some parts borrowed from https://www.kaggle.com/cjansen/u-net-in-keras\n",
    "\"\"\"\n",
    "\n",
    "\n",
    "def bn_relu(input_tensor):\n",
    "    \"\"\"It adds a Batch_normalization layer before a Relu\n",
    "    \"\"\"\n",
    "    input_tensor = BatchNormalization(axis=3)(input_tensor)\n",
    "    return Activation(\"relu\")(input_tensor)\n",
    "\n",
    "\n",
    "def contr_arm(input_tensor, filters, kernel_size):\n",
    "    \"\"\"It adds a feedforward signal to the output of two following conv layers in contracting path\n",
    "       TO DO: remove keras.layers.add and replace it with add only\n",
    "    \"\"\"\n",
    "\n",
    "    x = Conv2D(filters, kernel_size, padding='same')(input_tensor)\n",
    "    x = bn_relu(x)\n",
    "\n",
    "    x = Conv2D(filters, kernel_size, padding='same')(x)\n",
    "    x = bn_relu(x)\n",
    "\n",
    "    filters_b = filters // 2\n",
    "    kernel_size_b = (kernel_size[0]-2, kernel_size[0]-2)  # creates a kernl size of (1,1) out of (3,3)\n",
    "\n",
    "    x1 = Conv2D(filters_b, kernel_size_b, padding='same')(input_tensor)\n",
    "    x1 = bn_relu(x1)\n",
    "\n",
    "    x1 = concatenate([input_tensor, x1], axis=3)\n",
    "    x = keras.layers.add([x, x1])\n",
    "    x = Activation(\"relu\")(x)\n",
    "    return x\n",
    "\n",
    "\n",
    "def imprv_contr_arm(input_tensor, filters, kernel_size ):\n",
    "    \"\"\"It adds a feedforward signal to the output of two following conv layers in contracting path\n",
    "    \"\"\"\n",
    "\n",
    "    x = Conv2D(filters, kernel_size, padding='same')(input_tensor)\n",
    "    x = bn_relu(x)\n",
    "\n",
    "    x0 = Conv2D(filters, kernel_size, padding='same')(x)\n",
    "    x0 = bn_relu(x0)\n",
    "\n",
    "    x = Conv2D(filters, kernel_size, padding='same')(x0)\n",
    "    x = bn_relu(x)\n",
    "\n",
    "    filters_b = filters // 2\n",
    "    kernel_size_b = (kernel_size[0]-2, kernel_size[0]-2)  # creates a kernl size of (1,1) out of (3,3)\n",
    "\n",
    "    x1 = Conv2D(filters_b, kernel_size_b, padding='same')(input_tensor)\n",
    "    x1 = bn_relu(x1)\n",
    "\n",
    "    x1 = concatenate([input_tensor, x1], axis=3)\n",
    "\n",
    "    x2 = Conv2D(filters, kernel_size_b, padding='same')(x0)\n",
    "    x2 = bn_relu(x2)\n",
    "\n",
    "    x = keras.layers.add([x, x1, x2])\n",
    "    x = Activation(\"relu\")(x)\n",
    "    return x\n",
    "\n",
    "\n",
    "def bridge(input_tensor, filters, kernel_size):\n",
    "    \"\"\"It is exactly like the identity_block plus a dropout layer. This block only uses in the valley of the UNet\n",
    "    \"\"\"\n",
    "\n",
    "    x = Conv2D(filters, kernel_size, padding='same')(input_tensor)\n",
    "    x = bn_relu(x)\n",
    "\n",
    "    x = Conv2D(filters, kernel_size, padding='same')(x)\n",
    "    x = Dropout(.15)(x)\n",
    "    x = bn_relu(x)\n",
    "\n",
    "    filters_b = filters // 2\n",
    "    kernel_size_b = (kernel_size[0]-2, kernel_size[0]-2)  # creates a kernl size of (1,1) out of (3,3)\n",
    "\n",
    "    x1 = Conv2D(filters_b, kernel_size_b, padding='same')(input_tensor)\n",
    "    x1 = bn_relu(x1)\n",
    "\n",
    "    x1 = concatenate([input_tensor, x1], axis=3)\n",
    "    x = keras.layers.add([x, x1])\n",
    "    x = Activation(\"relu\")(x)\n",
    "    return x\n",
    "\n",
    "\n",
    "def conv_block_exp_path(input_tensor, filters, kernel_size):\n",
    "    \"\"\"It Is only the convolution part inside each expanding path's block\n",
    "    \"\"\"\n",
    "\n",
    "    x = Conv2D(filters, kernel_size, padding='same')(input_tensor)\n",
    "    x = bn_relu(x)\n",
    "\n",
    "    x = Conv2D(filters, kernel_size, padding='same')(x)\n",
    "    x = bn_relu(x)\n",
    "    return x\n",
    "\n",
    "\n",
    "def conv_block_exp_path3(input_tensor, filters, kernel_size):\n",
    "    \"\"\"It Is only the convolution part inside each expanding path's block\n",
    "    \"\"\"\n",
    "\n",
    "    x = Conv2D(filters, kernel_size, padding='same')(input_tensor)\n",
    "    x = bn_relu(x)\n",
    "\n",
    "    x = Conv2D(filters, kernel_size, padding='same')(x)\n",
    "    x = bn_relu(x)\n",
    "\n",
    "    x = Conv2D(filters, kernel_size, padding='same')(x)\n",
    "    x = bn_relu(x)\n",
    "    return x\n",
    "\n",
    "\n",
    "def add_block_exp_path(input_tensor1, input_tensor2, input_tensor3):\n",
    "    \"\"\"It is for adding two feed forwards to the output of the two following conv layers in expanding path\n",
    "    \"\"\"\n",
    "\n",
    "    x = keras.layers.add([input_tensor1, input_tensor2, input_tensor3])\n",
    "    x = Activation(\"relu\")(x)\n",
    "    return x\n",
    "\n",
    "\n",
    "def improve_ff_block4(input_tensor1, input_tensor2 ,input_tensor3, input_tensor4, pure_ff):\n",
    "    \"\"\"It improves the skip connection by using previous layers feature maps\n",
    "       TO DO: shrink all of ff blocks in one function/class\n",
    "    \"\"\"\n",
    "\n",
    "    for ix in range(1):\n",
    "        if ix == 0:\n",
    "            x1 = input_tensor1\n",
    "        x1 = concatenate([x1, input_tensor1], axis=3)\n",
    "    x1 = MaxPooling2D(pool_size=(2, 2))(x1)\n",
    "\n",
    "    for ix in range(3):\n",
    "        if ix == 0:\n",
    "            x2 = input_tensor2\n",
    "        x2 = concatenate([x2, input_tensor2], axis=3)\n",
    "    x2 = MaxPooling2D(pool_size=(4, 4))(x2)\n",
    "\n",
    "    for ix in range(7):\n",
    "        if ix == 0:\n",
    "            x3 = input_tensor3\n",
    "        x3 = concatenate([x3, input_tensor3], axis=3)\n",
    "    x3 = MaxPooling2D(pool_size=(8, 8))(x3)\n",
    "\n",
    "    for ix in range(15):\n",
    "        if ix == 0:\n",
    "            x4 = input_tensor4\n",
    "        x4 = concatenate([x4, input_tensor4], axis=3)\n",
    "    x4 = MaxPooling2D(pool_size=(16, 16))(x4)\n",
    "\n",
    "    x = keras.layers.add([x1, x2, x3, x4, pure_ff])\n",
    "    x = Activation(\"relu\")(x)\n",
    "    return x\n",
    "\n",
    "\n",
    "def improve_ff_block3(input_tensor1, input_tensor2, input_tensor3, pure_ff):\n",
    "    \"\"\"It improves the skip connection by using previous layers feature maps\n",
    "    \"\"\"\n",
    "\n",
    "    for ix in range(1):\n",
    "        if ix == 0:\n",
    "            x1 = input_tensor1\n",
    "        x1 = concatenate([x1, input_tensor1], axis=3)\n",
    "    x1 = MaxPooling2D(pool_size=(2, 2))(x1)\n",
    "\n",
    "    for ix in range(3):\n",
    "        if ix == 0:\n",
    "            x2 = input_tensor2\n",
    "        x2 = concatenate([x2, input_tensor2], axis=3)\n",
    "    x2 = MaxPooling2D(pool_size=(4, 4))(x2)\n",
    "\n",
    "    for ix in range(7):\n",
    "        if ix == 0:\n",
    "            x3 = input_tensor3\n",
    "        x3 = concatenate([x3, input_tensor3], axis=3)\n",
    "    x3 = MaxPooling2D(pool_size=(8, 8))(x3)\n",
    "\n",
    "    x = keras.layers.add([x1, x2, x3, pure_ff])\n",
    "    x = Activation(\"relu\")(x)\n",
    "    return x\n",
    "\n",
    "\n",
    "def improve_ff_block2(input_tensor1, input_tensor2, pure_ff):\n",
    "    \"\"\"It improves the skip connection by using previous layers feature maps\n",
    "    \"\"\"\n",
    "\n",
    "    for ix in range(1):\n",
    "        if ix == 0:\n",
    "            x1 = input_tensor1\n",
    "        x1 = concatenate([x1, input_tensor1], axis=3)\n",
    "    x1 = MaxPooling2D(pool_size=(2, 2))(x1)\n",
    "\n",
    "    for ix in range(3):\n",
    "        if ix == 0:\n",
    "            x2 = input_tensor2\n",
    "        x2 = concatenate([x2, input_tensor2], axis=3)\n",
    "    x2 = MaxPooling2D(pool_size=(4, 4))(x2)\n",
    "\n",
    "    x = keras.layers.add([x1, x2, pure_ff])\n",
    "    x = Activation(\"relu\")(x)\n",
    "    return x\n",
    "\n",
    "\n",
    "def improve_ff_block1(input_tensor1, pure_ff):\n",
    "    \"\"\"It improves the skip connection by using previous layers feature maps\n",
    "    \"\"\"\n",
    "\n",
    "    for ix in range(1):\n",
    "        if ix == 0:\n",
    "            x1 = input_tensor1\n",
    "        x1 = concatenate([x1, input_tensor1], axis=3)\n",
    "    x1 = MaxPooling2D(pool_size=(2, 2))(x1)\n",
    "\n",
    "    x = keras.layers.add([x1, pure_ff])\n",
    "    x = Activation(\"relu\")(x)\n",
    "    return x\n",
    "\n",
    "\n",
    "def model_arch(input_rows=192, input_cols=192, num_of_channels=4, num_of_classes=1):\n",
    "    inputs = Input((input_rows, input_cols, num_of_channels))\n",
    "    conv1 = Conv2D(16, (3, 3), activation='relu', padding='same')(inputs)\n",
    "\n",
    "    conv1 = contr_arm(conv1, 32, (3, 3))\n",
    "    pool1 = MaxPooling2D(pool_size=(2, 2))(conv1)\n",
    "\n",
    "    conv2 = contr_arm(pool1, 64, (3, 3))\n",
    "    pool2 = MaxPooling2D(pool_size=(2, 2))(conv2)\n",
    "\n",
    "    conv3 = contr_arm(pool2, 128, (3, 3))\n",
    "    pool3 = MaxPooling2D(pool_size=(2, 2))(conv3)\n",
    "\n",
    "    conv4 = contr_arm(pool3, 256, (3, 3))\n",
    "    pool4 = MaxPooling2D(pool_size=(2, 2))(conv4)\n",
    "\n",
    "    conv5 = imprv_contr_arm(pool4, 512, (3, 3))\n",
    "    pool5 = MaxPooling2D(pool_size=(2, 2))(conv5)\n",
    "\n",
    "    conv6 = bridge(pool5, 1024, (3, 3))\n",
    "\n",
    "    convT7 = Conv2DTranspose(512, (2, 2), strides=(2, 2), padding='same')(conv6)\n",
    "    prevup7 = improve_ff_block4(input_tensor1=conv4, input_tensor2=conv3, input_tensor3=conv2, input_tensor4=conv1, pure_ff=conv5)\n",
    "    up7 = concatenate([convT7, prevup7], axis=3)\n",
    "    conv7 = conv_block_exp_path3(input_tensor=up7, filters=512, kernel_size=(3, 3))\n",
    "    conv7 = add_block_exp_path(conv7, conv5, convT7)\n",
    "\n",
    "    convT8 = Conv2DTranspose(256, (2, 2), strides=(2, 2), padding='same')(conv7)\n",
    "    prevup8 = improve_ff_block3(input_tensor1=conv3, input_tensor2=conv2, input_tensor3=conv1, pure_ff=conv4)\n",
    "    up8 = concatenate([convT8, prevup8], axis=3)\n",
    "    conv8 = conv_block_exp_path(input_tensor=up8, filters=256, kernel_size=(3, 3))\n",
    "    conv8 = add_block_exp_path(input_tensor1=conv8, input_tensor2=conv4, input_tensor3=convT8)\n",
    "\n",
    "    convT9 = Conv2DTranspose(128, (2, 2), strides=(2, 2), padding='same')(conv8)\n",
    "    prevup9 = improve_ff_block2(input_tensor1=conv2, input_tensor2=conv1, pure_ff=conv3)\n",
    "    up9 = concatenate([convT9, prevup9], axis=3)\n",
    "    conv9 = conv_block_exp_path(input_tensor=up9, filters=128, kernel_size=(3, 3))\n",
    "    conv9 = add_block_exp_path(input_tensor1=conv9, input_tensor2=conv3, input_tensor3=convT9)\n",
    "\n",
    "    convT10 = Conv2DTranspose(64, (2, 2), strides=(2, 2), padding='same')(conv9)\n",
    "    prevup10 = improve_ff_block1(input_tensor1=conv1, pure_ff=conv2)\n",
    "    up10 = concatenate([convT10, prevup10], axis=3)\n",
    "    conv10 = conv_block_exp_path(input_tensor=up10, filters=64, kernel_size=(3, 3))\n",
    "    conv10 = add_block_exp_path(input_tensor1=conv10, input_tensor2=conv2, input_tensor3=convT10)\n",
    "\n",
    "    convT11 = Conv2DTranspose(32, (2, 2), strides=(2, 2), padding='same')(conv10)\n",
    "    up11 = concatenate([convT11, conv1], axis=3)\n",
    "    conv11 = conv_block_exp_path(input_tensor=up11, filters=32, kernel_size=(3, 3))\n",
    "    conv11 = add_block_exp_path(input_tensor1=conv11, input_tensor2=conv1, input_tensor3=convT11)\n",
    "\n",
    "    conv12 = Conv2D(num_of_classes, (1, 1), activation='sigmoid')(conv11)\n",
    "\n",
    "    return Model(inputs=[inputs], outputs=[conv12])\n"
   ]
  },
  {
   "cell_type": "code",
   "execution_count": 10,
   "id": "6b314c47-3637-4f63-82ac-f5bc9eae8e01",
   "metadata": {},
   "outputs": [],
   "source": [
    "tf.config.run_functions_eagerly(False)"
   ]
  },
  {
   "cell_type": "code",
   "execution_count": 11,
   "id": "ce10cf04-43ec-4f81-bcdd-bd2faaf18e0c",
   "metadata": {},
   "outputs": [],
   "source": [
    "train_dataset = load_dataset(file_paths= TRAIN_DATA_PATH, training = True,reshape= True, num_epochs=2)\n",
    "val_dataset = load_dataset(file_paths= VAL_DATA_PATH, training = False,reshape= True)"
   ]
  },
  {
   "cell_type": "code",
   "execution_count": 12,
   "id": "d698e2dd-eb35-442e-85e8-35561449a707",
   "metadata": {},
   "outputs": [],
   "source": [
    "import pandas as pd"
   ]
  },
  {
   "cell_type": "code",
   "execution_count": 40,
   "id": "4a6d110e-8785-4f15-9b4d-b15d41ddd75b",
   "metadata": {},
   "outputs": [],
   "source": [
    "train = pd.read_csv(TRAIN_DATA_PATH, sep = \";\")"
   ]
  },
  {
   "cell_type": "code",
   "execution_count": 41,
   "id": "6fba8726-b16d-4b70-9937-7009ee9391d4",
   "metadata": {},
   "outputs": [
    {
     "data": {
      "text/html": [
       "<div>\n",
       "<style scoped>\n",
       "    .dataframe tbody tr th:only-of-type {\n",
       "        vertical-align: middle;\n",
       "    }\n",
       "\n",
       "    .dataframe tbody tr th {\n",
       "        vertical-align: top;\n",
       "    }\n",
       "\n",
       "    .dataframe thead th {\n",
       "        text-align: right;\n",
       "    }\n",
       "</style>\n",
       "<table border=\"1\" class=\"dataframe\">\n",
       "  <thead>\n",
       "    <tr style=\"text-align: right;\">\n",
       "      <th></th>\n",
       "      <th>chip_id</th>\n",
       "      <th>B02_path</th>\n",
       "      <th>B03_path</th>\n",
       "      <th>B04_path</th>\n",
       "      <th>B08_path</th>\n",
       "      <th>label_path</th>\n",
       "    </tr>\n",
       "  </thead>\n",
       "  <tbody>\n",
       "    <tr>\n",
       "      <th>0</th>\n",
       "      <td>adwp</td>\n",
       "      <td>/home/windact/cloud_detection/data/train_featu...</td>\n",
       "      <td>/home/windact/cloud_detection/data/train_featu...</td>\n",
       "      <td>/home/windact/cloud_detection/data/train_featu...</td>\n",
       "      <td>/home/windact/cloud_detection/data/train_featu...</td>\n",
       "      <td>/home/windact/cloud_detection/data/train_label...</td>\n",
       "    </tr>\n",
       "    <tr>\n",
       "      <th>1</th>\n",
       "      <td>adwu</td>\n",
       "      <td>/home/windact/cloud_detection/data/train_featu...</td>\n",
       "      <td>/home/windact/cloud_detection/data/train_featu...</td>\n",
       "      <td>/home/windact/cloud_detection/data/train_featu...</td>\n",
       "      <td>/home/windact/cloud_detection/data/train_featu...</td>\n",
       "      <td>/home/windact/cloud_detection/data/train_label...</td>\n",
       "    </tr>\n",
       "    <tr>\n",
       "      <th>2</th>\n",
       "      <td>adwz</td>\n",
       "      <td>/home/windact/cloud_detection/data/train_featu...</td>\n",
       "      <td>/home/windact/cloud_detection/data/train_featu...</td>\n",
       "      <td>/home/windact/cloud_detection/data/train_featu...</td>\n",
       "      <td>/home/windact/cloud_detection/data/train_featu...</td>\n",
       "      <td>/home/windact/cloud_detection/data/train_label...</td>\n",
       "    </tr>\n",
       "    <tr>\n",
       "      <th>3</th>\n",
       "      <td>adxp</td>\n",
       "      <td>/home/windact/cloud_detection/data/train_featu...</td>\n",
       "      <td>/home/windact/cloud_detection/data/train_featu...</td>\n",
       "      <td>/home/windact/cloud_detection/data/train_featu...</td>\n",
       "      <td>/home/windact/cloud_detection/data/train_featu...</td>\n",
       "      <td>/home/windact/cloud_detection/data/train_label...</td>\n",
       "    </tr>\n",
       "    <tr>\n",
       "      <th>4</th>\n",
       "      <td>aeaj</td>\n",
       "      <td>/home/windact/cloud_detection/data/train_featu...</td>\n",
       "      <td>/home/windact/cloud_detection/data/train_featu...</td>\n",
       "      <td>/home/windact/cloud_detection/data/train_featu...</td>\n",
       "      <td>/home/windact/cloud_detection/data/train_featu...</td>\n",
       "      <td>/home/windact/cloud_detection/data/train_label...</td>\n",
       "    </tr>\n",
       "  </tbody>\n",
       "</table>\n",
       "</div>"
      ],
      "text/plain": [
       "  chip_id                                           B02_path  \\\n",
       "0    adwp  /home/windact/cloud_detection/data/train_featu...   \n",
       "1    adwu  /home/windact/cloud_detection/data/train_featu...   \n",
       "2    adwz  /home/windact/cloud_detection/data/train_featu...   \n",
       "3    adxp  /home/windact/cloud_detection/data/train_featu...   \n",
       "4    aeaj  /home/windact/cloud_detection/data/train_featu...   \n",
       "\n",
       "                                            B03_path  \\\n",
       "0  /home/windact/cloud_detection/data/train_featu...   \n",
       "1  /home/windact/cloud_detection/data/train_featu...   \n",
       "2  /home/windact/cloud_detection/data/train_featu...   \n",
       "3  /home/windact/cloud_detection/data/train_featu...   \n",
       "4  /home/windact/cloud_detection/data/train_featu...   \n",
       "\n",
       "                                            B04_path  \\\n",
       "0  /home/windact/cloud_detection/data/train_featu...   \n",
       "1  /home/windact/cloud_detection/data/train_featu...   \n",
       "2  /home/windact/cloud_detection/data/train_featu...   \n",
       "3  /home/windact/cloud_detection/data/train_featu...   \n",
       "4  /home/windact/cloud_detection/data/train_featu...   \n",
       "\n",
       "                                            B08_path  \\\n",
       "0  /home/windact/cloud_detection/data/train_featu...   \n",
       "1  /home/windact/cloud_detection/data/train_featu...   \n",
       "2  /home/windact/cloud_detection/data/train_featu...   \n",
       "3  /home/windact/cloud_detection/data/train_featu...   \n",
       "4  /home/windact/cloud_detection/data/train_featu...   \n",
       "\n",
       "                                          label_path  \n",
       "0  /home/windact/cloud_detection/data/train_label...  \n",
       "1  /home/windact/cloud_detection/data/train_label...  \n",
       "2  /home/windact/cloud_detection/data/train_label...  \n",
       "3  /home/windact/cloud_detection/data/train_label...  \n",
       "4  /home/windact/cloud_detection/data/train_label...  "
      ]
     },
     "execution_count": 41,
     "metadata": {},
     "output_type": "execute_result"
    }
   ],
   "source": [
    "train.head()"
   ]
  },
  {
   "cell_type": "code",
   "execution_count": 44,
   "id": "4ebfc814-a38c-47cb-8b42-b1a47098af0a",
   "metadata": {},
   "outputs": [
    {
     "data": {
      "text/html": [
       "<div>\n",
       "<style scoped>\n",
       "    .dataframe tbody tr th:only-of-type {\n",
       "        vertical-align: middle;\n",
       "    }\n",
       "\n",
       "    .dataframe tbody tr th {\n",
       "        vertical-align: top;\n",
       "    }\n",
       "\n",
       "    .dataframe thead th {\n",
       "        text-align: right;\n",
       "    }\n",
       "</style>\n",
       "<table border=\"1\" class=\"dataframe\">\n",
       "  <thead>\n",
       "    <tr style=\"text-align: right;\">\n",
       "      <th></th>\n",
       "      <th>chip_id</th>\n",
       "      <th>B02_path</th>\n",
       "      <th>B03_path</th>\n",
       "      <th>B04_path</th>\n",
       "      <th>B08_path</th>\n",
       "      <th>label_path</th>\n",
       "    </tr>\n",
       "  </thead>\n",
       "  <tbody>\n",
       "    <tr>\n",
       "      <th>0</th>\n",
       "      <td>xprk</td>\n",
       "      <td>/home/windact/cloud_detection/data/train_featu...</td>\n",
       "      <td>/home/windact/cloud_detection/data/train_featu...</td>\n",
       "      <td>/home/windact/cloud_detection/data/train_featu...</td>\n",
       "      <td>/home/windact/cloud_detection/data/train_featu...</td>\n",
       "      <td>/home/windact/cloud_detection/data/train_label...</td>\n",
       "    </tr>\n",
       "    <tr>\n",
       "      <th>1</th>\n",
       "      <td>bhpa</td>\n",
       "      <td>/home/windact/cloud_detection/data/train_featu...</td>\n",
       "      <td>/home/windact/cloud_detection/data/train_featu...</td>\n",
       "      <td>/home/windact/cloud_detection/data/train_featu...</td>\n",
       "      <td>/home/windact/cloud_detection/data/train_featu...</td>\n",
       "      <td>/home/windact/cloud_detection/data/train_label...</td>\n",
       "    </tr>\n",
       "    <tr>\n",
       "      <th>2</th>\n",
       "      <td>wjnh</td>\n",
       "      <td>/home/windact/cloud_detection/data/train_featu...</td>\n",
       "      <td>/home/windact/cloud_detection/data/train_featu...</td>\n",
       "      <td>/home/windact/cloud_detection/data/train_featu...</td>\n",
       "      <td>/home/windact/cloud_detection/data/train_featu...</td>\n",
       "      <td>/home/windact/cloud_detection/data/train_label...</td>\n",
       "    </tr>\n",
       "    <tr>\n",
       "      <th>3</th>\n",
       "      <td>snse</td>\n",
       "      <td>/home/windact/cloud_detection/data/train_featu...</td>\n",
       "      <td>/home/windact/cloud_detection/data/train_featu...</td>\n",
       "      <td>/home/windact/cloud_detection/data/train_featu...</td>\n",
       "      <td>/home/windact/cloud_detection/data/train_featu...</td>\n",
       "      <td>/home/windact/cloud_detection/data/train_label...</td>\n",
       "    </tr>\n",
       "    <tr>\n",
       "      <th>4</th>\n",
       "      <td>hpob</td>\n",
       "      <td>/home/windact/cloud_detection/data/train_featu...</td>\n",
       "      <td>/home/windact/cloud_detection/data/train_featu...</td>\n",
       "      <td>/home/windact/cloud_detection/data/train_featu...</td>\n",
       "      <td>/home/windact/cloud_detection/data/train_featu...</td>\n",
       "      <td>/home/windact/cloud_detection/data/train_label...</td>\n",
       "    </tr>\n",
       "  </tbody>\n",
       "</table>\n",
       "</div>"
      ],
      "text/plain": [
       "  chip_id                                           B02_path  \\\n",
       "0    xprk  /home/windact/cloud_detection/data/train_featu...   \n",
       "1    bhpa  /home/windact/cloud_detection/data/train_featu...   \n",
       "2    wjnh  /home/windact/cloud_detection/data/train_featu...   \n",
       "3    snse  /home/windact/cloud_detection/data/train_featu...   \n",
       "4    hpob  /home/windact/cloud_detection/data/train_featu...   \n",
       "\n",
       "                                            B03_path  \\\n",
       "0  /home/windact/cloud_detection/data/train_featu...   \n",
       "1  /home/windact/cloud_detection/data/train_featu...   \n",
       "2  /home/windact/cloud_detection/data/train_featu...   \n",
       "3  /home/windact/cloud_detection/data/train_featu...   \n",
       "4  /home/windact/cloud_detection/data/train_featu...   \n",
       "\n",
       "                                            B04_path  \\\n",
       "0  /home/windact/cloud_detection/data/train_featu...   \n",
       "1  /home/windact/cloud_detection/data/train_featu...   \n",
       "2  /home/windact/cloud_detection/data/train_featu...   \n",
       "3  /home/windact/cloud_detection/data/train_featu...   \n",
       "4  /home/windact/cloud_detection/data/train_featu...   \n",
       "\n",
       "                                            B08_path  \\\n",
       "0  /home/windact/cloud_detection/data/train_featu...   \n",
       "1  /home/windact/cloud_detection/data/train_featu...   \n",
       "2  /home/windact/cloud_detection/data/train_featu...   \n",
       "3  /home/windact/cloud_detection/data/train_featu...   \n",
       "4  /home/windact/cloud_detection/data/train_featu...   \n",
       "\n",
       "                                          label_path  \n",
       "0  /home/windact/cloud_detection/data/train_label...  \n",
       "1  /home/windact/cloud_detection/data/train_label...  \n",
       "2  /home/windact/cloud_detection/data/train_label...  \n",
       "3  /home/windact/cloud_detection/data/train_label...  \n",
       "4  /home/windact/cloud_detection/data/train_label...  "
      ]
     },
     "execution_count": 44,
     "metadata": {},
     "output_type": "execute_result"
    }
   ],
   "source": [
    "train_sample = train.sample(n = 100,replace = False, random_state=42)\n",
    "train_sample = train_sample.reset_index(drop = True)\n",
    "train_sample.head()"
   ]
  },
  {
   "cell_type": "code",
   "execution_count": 45,
   "id": "24b2f588-9cb6-4d6f-a9ab-ed192387a1ca",
   "metadata": {},
   "outputs": [],
   "source": [
    "val = pd.read_csv(VAL_DATA_PATH, sep = \";\")"
   ]
  },
  {
   "cell_type": "code",
   "execution_count": 46,
   "id": "42db7cfb-9faf-4ba8-8c7e-6d71fed91da7",
   "metadata": {},
   "outputs": [
    {
     "data": {
      "text/html": [
       "<div>\n",
       "<style scoped>\n",
       "    .dataframe tbody tr th:only-of-type {\n",
       "        vertical-align: middle;\n",
       "    }\n",
       "\n",
       "    .dataframe tbody tr th {\n",
       "        vertical-align: top;\n",
       "    }\n",
       "\n",
       "    .dataframe thead th {\n",
       "        text-align: right;\n",
       "    }\n",
       "</style>\n",
       "<table border=\"1\" class=\"dataframe\">\n",
       "  <thead>\n",
       "    <tr style=\"text-align: right;\">\n",
       "      <th></th>\n",
       "      <th>chip_id</th>\n",
       "      <th>B02_path</th>\n",
       "      <th>B03_path</th>\n",
       "      <th>B04_path</th>\n",
       "      <th>B08_path</th>\n",
       "      <th>label_path</th>\n",
       "    </tr>\n",
       "  </thead>\n",
       "  <tbody>\n",
       "    <tr>\n",
       "      <th>0</th>\n",
       "      <td>aebi</td>\n",
       "      <td>/home/windact/cloud_detection/data/train_featu...</td>\n",
       "      <td>/home/windact/cloud_detection/data/train_featu...</td>\n",
       "      <td>/home/windact/cloud_detection/data/train_featu...</td>\n",
       "      <td>/home/windact/cloud_detection/data/train_featu...</td>\n",
       "      <td>/home/windact/cloud_detection/data/train_label...</td>\n",
       "    </tr>\n",
       "    <tr>\n",
       "      <th>1</th>\n",
       "      <td>aeey</td>\n",
       "      <td>/home/windact/cloud_detection/data/train_featu...</td>\n",
       "      <td>/home/windact/cloud_detection/data/train_featu...</td>\n",
       "      <td>/home/windact/cloud_detection/data/train_featu...</td>\n",
       "      <td>/home/windact/cloud_detection/data/train_featu...</td>\n",
       "      <td>/home/windact/cloud_detection/data/train_label...</td>\n",
       "    </tr>\n",
       "    <tr>\n",
       "      <th>2</th>\n",
       "      <td>aegb</td>\n",
       "      <td>/home/windact/cloud_detection/data/train_featu...</td>\n",
       "      <td>/home/windact/cloud_detection/data/train_featu...</td>\n",
       "      <td>/home/windact/cloud_detection/data/train_featu...</td>\n",
       "      <td>/home/windact/cloud_detection/data/train_featu...</td>\n",
       "      <td>/home/windact/cloud_detection/data/train_label...</td>\n",
       "    </tr>\n",
       "    <tr>\n",
       "      <th>3</th>\n",
       "      <td>aege</td>\n",
       "      <td>/home/windact/cloud_detection/data/train_featu...</td>\n",
       "      <td>/home/windact/cloud_detection/data/train_featu...</td>\n",
       "      <td>/home/windact/cloud_detection/data/train_featu...</td>\n",
       "      <td>/home/windact/cloud_detection/data/train_featu...</td>\n",
       "      <td>/home/windact/cloud_detection/data/train_label...</td>\n",
       "    </tr>\n",
       "    <tr>\n",
       "      <th>4</th>\n",
       "      <td>aejg</td>\n",
       "      <td>/home/windact/cloud_detection/data/train_featu...</td>\n",
       "      <td>/home/windact/cloud_detection/data/train_featu...</td>\n",
       "      <td>/home/windact/cloud_detection/data/train_featu...</td>\n",
       "      <td>/home/windact/cloud_detection/data/train_featu...</td>\n",
       "      <td>/home/windact/cloud_detection/data/train_label...</td>\n",
       "    </tr>\n",
       "  </tbody>\n",
       "</table>\n",
       "</div>"
      ],
      "text/plain": [
       "  chip_id                                           B02_path  \\\n",
       "0    aebi  /home/windact/cloud_detection/data/train_featu...   \n",
       "1    aeey  /home/windact/cloud_detection/data/train_featu...   \n",
       "2    aegb  /home/windact/cloud_detection/data/train_featu...   \n",
       "3    aege  /home/windact/cloud_detection/data/train_featu...   \n",
       "4    aejg  /home/windact/cloud_detection/data/train_featu...   \n",
       "\n",
       "                                            B03_path  \\\n",
       "0  /home/windact/cloud_detection/data/train_featu...   \n",
       "1  /home/windact/cloud_detection/data/train_featu...   \n",
       "2  /home/windact/cloud_detection/data/train_featu...   \n",
       "3  /home/windact/cloud_detection/data/train_featu...   \n",
       "4  /home/windact/cloud_detection/data/train_featu...   \n",
       "\n",
       "                                            B04_path  \\\n",
       "0  /home/windact/cloud_detection/data/train_featu...   \n",
       "1  /home/windact/cloud_detection/data/train_featu...   \n",
       "2  /home/windact/cloud_detection/data/train_featu...   \n",
       "3  /home/windact/cloud_detection/data/train_featu...   \n",
       "4  /home/windact/cloud_detection/data/train_featu...   \n",
       "\n",
       "                                            B08_path  \\\n",
       "0  /home/windact/cloud_detection/data/train_featu...   \n",
       "1  /home/windact/cloud_detection/data/train_featu...   \n",
       "2  /home/windact/cloud_detection/data/train_featu...   \n",
       "3  /home/windact/cloud_detection/data/train_featu...   \n",
       "4  /home/windact/cloud_detection/data/train_featu...   \n",
       "\n",
       "                                          label_path  \n",
       "0  /home/windact/cloud_detection/data/train_label...  \n",
       "1  /home/windact/cloud_detection/data/train_label...  \n",
       "2  /home/windact/cloud_detection/data/train_label...  \n",
       "3  /home/windact/cloud_detection/data/train_label...  \n",
       "4  /home/windact/cloud_detection/data/train_label...  "
      ]
     },
     "execution_count": 46,
     "metadata": {},
     "output_type": "execute_result"
    }
   ],
   "source": [
    "val.head()"
   ]
  },
  {
   "cell_type": "code",
   "execution_count": 48,
   "id": "e3669b39-4242-4780-a7e2-69ac625d8d13",
   "metadata": {},
   "outputs": [
    {
     "data": {
      "text/html": [
       "<div>\n",
       "<style scoped>\n",
       "    .dataframe tbody tr th:only-of-type {\n",
       "        vertical-align: middle;\n",
       "    }\n",
       "\n",
       "    .dataframe tbody tr th {\n",
       "        vertical-align: top;\n",
       "    }\n",
       "\n",
       "    .dataframe thead th {\n",
       "        text-align: right;\n",
       "    }\n",
       "</style>\n",
       "<table border=\"1\" class=\"dataframe\">\n",
       "  <thead>\n",
       "    <tr style=\"text-align: right;\">\n",
       "      <th></th>\n",
       "      <th>chip_id</th>\n",
       "      <th>B02_path</th>\n",
       "      <th>B03_path</th>\n",
       "      <th>B04_path</th>\n",
       "      <th>B08_path</th>\n",
       "      <th>label_path</th>\n",
       "    </tr>\n",
       "  </thead>\n",
       "  <tbody>\n",
       "    <tr>\n",
       "      <th>0</th>\n",
       "      <td>zbly</td>\n",
       "      <td>/home/windact/cloud_detection/data/train_featu...</td>\n",
       "      <td>/home/windact/cloud_detection/data/train_featu...</td>\n",
       "      <td>/home/windact/cloud_detection/data/train_featu...</td>\n",
       "      <td>/home/windact/cloud_detection/data/train_featu...</td>\n",
       "      <td>/home/windact/cloud_detection/data/train_label...</td>\n",
       "    </tr>\n",
       "    <tr>\n",
       "      <th>1</th>\n",
       "      <td>yuxu</td>\n",
       "      <td>/home/windact/cloud_detection/data/train_featu...</td>\n",
       "      <td>/home/windact/cloud_detection/data/train_featu...</td>\n",
       "      <td>/home/windact/cloud_detection/data/train_featu...</td>\n",
       "      <td>/home/windact/cloud_detection/data/train_featu...</td>\n",
       "      <td>/home/windact/cloud_detection/data/train_label...</td>\n",
       "    </tr>\n",
       "    <tr>\n",
       "      <th>2</th>\n",
       "      <td>qpal</td>\n",
       "      <td>/home/windact/cloud_detection/data/train_featu...</td>\n",
       "      <td>/home/windact/cloud_detection/data/train_featu...</td>\n",
       "      <td>/home/windact/cloud_detection/data/train_featu...</td>\n",
       "      <td>/home/windact/cloud_detection/data/train_featu...</td>\n",
       "      <td>/home/windact/cloud_detection/data/train_label...</td>\n",
       "    </tr>\n",
       "    <tr>\n",
       "      <th>3</th>\n",
       "      <td>rxgv</td>\n",
       "      <td>/home/windact/cloud_detection/data/train_featu...</td>\n",
       "      <td>/home/windact/cloud_detection/data/train_featu...</td>\n",
       "      <td>/home/windact/cloud_detection/data/train_featu...</td>\n",
       "      <td>/home/windact/cloud_detection/data/train_featu...</td>\n",
       "      <td>/home/windact/cloud_detection/data/train_label...</td>\n",
       "    </tr>\n",
       "    <tr>\n",
       "      <th>4</th>\n",
       "      <td>pltr</td>\n",
       "      <td>/home/windact/cloud_detection/data/train_featu...</td>\n",
       "      <td>/home/windact/cloud_detection/data/train_featu...</td>\n",
       "      <td>/home/windact/cloud_detection/data/train_featu...</td>\n",
       "      <td>/home/windact/cloud_detection/data/train_featu...</td>\n",
       "      <td>/home/windact/cloud_detection/data/train_label...</td>\n",
       "    </tr>\n",
       "  </tbody>\n",
       "</table>\n",
       "</div>"
      ],
      "text/plain": [
       "  chip_id                                           B02_path  \\\n",
       "0    zbly  /home/windact/cloud_detection/data/train_featu...   \n",
       "1    yuxu  /home/windact/cloud_detection/data/train_featu...   \n",
       "2    qpal  /home/windact/cloud_detection/data/train_featu...   \n",
       "3    rxgv  /home/windact/cloud_detection/data/train_featu...   \n",
       "4    pltr  /home/windact/cloud_detection/data/train_featu...   \n",
       "\n",
       "                                            B03_path  \\\n",
       "0  /home/windact/cloud_detection/data/train_featu...   \n",
       "1  /home/windact/cloud_detection/data/train_featu...   \n",
       "2  /home/windact/cloud_detection/data/train_featu...   \n",
       "3  /home/windact/cloud_detection/data/train_featu...   \n",
       "4  /home/windact/cloud_detection/data/train_featu...   \n",
       "\n",
       "                                            B04_path  \\\n",
       "0  /home/windact/cloud_detection/data/train_featu...   \n",
       "1  /home/windact/cloud_detection/data/train_featu...   \n",
       "2  /home/windact/cloud_detection/data/train_featu...   \n",
       "3  /home/windact/cloud_detection/data/train_featu...   \n",
       "4  /home/windact/cloud_detection/data/train_featu...   \n",
       "\n",
       "                                            B08_path  \\\n",
       "0  /home/windact/cloud_detection/data/train_featu...   \n",
       "1  /home/windact/cloud_detection/data/train_featu...   \n",
       "2  /home/windact/cloud_detection/data/train_featu...   \n",
       "3  /home/windact/cloud_detection/data/train_featu...   \n",
       "4  /home/windact/cloud_detection/data/train_featu...   \n",
       "\n",
       "                                          label_path  \n",
       "0  /home/windact/cloud_detection/data/train_label...  \n",
       "1  /home/windact/cloud_detection/data/train_label...  \n",
       "2  /home/windact/cloud_detection/data/train_label...  \n",
       "3  /home/windact/cloud_detection/data/train_label...  \n",
       "4  /home/windact/cloud_detection/data/train_label...  "
      ]
     },
     "execution_count": 48,
     "metadata": {},
     "output_type": "execute_result"
    }
   ],
   "source": [
    "val_sample = val.sample(n = 20,replace = False, random_state=42)\n",
    "val_sample = val_sample.reset_index(drop = True)\n",
    "val_sample.head()"
   ]
  },
  {
   "cell_type": "code",
   "execution_count": 49,
   "id": "63400ded-fc47-4cc1-adbe-b818a17084af",
   "metadata": {},
   "outputs": [
    {
     "data": {
      "text/plain": [
       "(20, 6)"
      ]
     },
     "execution_count": 49,
     "metadata": {},
     "output_type": "execute_result"
    }
   ],
   "source": [
    "val_sample.shape"
   ]
  },
  {
   "cell_type": "code",
   "execution_count": 50,
   "id": "9a8b25f0-3502-415e-9583-fa176c23511a",
   "metadata": {},
   "outputs": [
    {
     "data": {
      "text/plain": [
       "(100, 6)"
      ]
     },
     "execution_count": 50,
     "metadata": {},
     "output_type": "execute_result"
    }
   ],
   "source": [
    "train_sample.shape"
   ]
  },
  {
   "cell_type": "code",
   "execution_count": 51,
   "id": "ffc23db7-1163-44d8-acb1-f0074fc8f8a6",
   "metadata": {},
   "outputs": [
    {
     "data": {
      "text/plain": [
       "PosixPath('/home/windact/cloud_detection/data')"
      ]
     },
     "execution_count": 51,
     "metadata": {},
     "output_type": "execute_result"
    }
   ],
   "source": [
    "DATA_DIR"
   ]
  },
  {
   "cell_type": "code",
   "execution_count": 52,
   "id": "385de88f-1ffe-4911-a208-4e438df3edc2",
   "metadata": {},
   "outputs": [],
   "source": [
    "train_sample.to_csv(DATA_DIR / \"train_sample.csv\", sep = \";\", header = True, index = False)\n",
    "val_sample.to_csv(DATA_DIR / \"val_sample.csv\", sep = \";\", header = True, index = False)"
   ]
  },
  {
   "cell_type": "code",
   "execution_count": 13,
   "id": "01c884c3-f11c-4f05-964b-5b7add819f3a",
   "metadata": {},
   "outputs": [],
   "source": [
    "TRAIN_SAMPLE_PATH = DATA_DIR / \"train_sample.csv\"\n",
    "VAL_SAMPLE_PATH = DATA_DIR / \"val_sample.csv\""
   ]
  },
  {
   "cell_type": "code",
   "execution_count": 14,
   "id": "0f4ab498-0ce5-49d4-9b7f-5c2758da800b",
   "metadata": {},
   "outputs": [
    {
     "data": {
      "text/plain": [
       "PosixPath('/home/windact/cloud_detection/data/train_sample.csv')"
      ]
     },
     "execution_count": 14,
     "metadata": {},
     "output_type": "execute_result"
    }
   ],
   "source": [
    "TRAIN_SAMPLE_PATH"
   ]
  },
  {
   "cell_type": "code",
   "execution_count": 15,
   "id": "23ce26d5-623f-4c32-b39c-81438acec45d",
   "metadata": {},
   "outputs": [
    {
     "data": {
      "text/plain": [
       "PosixPath('/home/windact/cloud_detection/data/val_sample.csv')"
      ]
     },
     "execution_count": 15,
     "metadata": {},
     "output_type": "execute_result"
    }
   ],
   "source": [
    "VAL_SAMPLE_PATH"
   ]
  },
  {
   "cell_type": "code",
   "execution_count": null,
   "id": "ae6137c8-02d2-4bbb-aa5f-c5d34a853bf5",
   "metadata": {},
   "outputs": [],
   "source": []
  },
  {
   "cell_type": "code",
   "execution_count": 16,
   "id": "1cb75c48-17c4-4989-8335-44477ee38183",
   "metadata": {},
   "outputs": [],
   "source": [
    "from datetime import datetime"
   ]
  },
  {
   "cell_type": "code",
   "execution_count": null,
   "id": "b5f6a799-f96a-48dc-a1f9-2ab9fca94417",
   "metadata": {},
   "outputs": [],
   "source": []
  },
  {
   "cell_type": "code",
   "execution_count": 17,
   "id": "29371207-70cf-4282-a914-8d3afcf60fa4",
   "metadata": {},
   "outputs": [
    {
     "data": {
      "text/plain": [
       "'sample-cloud-net-20220114-094658'"
      ]
     },
     "execution_count": 17,
     "metadata": {},
     "output_type": "execute_result"
    }
   ],
   "source": [
    "experiment_name = \"sample-cloud-net-\"+datetime.now().strftime(\"%Y%m%d-%H%M%S\")\n",
    "experiment_name"
   ]
  },
  {
   "cell_type": "code",
   "execution_count": 18,
   "id": "348f5f4d-1e62-475e-92ed-7a75084bf91b",
   "metadata": {},
   "outputs": [],
   "source": [
    "MODEL_DIR = ROOT_DIR / \"models\"\n",
    "TRAIN_DIR = MODEL_DIR / \"train\"\n",
    "TEST_DIR = MODEL_DIR / \"test\"\n",
    "EXP_DIR = TRAIN_DIR / experiment_name\n",
    "ORIGINAL_MODEL_WEIGHT_PATH = (MODEL_DIR / \"original_weights\") / \"Cloud-Net_trained_on_38-Cloud_training_patches.h5\""
   ]
  },
  {
   "cell_type": "code",
   "execution_count": 19,
   "id": "a98a5c30-11af-46ab-b2c7-f30b88ff5204",
   "metadata": {},
   "outputs": [
    {
     "data": {
      "text/plain": [
       "PosixPath('/home/windact/cloud_detection/models/original_weights/Cloud-Net_trained_on_38-Cloud_training_patches.h5')"
      ]
     },
     "execution_count": 19,
     "metadata": {},
     "output_type": "execute_result"
    }
   ],
   "source": [
    "ORIGINAL_MODEL_WEIGHT_PATH"
   ]
  },
  {
   "cell_type": "code",
   "execution_count": 20,
   "id": "0f02f24f-33e5-4a65-b0a4-4fa484f2de82",
   "metadata": {},
   "outputs": [
    {
     "data": {
      "text/plain": [
       "True"
      ]
     },
     "execution_count": 20,
     "metadata": {},
     "output_type": "execute_result"
    }
   ],
   "source": [
    "ORIGINAL_MODEL_WEIGHT_PATH.exists()"
   ]
  },
  {
   "cell_type": "code",
   "execution_count": 72,
   "id": "7bfb43a0-c156-4249-b04a-f11d503e3239",
   "metadata": {},
   "outputs": [
    {
     "name": "stdout",
     "output_type": "stream",
     "text": [
      "Help on method mkdir in module pathlib:\n",
      "\n",
      "mkdir(mode=511, parents=False, exist_ok=False) method of pathlib.PosixPath instance\n",
      "    Create a new directory at this given path.\n",
      "\n"
     ]
    }
   ],
   "source": [
    "help(MODEL_DIR.mkdir)"
   ]
  },
  {
   "cell_type": "code",
   "execution_count": 21,
   "id": "4fd50a5d-196b-4a8b-a57a-d086076744e8",
   "metadata": {},
   "outputs": [],
   "source": [
    "folders = [MODEL_DIR,TRAIN_DIR,TEST_DIR,EXP_DIR]\n",
    "for folder in folders:\n",
    "    if not folder.exists():\n",
    "        folder.mkdir(parents = False,exist_ok= True)"
   ]
  },
  {
   "cell_type": "code",
   "execution_count": 22,
   "id": "4a2317cc-4fba-4366-868e-5057d1260970",
   "metadata": {},
   "outputs": [],
   "source": [
    "import os\n",
    "import numpy as np\n",
    "# from utils import ADAMLearningRateTracker\n",
    "# import cloud_net_model\n",
    "# from losses import jacc_coef\n",
    "from tensorflow.keras.optimizers import Adam\n",
    "from tensorflow.keras.callbacks import ModelCheckpoint, ReduceLROnPlateau, CSVLogger\n",
    "import pandas as pd\n",
    "\n",
    "in_rows = 192\n",
    "in_cols = 192\n",
    "num_of_channels = 16\n",
    "num_of_classes = 4\n",
    "starting_learning_rate = 1e-4\n",
    "end_learning_rate = 1e-8\n",
    "max_num_epochs = 2  # just a huge number. The actual training should not be limited by this value\n",
    "patience = 15\n",
    "decay_factor = 0.7\n",
    "batch_size = 2\n",
    "# max_bit = 65535  # maximum gray level in landsat 8 images\n",
    "weights_path = EXP_DIR / \"weights.{epoch:02d}-{val_loss:.2f}.hdf5\"\n",
    "train_resume = False"
   ]
  },
  {
   "cell_type": "code",
   "execution_count": 28,
   "id": "a1d90b54-6d5d-458c-b196-25e7db54b5c1",
   "metadata": {},
   "outputs": [],
   "source": [
    "model = model_arch(input_rows=in_rows,\n",
    "                                   input_cols=in_cols,\n",
    "                                   num_of_channels=num_of_channels,\n",
    "                                   num_of_classes=num_of_classes)\n",
    "model.compile(optimizer=Adam(learning_rate=starting_learning_rate), loss=jacc_coef, metrics=[jacc_coef])"
   ]
  },
  {
   "cell_type": "code",
   "execution_count": 29,
   "id": "d292537e-e700-422d-ae90-0d077be5550a",
   "metadata": {
    "collapsed": true,
    "jupyter": {
     "outputs_hidden": true
    },
    "tags": []
   },
   "outputs": [
    {
     "name": "stdout",
     "output_type": "stream",
     "text": [
      "Model: \"model_3\"\n",
      "__________________________________________________________________________________________________\n",
      "Layer (type)                    Output Shape         Param #     Connected to                     \n",
      "==================================================================================================\n",
      "input_4 (InputLayer)            [(None, 192, 192, 16 0                                            \n",
      "__________________________________________________________________________________________________\n",
      "conv2d_99 (Conv2D)              (None, 192, 192, 16) 2320        input_4[0][0]                    \n",
      "__________________________________________________________________________________________________\n",
      "conv2d_100 (Conv2D)             (None, 192, 192, 32) 4640        conv2d_99[0][0]                  \n",
      "__________________________________________________________________________________________________\n",
      "batch_normalization_93 (BatchNo (None, 192, 192, 32) 128         conv2d_100[0][0]                 \n",
      "__________________________________________________________________________________________________\n",
      "activation_138 (Activation)     (None, 192, 192, 32) 0           batch_normalization_93[0][0]     \n",
      "__________________________________________________________________________________________________\n",
      "conv2d_102 (Conv2D)             (None, 192, 192, 16) 272         conv2d_99[0][0]                  \n",
      "__________________________________________________________________________________________________\n",
      "conv2d_101 (Conv2D)             (None, 192, 192, 32) 9248        activation_138[0][0]             \n",
      "__________________________________________________________________________________________________\n",
      "batch_normalization_95 (BatchNo (None, 192, 192, 16) 64          conv2d_102[0][0]                 \n",
      "__________________________________________________________________________________________________\n",
      "batch_normalization_94 (BatchNo (None, 192, 192, 32) 128         conv2d_101[0][0]                 \n",
      "__________________________________________________________________________________________________\n",
      "activation_140 (Activation)     (None, 192, 192, 16) 0           batch_normalization_95[0][0]     \n",
      "__________________________________________________________________________________________________\n",
      "activation_139 (Activation)     (None, 192, 192, 32) 0           batch_normalization_94[0][0]     \n",
      "__________________________________________________________________________________________________\n",
      "concatenate_159 (Concatenate)   (None, 192, 192, 32) 0           conv2d_99[0][0]                  \n",
      "                                                                 activation_140[0][0]             \n",
      "__________________________________________________________________________________________________\n",
      "add_45 (Add)                    (None, 192, 192, 32) 0           activation_139[0][0]             \n",
      "                                                                 concatenate_159[0][0]            \n",
      "__________________________________________________________________________________________________\n",
      "activation_141 (Activation)     (None, 192, 192, 32) 0           add_45[0][0]                     \n",
      "__________________________________________________________________________________________________\n",
      "max_pooling2d_45 (MaxPooling2D) (None, 96, 96, 32)   0           activation_141[0][0]             \n",
      "__________________________________________________________________________________________________\n",
      "conv2d_103 (Conv2D)             (None, 96, 96, 64)   18496       max_pooling2d_45[0][0]           \n",
      "__________________________________________________________________________________________________\n",
      "batch_normalization_96 (BatchNo (None, 96, 96, 64)   256         conv2d_103[0][0]                 \n",
      "__________________________________________________________________________________________________\n",
      "activation_142 (Activation)     (None, 96, 96, 64)   0           batch_normalization_96[0][0]     \n",
      "__________________________________________________________________________________________________\n",
      "conv2d_105 (Conv2D)             (None, 96, 96, 32)   1056        max_pooling2d_45[0][0]           \n",
      "__________________________________________________________________________________________________\n",
      "conv2d_104 (Conv2D)             (None, 96, 96, 64)   36928       activation_142[0][0]             \n",
      "__________________________________________________________________________________________________\n",
      "batch_normalization_98 (BatchNo (None, 96, 96, 32)   128         conv2d_105[0][0]                 \n",
      "__________________________________________________________________________________________________\n",
      "batch_normalization_97 (BatchNo (None, 96, 96, 64)   256         conv2d_104[0][0]                 \n",
      "__________________________________________________________________________________________________\n",
      "activation_144 (Activation)     (None, 96, 96, 32)   0           batch_normalization_98[0][0]     \n",
      "__________________________________________________________________________________________________\n",
      "activation_143 (Activation)     (None, 96, 96, 64)   0           batch_normalization_97[0][0]     \n",
      "__________________________________________________________________________________________________\n",
      "concatenate_160 (Concatenate)   (None, 96, 96, 64)   0           max_pooling2d_45[0][0]           \n",
      "                                                                 activation_144[0][0]             \n",
      "__________________________________________________________________________________________________\n",
      "add_46 (Add)                    (None, 96, 96, 64)   0           activation_143[0][0]             \n",
      "                                                                 concatenate_160[0][0]            \n",
      "__________________________________________________________________________________________________\n",
      "activation_145 (Activation)     (None, 96, 96, 64)   0           add_46[0][0]                     \n",
      "__________________________________________________________________________________________________\n",
      "max_pooling2d_46 (MaxPooling2D) (None, 48, 48, 64)   0           activation_145[0][0]             \n",
      "__________________________________________________________________________________________________\n",
      "conv2d_106 (Conv2D)             (None, 48, 48, 128)  73856       max_pooling2d_46[0][0]           \n",
      "__________________________________________________________________________________________________\n",
      "batch_normalization_99 (BatchNo (None, 48, 48, 128)  512         conv2d_106[0][0]                 \n",
      "__________________________________________________________________________________________________\n",
      "activation_146 (Activation)     (None, 48, 48, 128)  0           batch_normalization_99[0][0]     \n",
      "__________________________________________________________________________________________________\n",
      "conv2d_108 (Conv2D)             (None, 48, 48, 64)   4160        max_pooling2d_46[0][0]           \n",
      "__________________________________________________________________________________________________\n",
      "conv2d_107 (Conv2D)             (None, 48, 48, 128)  147584      activation_146[0][0]             \n",
      "__________________________________________________________________________________________________\n",
      "batch_normalization_101 (BatchN (None, 48, 48, 64)   256         conv2d_108[0][0]                 \n",
      "__________________________________________________________________________________________________\n",
      "batch_normalization_100 (BatchN (None, 48, 48, 128)  512         conv2d_107[0][0]                 \n",
      "__________________________________________________________________________________________________\n",
      "activation_148 (Activation)     (None, 48, 48, 64)   0           batch_normalization_101[0][0]    \n",
      "__________________________________________________________________________________________________\n",
      "activation_147 (Activation)     (None, 48, 48, 128)  0           batch_normalization_100[0][0]    \n",
      "__________________________________________________________________________________________________\n",
      "concatenate_161 (Concatenate)   (None, 48, 48, 128)  0           max_pooling2d_46[0][0]           \n",
      "                                                                 activation_148[0][0]             \n",
      "__________________________________________________________________________________________________\n",
      "add_47 (Add)                    (None, 48, 48, 128)  0           activation_147[0][0]             \n",
      "                                                                 concatenate_161[0][0]            \n",
      "__________________________________________________________________________________________________\n",
      "activation_149 (Activation)     (None, 48, 48, 128)  0           add_47[0][0]                     \n",
      "__________________________________________________________________________________________________\n",
      "max_pooling2d_47 (MaxPooling2D) (None, 24, 24, 128)  0           activation_149[0][0]             \n",
      "__________________________________________________________________________________________________\n",
      "conv2d_109 (Conv2D)             (None, 24, 24, 256)  295168      max_pooling2d_47[0][0]           \n",
      "__________________________________________________________________________________________________\n",
      "batch_normalization_102 (BatchN (None, 24, 24, 256)  1024        conv2d_109[0][0]                 \n",
      "__________________________________________________________________________________________________\n",
      "activation_150 (Activation)     (None, 24, 24, 256)  0           batch_normalization_102[0][0]    \n",
      "__________________________________________________________________________________________________\n",
      "conv2d_111 (Conv2D)             (None, 24, 24, 128)  16512       max_pooling2d_47[0][0]           \n",
      "__________________________________________________________________________________________________\n",
      "conv2d_110 (Conv2D)             (None, 24, 24, 256)  590080      activation_150[0][0]             \n",
      "__________________________________________________________________________________________________\n",
      "batch_normalization_104 (BatchN (None, 24, 24, 128)  512         conv2d_111[0][0]                 \n",
      "__________________________________________________________________________________________________\n",
      "batch_normalization_103 (BatchN (None, 24, 24, 256)  1024        conv2d_110[0][0]                 \n",
      "__________________________________________________________________________________________________\n",
      "activation_152 (Activation)     (None, 24, 24, 128)  0           batch_normalization_104[0][0]    \n",
      "__________________________________________________________________________________________________\n",
      "activation_151 (Activation)     (None, 24, 24, 256)  0           batch_normalization_103[0][0]    \n",
      "__________________________________________________________________________________________________\n",
      "concatenate_162 (Concatenate)   (None, 24, 24, 256)  0           max_pooling2d_47[0][0]           \n",
      "                                                                 activation_152[0][0]             \n",
      "__________________________________________________________________________________________________\n",
      "add_48 (Add)                    (None, 24, 24, 256)  0           activation_151[0][0]             \n",
      "                                                                 concatenate_162[0][0]            \n",
      "__________________________________________________________________________________________________\n",
      "activation_153 (Activation)     (None, 24, 24, 256)  0           add_48[0][0]                     \n",
      "__________________________________________________________________________________________________\n",
      "max_pooling2d_48 (MaxPooling2D) (None, 12, 12, 256)  0           activation_153[0][0]             \n",
      "__________________________________________________________________________________________________\n",
      "conv2d_112 (Conv2D)             (None, 12, 12, 512)  1180160     max_pooling2d_48[0][0]           \n",
      "__________________________________________________________________________________________________\n",
      "batch_normalization_105 (BatchN (None, 12, 12, 512)  2048        conv2d_112[0][0]                 \n",
      "__________________________________________________________________________________________________\n",
      "activation_154 (Activation)     (None, 12, 12, 512)  0           batch_normalization_105[0][0]    \n",
      "__________________________________________________________________________________________________\n",
      "conv2d_113 (Conv2D)             (None, 12, 12, 512)  2359808     activation_154[0][0]             \n",
      "__________________________________________________________________________________________________\n",
      "batch_normalization_106 (BatchN (None, 12, 12, 512)  2048        conv2d_113[0][0]                 \n",
      "__________________________________________________________________________________________________\n",
      "concatenate_176 (Concatenate)   (None, 192, 192, 64) 0           activation_141[0][0]             \n",
      "                                                                 activation_141[0][0]             \n",
      "__________________________________________________________________________________________________\n",
      "activation_155 (Activation)     (None, 12, 12, 512)  0           batch_normalization_106[0][0]    \n",
      "__________________________________________________________________________________________________\n",
      "conv2d_115 (Conv2D)             (None, 12, 12, 256)  65792       max_pooling2d_48[0][0]           \n",
      "__________________________________________________________________________________________________\n",
      "concatenate_177 (Concatenate)   (None, 192, 192, 96) 0           concatenate_176[0][0]            \n",
      "                                                                 activation_141[0][0]             \n",
      "__________________________________________________________________________________________________\n",
      "conv2d_114 (Conv2D)             (None, 12, 12, 512)  2359808     activation_155[0][0]             \n",
      "__________________________________________________________________________________________________\n",
      "batch_normalization_108 (BatchN (None, 12, 12, 256)  1024        conv2d_115[0][0]                 \n",
      "__________________________________________________________________________________________________\n",
      "conv2d_116 (Conv2D)             (None, 12, 12, 512)  262656      activation_155[0][0]             \n",
      "__________________________________________________________________________________________________\n",
      "concatenate_178 (Concatenate)   (None, 192, 192, 128 0           concatenate_177[0][0]            \n",
      "                                                                 activation_141[0][0]             \n",
      "__________________________________________________________________________________________________\n",
      "batch_normalization_107 (BatchN (None, 12, 12, 512)  2048        conv2d_114[0][0]                 \n",
      "__________________________________________________________________________________________________\n",
      "activation_157 (Activation)     (None, 12, 12, 256)  0           batch_normalization_108[0][0]    \n",
      "__________________________________________________________________________________________________\n",
      "batch_normalization_109 (BatchN (None, 12, 12, 512)  2048        conv2d_116[0][0]                 \n",
      "__________________________________________________________________________________________________\n",
      "concatenate_179 (Concatenate)   (None, 192, 192, 160 0           concatenate_178[0][0]            \n",
      "                                                                 activation_141[0][0]             \n",
      "__________________________________________________________________________________________________\n",
      "activation_156 (Activation)     (None, 12, 12, 512)  0           batch_normalization_107[0][0]    \n",
      "__________________________________________________________________________________________________\n",
      "concatenate_163 (Concatenate)   (None, 12, 12, 512)  0           max_pooling2d_48[0][0]           \n",
      "                                                                 activation_157[0][0]             \n",
      "__________________________________________________________________________________________________\n",
      "activation_158 (Activation)     (None, 12, 12, 512)  0           batch_normalization_109[0][0]    \n",
      "__________________________________________________________________________________________________\n",
      "concatenate_180 (Concatenate)   (None, 192, 192, 192 0           concatenate_179[0][0]            \n",
      "                                                                 activation_141[0][0]             \n",
      "__________________________________________________________________________________________________\n",
      "add_49 (Add)                    (None, 12, 12, 512)  0           activation_156[0][0]             \n",
      "                                                                 concatenate_163[0][0]            \n",
      "                                                                 activation_158[0][0]             \n",
      "__________________________________________________________________________________________________\n",
      "concatenate_181 (Concatenate)   (None, 192, 192, 224 0           concatenate_180[0][0]            \n",
      "                                                                 activation_141[0][0]             \n",
      "__________________________________________________________________________________________________\n",
      "activation_159 (Activation)     (None, 12, 12, 512)  0           add_49[0][0]                     \n",
      "__________________________________________________________________________________________________\n",
      "concatenate_182 (Concatenate)   (None, 192, 192, 256 0           concatenate_181[0][0]            \n",
      "                                                                 activation_141[0][0]             \n",
      "__________________________________________________________________________________________________\n",
      "max_pooling2d_49 (MaxPooling2D) (None, 6, 6, 512)    0           activation_159[0][0]             \n",
      "__________________________________________________________________________________________________\n",
      "concatenate_183 (Concatenate)   (None, 192, 192, 288 0           concatenate_182[0][0]            \n",
      "                                                                 activation_141[0][0]             \n",
      "__________________________________________________________________________________________________\n",
      "conv2d_117 (Conv2D)             (None, 6, 6, 1024)   4719616     max_pooling2d_49[0][0]           \n",
      "__________________________________________________________________________________________________\n",
      "concatenate_169 (Concatenate)   (None, 96, 96, 128)  0           activation_145[0][0]             \n",
      "                                                                 activation_145[0][0]             \n",
      "__________________________________________________________________________________________________\n",
      "concatenate_184 (Concatenate)   (None, 192, 192, 320 0           concatenate_183[0][0]            \n",
      "                                                                 activation_141[0][0]             \n",
      "__________________________________________________________________________________________________\n",
      "batch_normalization_110 (BatchN (None, 6, 6, 1024)   4096        conv2d_117[0][0]                 \n",
      "__________________________________________________________________________________________________\n",
      "concatenate_170 (Concatenate)   (None, 96, 96, 192)  0           concatenate_169[0][0]            \n",
      "                                                                 activation_145[0][0]             \n",
      "__________________________________________________________________________________________________\n",
      "concatenate_185 (Concatenate)   (None, 192, 192, 352 0           concatenate_184[0][0]            \n",
      "                                                                 activation_141[0][0]             \n",
      "__________________________________________________________________________________________________\n",
      "activation_160 (Activation)     (None, 6, 6, 1024)   0           batch_normalization_110[0][0]    \n",
      "__________________________________________________________________________________________________\n",
      "concatenate_171 (Concatenate)   (None, 96, 96, 256)  0           concatenate_170[0][0]            \n",
      "                                                                 activation_145[0][0]             \n",
      "__________________________________________________________________________________________________\n",
      "concatenate_186 (Concatenate)   (None, 192, 192, 384 0           concatenate_185[0][0]            \n",
      "                                                                 activation_141[0][0]             \n",
      "__________________________________________________________________________________________________\n",
      "conv2d_118 (Conv2D)             (None, 6, 6, 1024)   9438208     activation_160[0][0]             \n",
      "__________________________________________________________________________________________________\n",
      "conv2d_119 (Conv2D)             (None, 6, 6, 512)    262656      max_pooling2d_49[0][0]           \n",
      "__________________________________________________________________________________________________\n",
      "concatenate_172 (Concatenate)   (None, 96, 96, 320)  0           concatenate_171[0][0]            \n",
      "                                                                 activation_145[0][0]             \n",
      "__________________________________________________________________________________________________\n",
      "concatenate_187 (Concatenate)   (None, 192, 192, 416 0           concatenate_186[0][0]            \n",
      "                                                                 activation_141[0][0]             \n",
      "__________________________________________________________________________________________________\n",
      "dropout_3 (Dropout)             (None, 6, 6, 1024)   0           conv2d_118[0][0]                 \n",
      "__________________________________________________________________________________________________\n",
      "batch_normalization_112 (BatchN (None, 6, 6, 512)    2048        conv2d_119[0][0]                 \n",
      "__________________________________________________________________________________________________\n",
      "concatenate_166 (Concatenate)   (None, 48, 48, 256)  0           activation_149[0][0]             \n",
      "                                                                 activation_149[0][0]             \n",
      "__________________________________________________________________________________________________\n",
      "concatenate_173 (Concatenate)   (None, 96, 96, 384)  0           concatenate_172[0][0]            \n",
      "                                                                 activation_145[0][0]             \n",
      "__________________________________________________________________________________________________\n",
      "concatenate_188 (Concatenate)   (None, 192, 192, 448 0           concatenate_187[0][0]            \n",
      "                                                                 activation_141[0][0]             \n",
      "__________________________________________________________________________________________________\n",
      "batch_normalization_111 (BatchN (None, 6, 6, 1024)   4096        dropout_3[0][0]                  \n",
      "__________________________________________________________________________________________________\n",
      "activation_162 (Activation)     (None, 6, 6, 512)    0           batch_normalization_112[0][0]    \n",
      "__________________________________________________________________________________________________\n",
      "concatenate_167 (Concatenate)   (None, 48, 48, 384)  0           concatenate_166[0][0]            \n",
      "                                                                 activation_149[0][0]             \n",
      "__________________________________________________________________________________________________\n",
      "concatenate_174 (Concatenate)   (None, 96, 96, 448)  0           concatenate_173[0][0]            \n",
      "                                                                 activation_145[0][0]             \n",
      "__________________________________________________________________________________________________\n",
      "concatenate_189 (Concatenate)   (None, 192, 192, 480 0           concatenate_188[0][0]            \n",
      "                                                                 activation_141[0][0]             \n",
      "__________________________________________________________________________________________________\n",
      "activation_161 (Activation)     (None, 6, 6, 1024)   0           batch_normalization_111[0][0]    \n",
      "__________________________________________________________________________________________________\n",
      "concatenate_164 (Concatenate)   (None, 6, 6, 1024)   0           max_pooling2d_49[0][0]           \n",
      "                                                                 activation_162[0][0]             \n",
      "__________________________________________________________________________________________________\n",
      "concatenate_165 (Concatenate)   (None, 24, 24, 512)  0           activation_153[0][0]             \n",
      "                                                                 activation_153[0][0]             \n",
      "__________________________________________________________________________________________________\n",
      "concatenate_168 (Concatenate)   (None, 48, 48, 512)  0           concatenate_167[0][0]            \n",
      "                                                                 activation_149[0][0]             \n",
      "__________________________________________________________________________________________________\n",
      "concatenate_175 (Concatenate)   (None, 96, 96, 512)  0           concatenate_174[0][0]            \n",
      "                                                                 activation_145[0][0]             \n",
      "__________________________________________________________________________________________________\n",
      "concatenate_190 (Concatenate)   (None, 192, 192, 512 0           concatenate_189[0][0]            \n",
      "                                                                 activation_141[0][0]             \n",
      "__________________________________________________________________________________________________\n",
      "add_50 (Add)                    (None, 6, 6, 1024)   0           activation_161[0][0]             \n",
      "                                                                 concatenate_164[0][0]            \n",
      "__________________________________________________________________________________________________\n",
      "max_pooling2d_50 (MaxPooling2D) (None, 12, 12, 512)  0           concatenate_165[0][0]            \n",
      "__________________________________________________________________________________________________\n",
      "max_pooling2d_51 (MaxPooling2D) (None, 12, 12, 512)  0           concatenate_168[0][0]            \n",
      "__________________________________________________________________________________________________\n",
      "max_pooling2d_52 (MaxPooling2D) (None, 12, 12, 512)  0           concatenate_175[0][0]            \n",
      "__________________________________________________________________________________________________\n",
      "max_pooling2d_53 (MaxPooling2D) (None, 12, 12, 512)  0           concatenate_190[0][0]            \n",
      "__________________________________________________________________________________________________\n",
      "activation_163 (Activation)     (None, 6, 6, 1024)   0           add_50[0][0]                     \n",
      "__________________________________________________________________________________________________\n",
      "add_51 (Add)                    (None, 12, 12, 512)  0           max_pooling2d_50[0][0]           \n",
      "                                                                 max_pooling2d_51[0][0]           \n",
      "                                                                 max_pooling2d_52[0][0]           \n",
      "                                                                 max_pooling2d_53[0][0]           \n",
      "                                                                 activation_159[0][0]             \n",
      "__________________________________________________________________________________________________\n",
      "conv2d_transpose_15 (Conv2DTran (None, 12, 12, 512)  2097664     activation_163[0][0]             \n",
      "__________________________________________________________________________________________________\n",
      "activation_164 (Activation)     (None, 12, 12, 512)  0           add_51[0][0]                     \n",
      "__________________________________________________________________________________________________\n",
      "concatenate_191 (Concatenate)   (None, 12, 12, 1024) 0           conv2d_transpose_15[0][0]        \n",
      "                                                                 activation_164[0][0]             \n",
      "__________________________________________________________________________________________________\n",
      "conv2d_120 (Conv2D)             (None, 12, 12, 512)  4719104     concatenate_191[0][0]            \n",
      "__________________________________________________________________________________________________\n",
      "batch_normalization_113 (BatchN (None, 12, 12, 512)  2048        conv2d_120[0][0]                 \n",
      "__________________________________________________________________________________________________\n",
      "activation_165 (Activation)     (None, 12, 12, 512)  0           batch_normalization_113[0][0]    \n",
      "__________________________________________________________________________________________________\n",
      "concatenate_196 (Concatenate)   (None, 192, 192, 64) 0           activation_141[0][0]             \n",
      "                                                                 activation_141[0][0]             \n",
      "__________________________________________________________________________________________________\n",
      "conv2d_121 (Conv2D)             (None, 12, 12, 512)  2359808     activation_165[0][0]             \n",
      "__________________________________________________________________________________________________\n",
      "concatenate_197 (Concatenate)   (None, 192, 192, 96) 0           concatenate_196[0][0]            \n",
      "                                                                 activation_141[0][0]             \n",
      "__________________________________________________________________________________________________\n",
      "batch_normalization_114 (BatchN (None, 12, 12, 512)  2048        conv2d_121[0][0]                 \n",
      "__________________________________________________________________________________________________\n",
      "concatenate_198 (Concatenate)   (None, 192, 192, 128 0           concatenate_197[0][0]            \n",
      "                                                                 activation_141[0][0]             \n",
      "__________________________________________________________________________________________________\n",
      "activation_166 (Activation)     (None, 12, 12, 512)  0           batch_normalization_114[0][0]    \n",
      "__________________________________________________________________________________________________\n",
      "concatenate_199 (Concatenate)   (None, 192, 192, 160 0           concatenate_198[0][0]            \n",
      "                                                                 activation_141[0][0]             \n",
      "__________________________________________________________________________________________________\n",
      "conv2d_122 (Conv2D)             (None, 12, 12, 512)  2359808     activation_166[0][0]             \n",
      "__________________________________________________________________________________________________\n",
      "concatenate_193 (Concatenate)   (None, 96, 96, 128)  0           activation_145[0][0]             \n",
      "                                                                 activation_145[0][0]             \n",
      "__________________________________________________________________________________________________\n",
      "concatenate_200 (Concatenate)   (None, 192, 192, 192 0           concatenate_199[0][0]            \n",
      "                                                                 activation_141[0][0]             \n",
      "__________________________________________________________________________________________________\n",
      "batch_normalization_115 (BatchN (None, 12, 12, 512)  2048        conv2d_122[0][0]                 \n",
      "__________________________________________________________________________________________________\n",
      "concatenate_194 (Concatenate)   (None, 96, 96, 192)  0           concatenate_193[0][0]            \n",
      "                                                                 activation_145[0][0]             \n",
      "__________________________________________________________________________________________________\n",
      "concatenate_201 (Concatenate)   (None, 192, 192, 224 0           concatenate_200[0][0]            \n",
      "                                                                 activation_141[0][0]             \n",
      "__________________________________________________________________________________________________\n",
      "activation_167 (Activation)     (None, 12, 12, 512)  0           batch_normalization_115[0][0]    \n",
      "__________________________________________________________________________________________________\n",
      "concatenate_192 (Concatenate)   (None, 48, 48, 256)  0           activation_149[0][0]             \n",
      "                                                                 activation_149[0][0]             \n",
      "__________________________________________________________________________________________________\n",
      "concatenate_195 (Concatenate)   (None, 96, 96, 256)  0           concatenate_194[0][0]            \n",
      "                                                                 activation_145[0][0]             \n",
      "__________________________________________________________________________________________________\n",
      "concatenate_202 (Concatenate)   (None, 192, 192, 256 0           concatenate_201[0][0]            \n",
      "                                                                 activation_141[0][0]             \n",
      "__________________________________________________________________________________________________\n",
      "add_52 (Add)                    (None, 12, 12, 512)  0           activation_167[0][0]             \n",
      "                                                                 activation_159[0][0]             \n",
      "                                                                 conv2d_transpose_15[0][0]        \n",
      "__________________________________________________________________________________________________\n",
      "max_pooling2d_54 (MaxPooling2D) (None, 24, 24, 256)  0           concatenate_192[0][0]            \n",
      "__________________________________________________________________________________________________\n",
      "max_pooling2d_55 (MaxPooling2D) (None, 24, 24, 256)  0           concatenate_195[0][0]            \n",
      "__________________________________________________________________________________________________\n",
      "max_pooling2d_56 (MaxPooling2D) (None, 24, 24, 256)  0           concatenate_202[0][0]            \n",
      "__________________________________________________________________________________________________\n",
      "activation_168 (Activation)     (None, 12, 12, 512)  0           add_52[0][0]                     \n",
      "__________________________________________________________________________________________________\n",
      "add_53 (Add)                    (None, 24, 24, 256)  0           max_pooling2d_54[0][0]           \n",
      "                                                                 max_pooling2d_55[0][0]           \n",
      "                                                                 max_pooling2d_56[0][0]           \n",
      "                                                                 activation_153[0][0]             \n",
      "__________________________________________________________________________________________________\n",
      "conv2d_transpose_16 (Conv2DTran (None, 24, 24, 256)  524544      activation_168[0][0]             \n",
      "__________________________________________________________________________________________________\n",
      "activation_169 (Activation)     (None, 24, 24, 256)  0           add_53[0][0]                     \n",
      "__________________________________________________________________________________________________\n",
      "concatenate_203 (Concatenate)   (None, 24, 24, 512)  0           conv2d_transpose_16[0][0]        \n",
      "                                                                 activation_169[0][0]             \n",
      "__________________________________________________________________________________________________\n",
      "conv2d_123 (Conv2D)             (None, 24, 24, 256)  1179904     concatenate_203[0][0]            \n",
      "__________________________________________________________________________________________________\n",
      "batch_normalization_116 (BatchN (None, 24, 24, 256)  1024        conv2d_123[0][0]                 \n",
      "__________________________________________________________________________________________________\n",
      "activation_170 (Activation)     (None, 24, 24, 256)  0           batch_normalization_116[0][0]    \n",
      "__________________________________________________________________________________________________\n",
      "conv2d_124 (Conv2D)             (None, 24, 24, 256)  590080      activation_170[0][0]             \n",
      "__________________________________________________________________________________________________\n",
      "concatenate_205 (Concatenate)   (None, 192, 192, 64) 0           activation_141[0][0]             \n",
      "                                                                 activation_141[0][0]             \n",
      "__________________________________________________________________________________________________\n",
      "batch_normalization_117 (BatchN (None, 24, 24, 256)  1024        conv2d_124[0][0]                 \n",
      "__________________________________________________________________________________________________\n",
      "concatenate_206 (Concatenate)   (None, 192, 192, 96) 0           concatenate_205[0][0]            \n",
      "                                                                 activation_141[0][0]             \n",
      "__________________________________________________________________________________________________\n",
      "activation_171 (Activation)     (None, 24, 24, 256)  0           batch_normalization_117[0][0]    \n",
      "__________________________________________________________________________________________________\n",
      "concatenate_204 (Concatenate)   (None, 96, 96, 128)  0           activation_145[0][0]             \n",
      "                                                                 activation_145[0][0]             \n",
      "__________________________________________________________________________________________________\n",
      "concatenate_207 (Concatenate)   (None, 192, 192, 128 0           concatenate_206[0][0]            \n",
      "                                                                 activation_141[0][0]             \n",
      "__________________________________________________________________________________________________\n",
      "add_54 (Add)                    (None, 24, 24, 256)  0           activation_171[0][0]             \n",
      "                                                                 activation_153[0][0]             \n",
      "                                                                 conv2d_transpose_16[0][0]        \n",
      "__________________________________________________________________________________________________\n",
      "max_pooling2d_57 (MaxPooling2D) (None, 48, 48, 128)  0           concatenate_204[0][0]            \n",
      "__________________________________________________________________________________________________\n",
      "max_pooling2d_58 (MaxPooling2D) (None, 48, 48, 128)  0           concatenate_207[0][0]            \n",
      "__________________________________________________________________________________________________\n",
      "activation_172 (Activation)     (None, 24, 24, 256)  0           add_54[0][0]                     \n",
      "__________________________________________________________________________________________________\n",
      "add_55 (Add)                    (None, 48, 48, 128)  0           max_pooling2d_57[0][0]           \n",
      "                                                                 max_pooling2d_58[0][0]           \n",
      "                                                                 activation_149[0][0]             \n",
      "__________________________________________________________________________________________________\n",
      "conv2d_transpose_17 (Conv2DTran (None, 48, 48, 128)  131200      activation_172[0][0]             \n",
      "__________________________________________________________________________________________________\n",
      "activation_173 (Activation)     (None, 48, 48, 128)  0           add_55[0][0]                     \n",
      "__________________________________________________________________________________________________\n",
      "concatenate_208 (Concatenate)   (None, 48, 48, 256)  0           conv2d_transpose_17[0][0]        \n",
      "                                                                 activation_173[0][0]             \n",
      "__________________________________________________________________________________________________\n",
      "conv2d_125 (Conv2D)             (None, 48, 48, 128)  295040      concatenate_208[0][0]            \n",
      "__________________________________________________________________________________________________\n",
      "batch_normalization_118 (BatchN (None, 48, 48, 128)  512         conv2d_125[0][0]                 \n",
      "__________________________________________________________________________________________________\n",
      "activation_174 (Activation)     (None, 48, 48, 128)  0           batch_normalization_118[0][0]    \n",
      "__________________________________________________________________________________________________\n",
      "conv2d_126 (Conv2D)             (None, 48, 48, 128)  147584      activation_174[0][0]             \n",
      "__________________________________________________________________________________________________\n",
      "batch_normalization_119 (BatchN (None, 48, 48, 128)  512         conv2d_126[0][0]                 \n",
      "__________________________________________________________________________________________________\n",
      "activation_175 (Activation)     (None, 48, 48, 128)  0           batch_normalization_119[0][0]    \n",
      "__________________________________________________________________________________________________\n",
      "concatenate_209 (Concatenate)   (None, 192, 192, 64) 0           activation_141[0][0]             \n",
      "                                                                 activation_141[0][0]             \n",
      "__________________________________________________________________________________________________\n",
      "add_56 (Add)                    (None, 48, 48, 128)  0           activation_175[0][0]             \n",
      "                                                                 activation_149[0][0]             \n",
      "                                                                 conv2d_transpose_17[0][0]        \n",
      "__________________________________________________________________________________________________\n",
      "max_pooling2d_59 (MaxPooling2D) (None, 96, 96, 64)   0           concatenate_209[0][0]            \n",
      "__________________________________________________________________________________________________\n",
      "activation_176 (Activation)     (None, 48, 48, 128)  0           add_56[0][0]                     \n",
      "__________________________________________________________________________________________________\n",
      "add_57 (Add)                    (None, 96, 96, 64)   0           max_pooling2d_59[0][0]           \n",
      "                                                                 activation_145[0][0]             \n",
      "__________________________________________________________________________________________________\n",
      "conv2d_transpose_18 (Conv2DTran (None, 96, 96, 64)   32832       activation_176[0][0]             \n",
      "__________________________________________________________________________________________________\n",
      "activation_177 (Activation)     (None, 96, 96, 64)   0           add_57[0][0]                     \n",
      "__________________________________________________________________________________________________\n",
      "concatenate_210 (Concatenate)   (None, 96, 96, 128)  0           conv2d_transpose_18[0][0]        \n",
      "                                                                 activation_177[0][0]             \n",
      "__________________________________________________________________________________________________\n",
      "conv2d_127 (Conv2D)             (None, 96, 96, 64)   73792       concatenate_210[0][0]            \n",
      "__________________________________________________________________________________________________\n",
      "batch_normalization_120 (BatchN (None, 96, 96, 64)   256         conv2d_127[0][0]                 \n",
      "__________________________________________________________________________________________________\n",
      "activation_178 (Activation)     (None, 96, 96, 64)   0           batch_normalization_120[0][0]    \n",
      "__________________________________________________________________________________________________\n",
      "conv2d_128 (Conv2D)             (None, 96, 96, 64)   36928       activation_178[0][0]             \n",
      "__________________________________________________________________________________________________\n",
      "batch_normalization_121 (BatchN (None, 96, 96, 64)   256         conv2d_128[0][0]                 \n",
      "__________________________________________________________________________________________________\n",
      "activation_179 (Activation)     (None, 96, 96, 64)   0           batch_normalization_121[0][0]    \n",
      "__________________________________________________________________________________________________\n",
      "add_58 (Add)                    (None, 96, 96, 64)   0           activation_179[0][0]             \n",
      "                                                                 activation_145[0][0]             \n",
      "                                                                 conv2d_transpose_18[0][0]        \n",
      "__________________________________________________________________________________________________\n",
      "activation_180 (Activation)     (None, 96, 96, 64)   0           add_58[0][0]                     \n",
      "__________________________________________________________________________________________________\n",
      "conv2d_transpose_19 (Conv2DTran (None, 192, 192, 32) 8224        activation_180[0][0]             \n",
      "__________________________________________________________________________________________________\n",
      "concatenate_211 (Concatenate)   (None, 192, 192, 64) 0           conv2d_transpose_19[0][0]        \n",
      "                                                                 activation_141[0][0]             \n",
      "__________________________________________________________________________________________________\n",
      "conv2d_129 (Conv2D)             (None, 192, 192, 32) 18464       concatenate_211[0][0]            \n",
      "__________________________________________________________________________________________________\n",
      "batch_normalization_122 (BatchN (None, 192, 192, 32) 128         conv2d_129[0][0]                 \n",
      "__________________________________________________________________________________________________\n",
      "activation_181 (Activation)     (None, 192, 192, 32) 0           batch_normalization_122[0][0]    \n",
      "__________________________________________________________________________________________________\n",
      "conv2d_130 (Conv2D)             (None, 192, 192, 32) 9248        activation_181[0][0]             \n",
      "__________________________________________________________________________________________________\n",
      "batch_normalization_123 (BatchN (None, 192, 192, 32) 128         conv2d_130[0][0]                 \n",
      "__________________________________________________________________________________________________\n",
      "activation_182 (Activation)     (None, 192, 192, 32) 0           batch_normalization_123[0][0]    \n",
      "__________________________________________________________________________________________________\n",
      "add_59 (Add)                    (None, 192, 192, 32) 0           activation_182[0][0]             \n",
      "                                                                 activation_141[0][0]             \n",
      "                                                                 conv2d_transpose_19[0][0]        \n",
      "__________________________________________________________________________________________________\n",
      "activation_183 (Activation)     (None, 192, 192, 32) 0           add_59[0][0]                     \n",
      "__________________________________________________________________________________________________\n",
      "conv2d_131 (Conv2D)             (None, 192, 192, 4)  132         activation_183[0][0]             \n",
      "==================================================================================================\n",
      "Total params: 36,467,620\n",
      "Trainable params: 36,450,500\n",
      "Non-trainable params: 17,120\n",
      "__________________________________________________________________________________________________\n"
     ]
    }
   ],
   "source": [
    "model.summary()"
   ]
  },
  {
   "cell_type": "code",
   "execution_count": 49,
   "id": "5bc7bb67-72f1-48ef-82eb-e973ce7546ed",
   "metadata": {},
   "outputs": [
    {
     "data": {
      "text/plain": [
       "PosixPath('/home/windact/cloud_detection/models/original_weights/Cloud-Net_trained_on_38-Cloud_training_patches.h5')"
      ]
     },
     "execution_count": 49,
     "metadata": {},
     "output_type": "execute_result"
    }
   ],
   "source": [
    "ORIGINAL_MODEL_WEIGHT_PATH"
   ]
  },
  {
   "cell_type": "code",
   "execution_count": 23,
   "id": "0bc2f2f6-7acd-4cb5-b5e9-58f929ee9fb4",
   "metadata": {},
   "outputs": [],
   "source": [
    "sample_train_dataset = load_dataset(file_paths= TRAIN_SAMPLE_PATH, training = True,reshape= True, num_epochs=max_num_epochs, batch_size= batch_size)\n",
    "sample_val_dataset = load_dataset(file_paths= VAL_SAMPLE_PATH, training = False,reshape= True,batch_size= 3)"
   ]
  },
  {
   "cell_type": "code",
   "execution_count": 45,
   "id": "5fd15a33-fef4-4b94-9d00-cd3c7177e60c",
   "metadata": {},
   "outputs": [],
   "source": [
    "def main():\n",
    "    model = model_arch(input_rows=in_rows,\n",
    "                                       input_cols=in_cols,\n",
    "                                       num_of_channels=num_of_channels,\n",
    "                                       num_of_classes=num_of_classes)\n",
    "    model.compile(optimizer=Adam(learning_rate=starting_learning_rate), loss=jacc_coef, metrics=[jacc_coef])\n",
    "    # model.summary()\n",
    "\n",
    "    model_checkpoint = ModelCheckpoint(weights_path, monitor='val_loss', save_best_only=True)\n",
    "    lr_reducer = ReduceLROnPlateau(factor=decay_factor, cooldown=0, patience=patience, min_lr=end_learning_rate, verbose=1)\n",
    "    csv_logger = CSVLogger(EXP_DIR / '_log_1.log')\n",
    "\n",
    "    if train_resume:\n",
    "        model.load_weights(ORIGINAL_MODEL_WEIGHT_PATH)\n",
    "        print(\"\\nTraining resumed...\")\n",
    "    else:\n",
    "        print(\"\\nTraining started from scratch... \")\n",
    "\n",
    "    print(\"Experiment name: \", experiment_name)\n",
    "    print(\"Input image size: \", (in_rows, in_cols))\n",
    "    print(\"Number of input spectral bands: \", num_of_channels)\n",
    "    print(\"Learning rate: \", starting_learning_rate)\n",
    "    print(\"# Epochs: \", max_num_epochs)\n",
    "    print(\"Batch size: \", batch_size, \"\\n\")\n",
    "    \n",
    "    model.fit(sample_train_dataset,validation_data = sample_val_dataset,epochs = max_num_epochs,verbose = 1,\n",
    "             callbacks=[model_checkpoint, lr_reducer, ADAMLearningRateTracker(end_learning_rate), csv_logger])\n",
    "\n",
    "    # model.fit(\n",
    "    #     generator=mybatch_generator_train(list(zip(train_img_split, train_msk_split)), in_rows, in_cols, batch_sz, max_bit),\n",
    "    #     steps_per_epoch=np.ceil(len(train_img_split) / batch_sz), epochs=max_num_epochs, verbose=1,\n",
    "    #     validation_data=mybatch_generator_validation(list(zip(val_img_split, val_msk_split)), in_rows, in_cols, batch_sz, max_bit),\n",
    "    #     validation_steps=np.ceil(len(val_img_split) / batch_sz),\n",
    "    #     callbacks=[model_checkpoint, lr_reducer, ADAMLearningRateTracker(end_learning_rate), csv_logger])"
   ]
  },
  {
   "cell_type": "code",
   "execution_count": 46,
   "id": "e4414e98-6a38-4571-8db9-29a244422704",
   "metadata": {},
   "outputs": [
    {
     "name": "stdout",
     "output_type": "stream",
     "text": [
      "\n",
      "Training started from scratch... \n",
      "Experiment name:  sample-cloud-net-20220113-224917\n",
      "Input image size:  (192, 192)\n",
      "Number of input spectral bands:  16\n",
      "Learning rate:  0.0001\n",
      "# Epochs:  2\n",
      "Batch size:  2 \n",
      "\n",
      "Epoch 1/2\n",
      "100/100 [==============================] - 427s 4s/step - loss: 0.2159 - jacc_coef: 0.2159 - val_loss: 0.0271 - val_jacc_coef: 0.0273\n"
     ]
    },
    {
     "name": "stderr",
     "output_type": "stream",
     "text": [
      "/home/windact/anaconda3/envs/cloudenv/lib/python3.6/site-packages/keras/utils/generic_utils.py:497: CustomMaskWarning: Custom mask layers require a config and must override get_config. When loading, the custom mask layer must be passed to the custom_objects argument.\n",
      "  category=CustomMaskWarning)\n"
     ]
    },
    {
     "name": "stdout",
     "output_type": "stream",
     "text": [
      "\n",
      "***The last Basic Learning rate in this epoch is: 1e-04 ***\n",
      "\n",
      "Epoch 2/2\n",
      "100/100 [==============================] - 1220s 12s/step - loss: 0.0069 - jacc_coef: 0.0069 - val_loss: 0.0082 - val_jacc_coef: 0.0084\n",
      "\n",
      "***The last Basic Learning rate in this epoch is: 1e-04 ***\n",
      "\n"
     ]
    }
   ],
   "source": [
    "main()"
   ]
  },
  {
   "cell_type": "code",
   "execution_count": null,
   "id": "eb6e7664-4d9b-4d24-9921-0d758f561caf",
   "metadata": {},
   "outputs": [
    {
     "name": "stdout",
     "output_type": "stream",
     "text": [
      "--2022-01-13 20:28:47--  http://vault.sfu.ca/index.php/s/2Xk6ZRbwfnjrOtu/download\n",
      "Resolving vault.sfu.ca (vault.sfu.ca)... 142.58.225.42\n",
      "Connecting to vault.sfu.ca (vault.sfu.ca)|142.58.225.42|:80... connected.\n",
      "HTTP request sent, awaiting response... 302 Found\n",
      "Location: https://vault.sfu.ca/index.php/s/2Xk6ZRbwfnjrOtu/download [following]\n",
      "--2022-01-13 20:28:48--  https://vault.sfu.ca/index.php/s/2Xk6ZRbwfnjrOtu/download\n",
      "Connecting to vault.sfu.ca (vault.sfu.ca)|142.58.225.42|:443... connected.\n",
      "HTTP request sent, awaiting response... 200 OK\n",
      "Length: 438019528 (418M) [application/octet-stream]\n",
      "Saving to: ‘download’\n",
      "\n",
      "download            100%[===================>] 417.73M  4.89MB/s    in 2m 25s  \n",
      "\n",
      "2022-01-13 20:31:14 (2.88 MB/s) - ‘download’ saved [438019528/438019528]\n",
      "\n"
     ]
    }
   ],
   "source": [
    "!wget http://vault.sfu.ca/index.php/s/2Xk6ZRbwfnjrOtu/download"
   ]
  },
  {
   "cell_type": "code",
   "execution_count": 24,
   "id": "5d1f7991-0743-4f1c-9d57-556f3c29f8a4",
   "metadata": {},
   "outputs": [],
   "source": [
    "a = list(sample_train_dataset.take(5))"
   ]
  },
  {
   "cell_type": "code",
   "execution_count": 25,
   "id": "01e62c0c-c0e0-4619-aaef-657800537a24",
   "metadata": {},
   "outputs": [
    {
     "data": {
      "text/plain": [
       "5"
      ]
     },
     "execution_count": 25,
     "metadata": {},
     "output_type": "execute_result"
    }
   ],
   "source": [
    "len(a)"
   ]
  },
  {
   "cell_type": "code",
   "execution_count": 26,
   "id": "2ffdd309-da82-46a0-9a2e-8781394bb6c6",
   "metadata": {},
   "outputs": [
    {
     "data": {
      "text/plain": [
       "2"
      ]
     },
     "execution_count": 26,
     "metadata": {},
     "output_type": "execute_result"
    }
   ],
   "source": [
    "len(a[0])"
   ]
  },
  {
   "cell_type": "code",
   "execution_count": 27,
   "id": "a3cc50be-f504-4fe2-b45b-6d6044efeef7",
   "metadata": {},
   "outputs": [
    {
     "data": {
      "text/plain": [
       "TensorShape([2, 192, 192, 16])"
      ]
     },
     "execution_count": 27,
     "metadata": {},
     "output_type": "execute_result"
    }
   ],
   "source": [
    "a[0][0].shape"
   ]
  },
  {
   "cell_type": "code",
   "execution_count": 28,
   "id": "176f0d5a-0a1d-4eb3-8fca-2e4db1722a18",
   "metadata": {},
   "outputs": [],
   "source": [
    "import matplotlib.pyplot as plt"
   ]
  },
  {
   "cell_type": "code",
   "execution_count": 29,
   "id": "e0ffb8b0-588e-429d-8425-305c786dcba3",
   "metadata": {},
   "outputs": [
    {
     "data": {
      "text/plain": [
       "<matplotlib.image.AxesImage at 0x7fefbdc5dba8>"
      ]
     },
     "execution_count": 29,
     "metadata": {},
     "output_type": "execute_result"
    },
    {
     "data": {
      "image/png": "[encoded data removed]",
      "text/plain": [
       "<Figure size 432x288 with 1 Axes>"
      ]
     },
     "metadata": {
      "needs_background": "light"
     },
     "output_type": "display_data"
    }
   ],
   "source": [
    "plt.imshow(a[0][0][0,:,:,0], cmap = \"gray\")"
   ]
  },
  {
   "cell_type": "code",
   "execution_count": 30,
   "id": "ffb8fd8c-2984-404c-b3ff-9d03e643b51c",
   "metadata": {},
   "outputs": [
    {
     "data": {
      "text/plain": [
       "<matplotlib.image.AxesImage at 0x7fefbdb9f7b8>"
      ]
     },
     "execution_count": 30,
     "metadata": {},
     "output_type": "execute_result"
    },
    {
     "data": {
      "image/png": "[encoded data removed]",
      "text/plain": [
       "<Figure size 432x288 with 1 Axes>"
      ]
     },
     "metadata": {
      "needs_background": "light"
     },
     "output_type": "display_data"
    }
   ],
   "source": [
    "plt.imshow(a[0][1][0,:,:,0], cmap = \"gray\")"
   ]
  },
  {
   "cell_type": "code",
   "execution_count": 30,
   "id": "28063f74-fe26-4c49-a023-19943ae48468",
   "metadata": {},
   "outputs": [
    {
     "data": {
      "text/plain": [
       "TensorShape([12, 192, 192, 4])"
      ]
     },
     "execution_count": 30,
     "metadata": {},
     "output_type": "execute_result"
    }
   ],
   "source": [
    "a[0][1].shape"
   ]
  },
  {
   "cell_type": "code",
   "execution_count": 33,
   "id": "cbf72366-2a8b-4f2f-a6de-d6e1b5f81aa6",
   "metadata": {},
   "outputs": [
    {
     "data": {
      "text/plain": [
       "<matplotlib.image.AxesImage at 0x7fefbda2e390>"
      ]
     },
     "execution_count": 33,
     "metadata": {},
     "output_type": "execute_result"
    },
    {
     "data": {
      "image/png": "[encoded data removed]",
      "text/plain": [
       "<Figure size 432x288 with 1 Axes>"
      ]
     },
     "metadata": {
      "needs_background": "light"
     },
     "output_type": "display_data"
    }
   ],
   "source": [
    "plt.imshow(a[0][0][0,:,:,3], cmap = \"gray\")"
   ]
  },
  {
   "cell_type": "code",
   "execution_count": 84,
   "id": "00a15159-9f79-4a4e-b823-78b596942521",
   "metadata": {},
   "outputs": [
    {
     "data": {
      "text/plain": [
       "<tf.Tensor: shape=(), dtype=bool, numpy=True>"
      ]
     },
     "execution_count": 84,
     "metadata": {},
     "output_type": "execute_result"
    }
   ],
   "source": [
    "tf.math.equal(tf.constant(True),tf.constant(True))"
   ]
  },
  {
   "cell_type": "code",
   "execution_count": 12,
   "id": "23bdde96-728a-498f-a9cf-9c8f81f2ff11",
   "metadata": {},
   "outputs": [],
   "source": [
    "tf.config.run_functions_eagerly(False)\n",
    "dataset = train_dataset.skip(1).map(parser).map(data_augmentation)"
   ]
  },
  {
   "cell_type": "code",
   "execution_count": 38,
   "id": "26a8fbc5-6eef-4f9a-bd02-fdeffd66786a",
   "metadata": {},
   "outputs": [
    {
     "name": "stdout",
     "output_type": "stream",
     "text": [
      "Help on function reset_default_graph in module tensorflow.python.framework.ops:\n",
      "\n",
      "reset_default_graph()\n",
      "    Clears the default graph stack and resets the global default graph.\n",
      "    \n",
      "    NOTE: The default graph is a property of the current thread. This\n",
      "    function applies only to the current thread.  Calling this function while\n",
      "    a `tf.compat.v1.Session` or `tf.compat.v1.InteractiveSession` is active will\n",
      "    result in undefined\n",
      "    behavior. Using any previously created `tf.Operation` or `tf.Tensor` objects\n",
      "    after calling this function will result in undefined behavior.\n",
      "    Raises:\n",
      "      AssertionError: If this function is called within a nested graph.\n",
      "\n"
     ]
    }
   ],
   "source": [
    "tf.compat.v1.reset_default_graph()\n",
    "\n",
    "tf.config.run_functions_eagerly(False)\n",
    "dataset = train_dataset.skip(1).map(parser).map(data_augmentation)\n",
    "\n",
    "writer = tf.summary.FileWriter('./graphs',tf.compat.v1.get_default_graph())"
   ]
  },
  {
   "cell_type": "code",
   "execution_count": 41,
   "id": "ccf772dd-12e8-4108-8190-bc8b0600e72b",
   "metadata": {},
   "outputs": [],
   "source": [
    "from datetime import datetime"
   ]
  },
  {
   "cell_type": "code",
   "execution_count": 51,
   "id": "34dedd42-2207-4812-99ff-923513e9177b",
   "metadata": {},
   "outputs": [
    {
     "name": "stdout",
     "output_type": "stream",
     "text": [
      "rotate_clk_img_and_msk\n",
      "[[0.79082644]]\n",
      "rotate_cclk_img_and_msk\n",
      "[[0.985974431]]\n",
      "coin_zoom_img_and_msk\n",
      "[[0.517354]]\n"
     ]
    }
   ],
   "source": [
    "f,fl = data_augmentation(image_og,label_og)"
   ]
  },
  {
   "cell_type": "code",
   "execution_count": 68,
   "id": "c14fcbf0-cf13-47bb-a538-31502fc3e5f4",
   "metadata": {},
   "outputs": [
    {
     "name": "stdout",
     "output_type": "stream",
     "text": [
      "flipping_img_and_msk\n",
      "[[0.819530487]]\n",
      "coin_zoom_img_and_msk\n",
      "[[0.813460946]]\n"
     ]
    }
   ],
   "source": [
    "# Set up logging.\n",
    "stamp = datetime.now().strftime(\"%Y%m%d-%H%M%S\")\n",
    "logdir = 'logs/func/%s' % stamp\n",
    "writer = tf.summary.create_file_writer(logdir)\n",
    "\n",
    "\n",
    "# Bracket the function call with\n",
    "# tf.summary.trace_on() and tf.summary.trace_export().\n",
    "tf.config.run_functions_eagerly(True)\n",
    "tf.summary.trace_on(graph=True, profiler=True)\n",
    "# Call only one tf.function when tracing.\n",
    "f,fl = data_augmentation(image_og,label_og)\n",
    "with writer.as_default():\n",
    "    tf.summary.trace_export(\n",
    "      name=\"dataset_comp\",\n",
    "      step=0,\n",
    "      profiler_outdir=logdir)"
   ]
  },
  {
   "cell_type": "code",
   "execution_count": 69,
   "id": "c66ce302-d5ca-4a3a-bbc8-05eb812eef93",
   "metadata": {},
   "outputs": [
    {
     "name": "stdout",
     "output_type": "stream",
     "text": [
      "The tensorboard extension is already loaded. To reload it, use:\n",
      "  %reload_ext tensorboard\n"
     ]
    }
   ],
   "source": [
    "%load_ext tensorboard"
   ]
  },
  {
   "cell_type": "code",
   "execution_count": 70,
   "id": "f7ce6aa1-f5bc-4560-90f6-624761dd5c47",
   "metadata": {},
   "outputs": [],
   "source": [
    "%reload_ext tensorboard"
   ]
  },
  {
   "cell_type": "code",
   "execution_count": 76,
   "id": "e97dddca-a50d-4b09-8acf-6aee0953b17c",
   "metadata": {},
   "outputs": [
    {
     "data": {
      "text/html": [
       "\n",
       "      <iframe id=\"tensorboard-frame-2c28038156335706\" width=\"100%\" height=\"800\" frameborder=\"0\">\n",
       "      </iframe>\n",
       "      <script>\n",
       "        (function() {\n",
       "          const frame = document.getElementById(\"tensorboard-frame-2c28038156335706\");\n",
       "          const url = new URL(\"/\", window.location);\n",
       "          const port = 6006;\n",
       "          if (port) {\n",
       "            url.port = port;\n",
       "          }\n",
       "          frame.src = url;\n",
       "        })();\n",
       "      </script>\n",
       "    "
      ],
      "text/plain": [
       "<IPython.core.display.HTML object>"
      ]
     },
     "metadata": {},
     "output_type": "display_data"
    }
   ],
   "source": [
    "%tensorboard --logdir logs/func"
   ]
  },
  {
   "cell_type": "code",
   "execution_count": 62,
   "id": "5ea5aa69-956b-42f1-abd3-9a2cd2464214",
   "metadata": {},
   "outputs": [
    {
     "name": "stdout",
     "output_type": "stream",
     "text": [
      "Help on function trace_on in module tensorflow.python.ops.summary_ops_v2:\n",
      "\n",
      "trace_on(graph=True, profiler=False)\n",
      "    Starts a trace to record computation graphs and profiling information.\n",
      "    \n",
      "    Must be invoked in eager mode.\n",
      "    \n",
      "    When enabled, TensorFlow runtime will collection information that can later be\n",
      "    exported and consumed by TensorBoard. The trace is activated across the entire\n",
      "    TensorFlow runtime and affects all threads of execution.\n",
      "    \n",
      "    To stop the trace and export the collected information, use\n",
      "    `tf.summary.trace_export`. To stop the trace without exporting, use\n",
      "    `tf.summary.trace_off`.\n",
      "    \n",
      "    Args:\n",
      "      graph: If True, enables collection of executed graphs. It includes ones from\n",
      "          tf.function invocation and ones from the legacy graph mode. The default\n",
      "          is True.\n",
      "      profiler: If True, enables the advanced profiler. Enabling profiler\n",
      "          implicitly enables the graph collection. The profiler may incur a high\n",
      "          memory overhead. The default is False.\n",
      "\n"
     ]
    }
   ],
   "source": [
    "help(tf.summary.trace_on)"
   ]
  },
  {
   "cell_type": "code",
   "execution_count": 77,
   "id": "eb667c4c-1b01-4fdc-859e-32124f18a6e0",
   "metadata": {},
   "outputs": [
    {
     "name": "stdout",
     "output_type": "stream",
     "text": [
      "Help on method map in module tensorflow.python.data.ops.dataset_ops:\n",
      "\n",
      "map(map_func, num_parallel_calls=None, deterministic=None) method of tensorflow.python.data.ops.dataset_ops.MapDataset instance\n",
      "    Maps `map_func` across the elements of this dataset.\n",
      "    \n",
      "    This transformation applies `map_func` to each element of this dataset, and\n",
      "    returns a new dataset containing the transformed elements, in the same\n",
      "    order as they appeared in the input. `map_func` can be used to change both\n",
      "    the values and the structure of a dataset's elements. Supported structure\n",
      "    constructs are documented\n",
      "    [here](https://www.tensorflow.org/guide/data#dataset_structure).\n",
      "    \n",
      "    For example, `map` can be used for adding 1 to each element, or projecting a\n",
      "    subset of element components.\n",
      "    \n",
      "    >>> dataset = Dataset.range(1, 6)  # ==> [ 1, 2, 3, 4, 5 ]\n",
      "    >>> dataset = dataset.map(lambda x: x + 1)\n",
      "    >>> list(dataset.as_numpy_iterator())\n",
      "    [2, 3, 4, 5, 6]\n",
      "    \n",
      "    The input signature of `map_func` is determined by the structure of each\n",
      "    element in this dataset.\n",
      "    \n",
      "    >>> dataset = Dataset.range(5)\n",
      "    >>> # `map_func` takes a single argument of type `tf.Tensor` with the same\n",
      "    >>> # shape and dtype.\n",
      "    >>> result = dataset.map(lambda x: x + 1)\n",
      "    \n",
      "    >>> # Each element is a tuple containing two `tf.Tensor` objects.\n",
      "    >>> elements = [(1, \"foo\"), (2, \"bar\"), (3, \"baz\")]\n",
      "    >>> dataset = tf.data.Dataset.from_generator(\n",
      "    ...     lambda: elements, (tf.int32, tf.string))\n",
      "    >>> # `map_func` takes two arguments of type `tf.Tensor`. This function\n",
      "    >>> # projects out just the first component.\n",
      "    >>> result = dataset.map(lambda x_int, y_str: x_int)\n",
      "    >>> list(result.as_numpy_iterator())\n",
      "    [1, 2, 3]\n",
      "    \n",
      "    >>> # Each element is a dictionary mapping strings to `tf.Tensor` objects.\n",
      "    >>> elements =  ([{\"a\": 1, \"b\": \"foo\"},\n",
      "    ...               {\"a\": 2, \"b\": \"bar\"},\n",
      "    ...               {\"a\": 3, \"b\": \"baz\"}])\n",
      "    >>> dataset = tf.data.Dataset.from_generator(\n",
      "    ...     lambda: elements, {\"a\": tf.int32, \"b\": tf.string})\n",
      "    >>> # `map_func` takes a single argument of type `dict` with the same keys\n",
      "    >>> # as the elements.\n",
      "    >>> result = dataset.map(lambda d: str(d[\"a\"]) + d[\"b\"])\n",
      "    \n",
      "    The value or values returned by `map_func` determine the structure of each\n",
      "    element in the returned dataset.\n",
      "    \n",
      "    >>> dataset = tf.data.Dataset.range(3)\n",
      "    >>> # `map_func` returns two `tf.Tensor` objects.\n",
      "    >>> def g(x):\n",
      "    ...   return tf.constant(37.0), tf.constant([\"Foo\", \"Bar\", \"Baz\"])\n",
      "    >>> result = dataset.map(g)\n",
      "    >>> result.element_spec\n",
      "    (TensorSpec(shape=(), dtype=tf.float32, name=None), TensorSpec(shape=(3,), dtype=tf.string, name=None))\n",
      "    >>> # Python primitives, lists, and NumPy arrays are implicitly converted to\n",
      "    >>> # `tf.Tensor`.\n",
      "    >>> def h(x):\n",
      "    ...   return 37.0, [\"Foo\", \"Bar\"], np.array([1.0, 2.0], dtype=np.float64)\n",
      "    >>> result = dataset.map(h)\n",
      "    >>> result.element_spec\n",
      "    (TensorSpec(shape=(), dtype=tf.float32, name=None), TensorSpec(shape=(2,), dtype=tf.string, name=None), TensorSpec(shape=(2,), dtype=tf.float64, name=None))\n",
      "    >>> # `map_func` can return nested structures.\n",
      "    >>> def i(x):\n",
      "    ...   return (37.0, [42, 16]), \"foo\"\n",
      "    >>> result = dataset.map(i)\n",
      "    >>> result.element_spec\n",
      "    ((TensorSpec(shape=(), dtype=tf.float32, name=None),\n",
      "      TensorSpec(shape=(2,), dtype=tf.int32, name=None)),\n",
      "     TensorSpec(shape=(), dtype=tf.string, name=None))\n",
      "    \n",
      "    `map_func` can accept as arguments and return any type of dataset element.\n",
      "    \n",
      "    Note that irrespective of the context in which `map_func` is defined (eager\n",
      "    vs. graph), tf.data traces the function and executes it as a graph. To use\n",
      "    Python code inside of the function you have a few options:\n",
      "    \n",
      "    1) Rely on AutoGraph to convert Python code into an equivalent graph\n",
      "    computation. The downside of this approach is that AutoGraph can convert\n",
      "    some but not all Python code.\n",
      "    \n",
      "    2) Use `tf.py_function`, which allows you to write arbitrary Python code but\n",
      "    will generally result in worse performance than 1). For example:\n",
      "    \n",
      "    >>> d = tf.data.Dataset.from_tensor_slices(['hello', 'world'])\n",
      "    >>> # transform a string tensor to upper case string using a Python function\n",
      "    >>> def upper_case_fn(t: tf.Tensor):\n",
      "    ...   return t.numpy().decode('utf-8').upper()\n",
      "    >>> d = d.map(lambda x: tf.py_function(func=upper_case_fn,\n",
      "    ...           inp=[x], Tout=tf.string))\n",
      "    >>> list(d.as_numpy_iterator())\n",
      "    [b'HELLO', b'WORLD']\n",
      "    \n",
      "    3) Use `tf.numpy_function`, which also allows you to write arbitrary\n",
      "    Python code. Note that `tf.py_function` accepts `tf.Tensor` whereas\n",
      "    `tf.numpy_function` accepts numpy arrays and returns only numpy arrays.\n",
      "    For example:\n",
      "    \n",
      "    >>> d = tf.data.Dataset.from_tensor_slices(['hello', 'world'])\n",
      "    >>> def upper_case_fn(t: np.ndarray):\n",
      "    ...   return t.decode('utf-8').upper()\n",
      "    >>> d = d.map(lambda x: tf.numpy_function(func=upper_case_fn,\n",
      "    ...           inp=[x], Tout=tf.string))\n",
      "    >>> list(d.as_numpy_iterator())\n",
      "    [b'HELLO', b'WORLD']\n",
      "    \n",
      "    Note that the use of `tf.numpy_function` and `tf.py_function`\n",
      "    in general precludes the possibility of executing user-defined\n",
      "    transformations in parallel (because of Python GIL).\n",
      "    \n",
      "    Performance can often be improved by setting `num_parallel_calls` so that\n",
      "    `map` will use multiple threads to process elements. If deterministic order\n",
      "    isn't required, it can also improve performance to set\n",
      "    `deterministic=False`.\n",
      "    \n",
      "    >>> dataset = Dataset.range(1, 6)  # ==> [ 1, 2, 3, 4, 5 ]\n",
      "    >>> dataset = dataset.map(lambda x: x + 1,\n",
      "    ...     num_parallel_calls=tf.data.AUTOTUNE,\n",
      "    ...     deterministic=False)\n",
      "    \n",
      "    The order of elements yielded by this transformation is deterministic if\n",
      "    `deterministic=True`. If `map_func` contains stateful operations and\n",
      "    `num_parallel_calls > 1`, the order in which that state is accessed is\n",
      "    undefined, so the values of output elements may not be deterministic\n",
      "    regardless of the `deterministic` flag value.\n",
      "    \n",
      "    Args:\n",
      "      map_func: A function mapping a dataset element to another dataset element.\n",
      "      num_parallel_calls: (Optional.) A `tf.int64` scalar `tf.Tensor`,\n",
      "        representing the number elements to process asynchronously in parallel.\n",
      "        If not specified, elements will be processed sequentially. If the value\n",
      "        `tf.data.AUTOTUNE` is used, then the number of parallel\n",
      "        calls is set dynamically based on available CPU.\n",
      "      deterministic: (Optional.) When `num_parallel_calls` is specified, if this\n",
      "        boolean is specified (`True` or `False`), it controls the order in which\n",
      "        the transformation produces elements. If set to `False`, the\n",
      "        transformation is allowed to yield elements out of order to trade\n",
      "        determinism for performance. If not specified, the\n",
      "        `tf.data.Options.experimental_deterministic` option\n",
      "        (`True` by default) controls the behavior.\n",
      "    \n",
      "    Returns:\n",
      "      Dataset: A `Dataset`.\n",
      "\n"
     ]
    }
   ],
   "source": [
    "help(dataset.map)"
   ]
  },
  {
   "cell_type": "code",
   "execution_count": 75,
   "id": "2bbc725d-c8c3-4d03-b91c-f7d25e0d818e",
   "metadata": {},
   "outputs": [],
   "source": [
    "# The function to be traced.\n",
    "@tf.function\n",
    "def my_func(x, y):\n",
    "  # A simple hand-rolled layer.\n",
    "  return tf.nn.relu(tf.matmul(x, y))\n",
    "\n",
    "# Set up logging.\n",
    "stamp = datetime.now().strftime(\"%Y%m%d-%H%M%S\")\n",
    "logdir = 'logs/func/%s' % stamp\n",
    "writer = tf.summary.create_file_writer(logdir)\n",
    "\n",
    "# Sample data for your function.\n",
    "x = tf.random.uniform((3, 3))\n",
    "y = tf.random.uniform((3, 3))\n",
    "\n",
    "# Bracket the function call with\n",
    "# tf.summary.trace_on() and tf.summary.trace_export().\n",
    "tf.summary.trace_on(graph=True, profiler=True)\n",
    "# Call only one tf.function when tracing.\n",
    "z = my_func(x, y)\n",
    "with writer.as_default():\n",
    "  tf.summary.trace_export(\n",
    "      name=\"my_func_trace\",\n",
    "      step=0,\n",
    "      profiler_outdir=logdir)"
   ]
  },
  {
   "cell_type": "code",
   "execution_count": 33,
   "id": "81fe81e6-5c50-4bf6-8c3f-cafd594061d9",
   "metadata": {},
   "outputs": [],
   "source": [
    "input_shape = (512, 512, 4)"
   ]
  },
  {
   "cell_type": "code",
   "execution_count": 31,
   "id": "6779d876-20c2-4b16-8cd6-ea39c7e0c10e",
   "metadata": {},
   "outputs": [],
   "source": [
    "from tensorflow.keras.layers import Conv2D\n",
    "import tensorflow as tf\n",
    "from tensorflow.keras import Sequential"
   ]
  },
  {
   "cell_type": "code",
   "execution_count": 34,
   "id": "640d35a8-3f14-4367-917e-1617a67b5a1a",
   "metadata": {},
   "outputs": [],
   "source": [
    "model = Sequential()\n",
    "\n",
    "model.add(Conv2D(filters = 32,input_shape = input_shape, kernel_size = (3,3),activation='relu', padding='same'))\n",
    "model.add(Conv2D(filters = 1,kernel_size = (1,1),activation='sigmoid', padding='same'))\n",
    "\n",
    "model.compile(optimizer='adam',\n",
    "              loss=tf.keras.losses.SparseCategoricalCrossentropy(from_logits=True),\n",
    "              metrics=['accuracy'])\n",
    "\n",
    "  "
   ]
  },
  {
   "cell_type": "code",
   "execution_count": 36,
   "id": "89d61fde-f45e-44fe-b5e1-1dafefbe9aab",
   "metadata": {},
   "outputs": [
    {
     "name": "stdout",
     "output_type": "stream",
     "text": [
      "Model: \"sequential_1\"\n",
      "_________________________________________________________________\n",
      "Layer (type)                 Output Shape              Param #   \n",
      "=================================================================\n",
      "conv2d (Conv2D)              (None, 512, 512, 32)      1184      \n",
      "_________________________________________________________________\n",
      "conv2d_1 (Conv2D)            (None, 512, 512, 1)       33        \n",
      "=================================================================\n",
      "Total params: 1,217\n",
      "Trainable params: 1,217\n",
      "Non-trainable params: 0\n",
      "_________________________________________________________________\n"
     ]
    }
   ],
   "source": [
    "model.summary()"
   ]
  },
  {
   "cell_type": "code",
   "execution_count": null,
   "id": "0f04076d-dbf4-439e-a5a8-25f66078bd5b",
   "metadata": {},
   "outputs": [],
   "source": []
  },
  {
   "cell_type": "code",
   "execution_count": 35,
   "id": "8f959951-4763-468d-ac40-86069343e869",
   "metadata": {},
   "outputs": [
    {
     "name": "stdout",
     "output_type": "stream",
     "text": [
      "('You must install pydot (`pip install pydot`) and install graphviz (see instructions at https://graphviz.gitlab.io/download/) ', 'for plot_model/model_to_dot to work.')\n"
     ]
    }
   ],
   "source": [
    "tf.keras.utils.plot_model(model, show_shapes=True)"
   ]
  },
  {
   "cell_type": "code",
   "execution_count": null,
   "id": "6f6a71d4-5188-4fe3-8865-0472a3808e21",
   "metadata": {},
   "outputs": [],
   "source": [
    "model = models.Sequential()\n",
    "model.add(layers.Conv2D(32, (3, 3), activation='relu', input_shape=(32, 32, 3)))\n",
    "model.add(layers.MaxPooling2D((2, 2)))\n",
    "model.add(layers.Conv2D(64, (3, 3), activation='relu'))\n",
    "model.add(layers.MaxPooling2D((2, 2)))\n",
    "model.add(layers.Conv2D(64, (3, 3), activation='relu'))"
   ]
  },
  {
   "cell_type": "code",
   "execution_count": null,
   "id": "27c5eb10-b150-4bde-9aae-a17c1e86a479",
   "metadata": {},
   "outputs": [],
   "source": []
  },
  {
   "cell_type": "code",
   "execution_count": 13,
   "id": "f34270f8-84b3-4094-8c53-8a1effc347f6",
   "metadata": {
    "collapsed": true,
    "jupyter": {
     "outputs_hidden": true
    },
    "tags": []
   },
   "outputs": [
    {
     "name": "stdout",
     "output_type": "stream",
     "text": [
      "flipping_img_and_msk\n",
      "[[0.769589543]]\n",
      "coin_zoom_img_and_msk\n",
      "[[0.879184723]]\n",
      "before zoom\n",
      "tf.float32\n",
      "zoom 2\n",
      "tf.float32\n",
      "rotate_clk_img_and_msk\n",
      "[[0.710716128]]\n",
      "flipping_img_and_msk\n",
      "[[0.506204]]\n",
      "flipping_img_and_msk\n",
      "[[0.961349845]]\n",
      "rotate_clk_img_and_msk\n",
      "[[0.522604108]]\n",
      "rotate_cclk_img_and_msk\n",
      "[[0.870754838]]\n",
      "rotate_clk_img_and_msk\n",
      "[[0.727573276]]\n",
      "coin_zoom_img_and_msk\n",
      "[[0.563992739]]\n",
      "before zoom\n",
      "tf.float32\n",
      "zoom 3\n",
      "tf.float32\n",
      "rotate_cclk_img_and_msk\n",
      "[[0.60824132]]\n",
      "coin_zoom_img_and_msk\n",
      "[[0.611725807]]\n",
      "before zoom\n",
      "tf.float32\n",
      "zoom 2\n",
      "tf.float32\n",
      "rotate_clk_img_and_msk\n",
      "[[0.695493698]]\n",
      "flipping_img_and_msk\n",
      "[[0.677584648]]\n",
      "rotate_cclk_img_and_msk\n",
      "[[0.950132608]]\n",
      "flipping_img_and_msk\n",
      "[[0.638463259]]\n",
      "rotate_clk_img_and_msk\n",
      "[[0.961683393]]\n",
      "rotate_clk_img_and_msk\n",
      "[[0.550060153]]\n",
      "flipping_img_and_msk\n",
      "[[0.7014606]]\n",
      "rotate_clk_img_and_msk\n",
      "[[0.630058527]]\n",
      "flipping_img_and_msk\n",
      "[[0.669974208]]\n",
      "coin_zoom_img_and_msk\n",
      "[[0.535625458]]\n",
      "before zoom\n",
      "tf.float32\n",
      "zoom 4\n",
      "tf.float32\n",
      "rotate_cclk_img_and_msk\n",
      "[[0.784454584]]\n",
      "flipping_img_and_msk\n",
      "[[0.696957946]]\n",
      "rotate_clk_img_and_msk\n",
      "[[0.52628696]]\n",
      "rotate_cclk_img_and_msk\n",
      "[[0.791091561]]\n",
      "rotate_clk_img_and_msk\n",
      "[[0.950694799]]\n",
      "rotate_cclk_img_and_msk\n",
      "[[0.97337234]]\n",
      "flipping_img_and_msk\n",
      "[[0.639861226]]\n",
      "rotate_clk_img_and_msk\n",
      "[[0.827938914]]\n",
      "coin_zoom_img_and_msk\n",
      "[[0.821228266]]\n",
      "before zoom\n",
      "tf.float32\n",
      "zoom 4\n",
      "tf.float32\n",
      "rotate_cclk_img_and_msk\n",
      "[[0.648077]]\n",
      "coin_zoom_img_and_msk\n",
      "[[0.914892673]]\n",
      "before zoom\n",
      "tf.float32\n",
      "zoom 4\n",
      "tf.float32\n",
      "rotate_cclk_img_and_msk\n",
      "[[0.64242208]]\n",
      "flipping_img_and_msk\n",
      "[[0.580541372]]\n",
      "rotate_cclk_img_and_msk\n",
      "[[0.881361842]]\n",
      "flipping_img_and_msk\n",
      "[[0.818038702]]\n",
      "rotate_cclk_img_and_msk\n",
      "[[0.821817279]]\n",
      "flipping_img_and_msk\n",
      "[[0.888451]]\n",
      "rotate_cclk_img_and_msk\n",
      "[[0.565251589]]\n",
      "rotate_cclk_img_and_msk\n",
      "[[0.578201771]]\n",
      "flipping_img_and_msk\n",
      "[[0.610059738]]\n",
      "coin_zoom_img_and_msk\n",
      "[[0.598605514]]\n",
      "before zoom\n",
      "tf.float32\n",
      "zoom 4\n",
      "tf.float32\n",
      "rotate_cclk_img_and_msk\n",
      "[[0.625775576]]\n",
      "coin_zoom_img_and_msk\n",
      "[[0.565230727]]\n",
      "before zoom\n",
      "tf.float32\n",
      "zoom 3\n",
      "tf.float32\n",
      "rotate_cclk_img_and_msk\n",
      "[[0.892226934]]\n",
      "rotate_clk_img_and_msk\n",
      "[[0.922409296]]\n",
      "flipping_img_and_msk\n",
      "[[0.551907182]]\n",
      "coin_zoom_img_and_msk\n",
      "[[0.952262878]]\n",
      "before zoom\n",
      "tf.float32\n",
      "zoom 3\n",
      "tf.float32\n",
      "rotate_clk_img_and_msk\n",
      "[[0.707715869]]\n",
      "rotate_cclk_img_and_msk\n",
      "[[0.895806909]]\n",
      "coin_zoom_img_and_msk\n",
      "[[0.761796117]]\n",
      "before zoom\n",
      "tf.float32\n",
      "zoom 4\n",
      "tf.float32\n",
      "flipping_img_and_msk\n",
      "[[0.730102658]]\n",
      "coin_zoom_img_and_msk\n",
      "[[0.745848536]]\n",
      "before zoom\n",
      "tf.float32\n",
      "zoom 4\n",
      "tf.float32\n",
      "rotate_cclk_img_and_msk\n",
      "[[0.678808093]]\n",
      "flipping_img_and_msk\n",
      "[[0.606835723]]\n",
      "coin_zoom_img_and_msk\n",
      "[[0.528161287]]\n",
      "before zoom\n",
      "tf.float32\n",
      "zoom 11\n",
      "tf.float32\n",
      "flipping_img_and_msk\n",
      "[[0.618918657]]\n",
      "rotate_cclk_img_and_msk\n",
      "[[0.785328031]]\n",
      "flipping_img_and_msk\n",
      "[[0.804048181]]\n",
      "coin_zoom_img_and_msk\n",
      "[[0.555601358]]\n",
      "before zoom\n",
      "tf.float32\n",
      "zoom 2\n",
      "tf.float32\n",
      "flipping_img_and_msk\n",
      "[[0.970945716]]\n",
      "coin_zoom_img_and_msk\n",
      "[[0.753547192]]\n",
      "before zoom\n",
      "tf.float32\n",
      "zoom 3\n",
      "tf.float32\n",
      "rotate_cclk_img_and_msk\n",
      "[[0.574774146]]\n",
      "flipping_img_and_msk\n",
      "[[0.523582458]]\n",
      "coin_zoom_img_and_msk\n",
      "[[0.618281603]]\n",
      "before zoom\n",
      "tf.float32\n",
      "zoom 2\n",
      "tf.float32\n",
      "rotate_clk_img_and_msk\n",
      "[[0.844640613]]\n",
      "rotate_cclk_img_and_msk\n",
      "[[0.820000291]]\n",
      "flipping_img_and_msk\n",
      "[[0.746277809]]\n",
      "rotate_clk_img_and_msk\n",
      "[[0.651464581]]\n",
      "rotate_clk_img_and_msk\n",
      "[[0.763477087]]\n",
      "rotate_cclk_img_and_msk\n",
      "[[0.878129125]]\n",
      "flipping_img_and_msk\n",
      "[[0.597967863]]\n",
      "coin_zoom_img_and_msk\n",
      "[[0.722738862]]\n",
      "before zoom\n",
      "tf.float32\n",
      "zoom 2\n",
      "tf.float32\n",
      "rotate_clk_img_and_msk\n",
      "[[0.947425]]\n",
      "rotate_cclk_img_and_msk\n",
      "[[0.788886428]]\n",
      "flipping_img_and_msk\n",
      "[[0.711657763]]\n",
      "coin_zoom_img_and_msk\n",
      "[[0.741270304]]\n",
      "before zoom\n",
      "tf.float32\n",
      "zoom 4\n",
      "tf.float32\n",
      "coin_zoom_img_and_msk\n",
      "[[0.705041289]]\n",
      "before zoom\n",
      "tf.float32\n",
      "zoom 0\n",
      "tf.float32\n",
      "rotate_clk_img_and_msk\n",
      "[[0.501519442]]\n",
      "coin_zoom_img_and_msk\n",
      "[[0.811399579]]\n",
      "before zoom\n",
      "tf.float32\n",
      "zoom 3\n",
      "tf.float32\n",
      "rotate_cclk_img_and_msk\n",
      "[[0.597439647]]\n",
      "flipping_img_and_msk\n",
      "[[0.717128396]]\n",
      "rotate_clk_img_and_msk\n",
      "[[0.962147832]]\n",
      "flipping_img_and_msk\n",
      "[[0.945540667]]\n",
      "flipping_img_and_msk\n",
      "[[0.8868922]]\n"
     ]
    }
   ],
   "source": [
    "outputs = list(dataset.take(50))"
   ]
  },
  {
   "cell_type": "code",
   "execution_count": 153,
   "id": "a69d143b-5f53-4392-af10-f1965badc344",
   "metadata": {},
   "outputs": [],
   "source": [
    "zlike = tf.zeros_like(\n",
    "    image, dtype=None, name=None\n",
    ")"
   ]
  },
  {
   "cell_type": "code",
   "execution_count": 173,
   "id": "2194be20-152d-49dd-bf8d-6976a73b5dca",
   "metadata": {},
   "outputs": [
    {
     "data": {
      "text/plain": [
       "<tf.Tensor: shape=(), dtype=int32, numpy=18>"
      ]
     },
     "execution_count": 173,
     "metadata": {},
     "output_type": "execute_result"
    }
   ],
   "source": [
    "tf.cast(18.5,dtype = tf.int32)"
   ]
  },
  {
   "cell_type": "code",
   "execution_count": 157,
   "id": "30eb8d48-2599-47b9-87f6-9d60368ee075",
   "metadata": {},
   "outputs": [
    {
     "data": {
      "text/plain": [
       "tf.uint8"
      ]
     },
     "execution_count": 157,
     "metadata": {},
     "output_type": "execute_result"
    }
   ],
   "source": [
    "zlike.dtype"
   ]
  },
  {
   "cell_type": "code",
   "execution_count": 158,
   "id": "23205ada-486d-45aa-b7ba-fc4ae26e2164",
   "metadata": {},
   "outputs": [
    {
     "data": {
      "text/plain": [
       "tf.uint8"
      ]
     },
     "execution_count": 158,
     "metadata": {},
     "output_type": "execute_result"
    }
   ],
   "source": [
    "image.dtype"
   ]
  },
  {
   "cell_type": "code",
   "execution_count": 154,
   "id": "cef42366-614f-4f38-b217-6b0eaf9982d3",
   "metadata": {},
   "outputs": [
    {
     "data": {
      "text/plain": [
       "TensorShape([512, 512, 16])"
      ]
     },
     "execution_count": 154,
     "metadata": {},
     "output_type": "execute_result"
    }
   ],
   "source": [
    "image.shape"
   ]
  },
  {
   "cell_type": "code",
   "execution_count": 156,
   "id": "9dfe2351-bd42-4c6c-a000-f5c8720032ee",
   "metadata": {},
   "outputs": [
    {
     "data": {
      "text/plain": [
       "TensorShape([512, 512, 16])"
      ]
     },
     "execution_count": 156,
     "metadata": {},
     "output_type": "execute_result"
    }
   ],
   "source": [
    "zlike.shape"
   ]
  },
  {
   "cell_type": "code",
   "execution_count": 67,
   "id": "f33dc0ba-0332-477e-a35b-5cf9e44da48e",
   "metadata": {
    "tags": []
   },
   "outputs": [],
   "source": [
    "tf.config.run_functions_eagerly(True)\n",
    "dataset = train_dataset.skip(1).map(parser)"
   ]
  },
  {
   "cell_type": "code",
   "execution_count": 68,
   "id": "80556fe7-d06c-4f55-8d71-0f919d716bdf",
   "metadata": {},
   "outputs": [],
   "source": [
    "dataset = train_dataset.skip(1).map(parser)"
   ]
  },
  {
   "cell_type": "code",
   "execution_count": 69,
   "id": "26b30512-d04a-4851-8a1e-0da22fc28170",
   "metadata": {},
   "outputs": [],
   "source": [
    "f = list(dataset.take(5))"
   ]
  },
  {
   "cell_type": "code",
   "execution_count": 59,
   "id": "41f786eb-37ec-43c6-8365-00b823d9972c",
   "metadata": {},
   "outputs": [
    {
     "data": {
      "text/plain": [
       "5"
      ]
     },
     "execution_count": 59,
     "metadata": {},
     "output_type": "execute_result"
    }
   ],
   "source": [
    "len(f)"
   ]
  },
  {
   "cell_type": "code",
   "execution_count": 60,
   "id": "837f93b7-2952-43f2-81a1-c757bd276fb0",
   "metadata": {},
   "outputs": [
    {
     "data": {
      "text/plain": [
       "2"
      ]
     },
     "execution_count": 60,
     "metadata": {},
     "output_type": "execute_result"
    }
   ],
   "source": [
    "len(f[0])"
   ]
  },
  {
   "cell_type": "code",
   "execution_count": 61,
   "id": "e7b03dfa-1041-478a-9db4-525079d79320",
   "metadata": {},
   "outputs": [
    {
     "data": {
      "text/plain": [
       "TensorShape([512, 512, 16])"
      ]
     },
     "execution_count": 61,
     "metadata": {},
     "output_type": "execute_result"
    }
   ],
   "source": [
    "f[0][0].shape"
   ]
  },
  {
   "cell_type": "code",
   "execution_count": 62,
   "id": "18cc2706-c22a-47c6-8435-4785395df6a0",
   "metadata": {},
   "outputs": [
    {
     "data": {
      "text/plain": [
       "tensorflow.python.framework.ops.EagerTensor"
      ]
     },
     "execution_count": 62,
     "metadata": {},
     "output_type": "execute_result"
    }
   ],
   "source": [
    "type(f[0][0])"
   ]
  },
  {
   "cell_type": "code",
   "execution_count": 52,
   "id": "4b016427-0c05-4d4d-93a5-d43612db16ea",
   "metadata": {},
   "outputs": [],
   "source": [
    "import matplotlib.pyplot as plt"
   ]
  },
  {
   "cell_type": "code",
   "execution_count": 53,
   "id": "18c8e3c8-3def-477c-8780-aa8c361882a4",
   "metadata": {},
   "outputs": [
    {
     "data": {
      "text/plain": [
       "<matplotlib.image.AxesImage at 0x7ff86dc1ada0>"
      ]
     },
     "execution_count": 53,
     "metadata": {},
     "output_type": "execute_result"
    },
    {
     "data": {
      "image/png": "[encoded data removed]",
      "text/plain": [
       "<Figure size 432x288 with 1 Axes>"
      ]
     },
     "metadata": {
      "needs_background": "light"
     },
     "output_type": "display_data"
    }
   ],
   "source": [
    "plt.imshow(f[0][0][:,:,0].numpy(), cmap= \"gray\")"
   ]
  },
  {
   "cell_type": "code",
   "execution_count": 54,
   "id": "04c92d3b-4b13-4efc-8a00-d28fa0938f16",
   "metadata": {},
   "outputs": [
    {
     "data": {
      "text/plain": [
       "TensorShape([512, 512, 4])"
      ]
     },
     "execution_count": 54,
     "metadata": {},
     "output_type": "execute_result"
    }
   ],
   "source": [
    "f[0][1].shape"
   ]
  },
  {
   "cell_type": "code",
   "execution_count": 55,
   "id": "e1229379-1715-4988-8f8e-db00e86337c3",
   "metadata": {},
   "outputs": [
    {
     "data": {
      "text/plain": [
       "tensorflow.python.framework.ops.EagerTensor"
      ]
     },
     "execution_count": 55,
     "metadata": {},
     "output_type": "execute_result"
    }
   ],
   "source": [
    "type(f[0][1])"
   ]
  },
  {
   "cell_type": "code",
   "execution_count": 56,
   "id": "97915f03-cda8-4f76-84d1-3a29e659fa1d",
   "metadata": {},
   "outputs": [
    {
     "data": {
      "text/plain": [
       "<matplotlib.image.AxesImage at 0x7ff86db686d8>"
      ]
     },
     "execution_count": 56,
     "metadata": {},
     "output_type": "execute_result"
    },
    {
     "data": {
      "image/png": "[encoded data removed]",
      "text/plain": [
       "<Figure size 432x288 with 1 Axes>"
      ]
     },
     "metadata": {
      "needs_background": "light"
     },
     "output_type": "display_data"
    }
   ],
   "source": [
    "plt.imshow(f[0][1][:,:,0], cmap = \"gray\")"
   ]
  },
  {
   "cell_type": "code",
   "execution_count": 70,
   "id": "22b20ed2-0b55-4645-bda4-8916c29ff14b",
   "metadata": {},
   "outputs": [],
   "source": [
    "image, label = f[0]"
   ]
  },
  {
   "cell_type": "code",
   "execution_count": 71,
   "id": "c70a4273-ca1b-4cfb-8307-e901dc45de1e",
   "metadata": {},
   "outputs": [
    {
     "data": {
      "text/plain": [
       "TensorShape([512, 512, 16])"
      ]
     },
     "execution_count": 71,
     "metadata": {},
     "output_type": "execute_result"
    }
   ],
   "source": [
    "image.shape"
   ]
  },
  {
   "cell_type": "code",
   "execution_count": 72,
   "id": "692e71b9-9127-44ac-a788-a6924db0ba80",
   "metadata": {},
   "outputs": [
    {
     "data": {
      "text/plain": [
       "TensorShape([512, 512, 4])"
      ]
     },
     "execution_count": 72,
     "metadata": {},
     "output_type": "execute_result"
    }
   ],
   "source": [
    "label.shape"
   ]
  },
  {
   "cell_type": "code",
   "execution_count": null,
   "id": "99a21933-bc1b-4bc9-9930-dabe7ebfc357",
   "metadata": {},
   "outputs": [],
   "source": [
    "tf.config.run_functions_eagerly(True)\n"
   ]
  },
  {
   "cell_type": "code",
   "execution_count": 86,
   "id": "ef0c6a26-31b0-4d4a-aabb-d71d1f0bd6a2",
   "metadata": {},
   "outputs": [],
   "source": [
    "tf.config.run_functions_eagerly(False)\n",
    "ir,lr = rotate_clk_img_and_msk(image, label)"
   ]
  },
  {
   "cell_type": "code",
   "execution_count": 74,
   "id": "388be6da-20ac-4631-9181-11f883e749a7",
   "metadata": {},
   "outputs": [
    {
     "data": {
      "text/plain": [
       "tf.uint8"
      ]
     },
     "execution_count": 74,
     "metadata": {},
     "output_type": "execute_result"
    }
   ],
   "source": [
    "image.dtype"
   ]
  },
  {
   "cell_type": "code",
   "execution_count": 76,
   "id": "c8099fd0-691b-4933-b53d-baa75883fa15",
   "metadata": {},
   "outputs": [
    {
     "data": {
      "text/plain": [
       "tf.uint8"
      ]
     },
     "execution_count": 76,
     "metadata": {},
     "output_type": "execute_result"
    }
   ],
   "source": [
    "label.dtype"
   ]
  },
  {
   "cell_type": "code",
   "execution_count": 77,
   "id": "8c24eb0e-ac3b-4f44-9432-a28ae3a32514",
   "metadata": {},
   "outputs": [
    {
     "data": {
      "text/plain": [
       "<tf.Tensor: shape=(512, 512, 16), dtype=float32, numpy=\n",
       "array([[[  5.,   5.,   5., ...,   3.,   3., 255.],\n",
       "        [  5.,   5.,   5., ...,   3.,   3., 255.],\n",
       "        [  6.,   6.,   6., ...,   3.,   3., 255.],\n",
       "        ...,\n",
       "        [ 27.,  27.,  27., ...,  24.,  24., 255.],\n",
       "        [ 24.,  24.,  24., ...,  22.,  22., 255.],\n",
       "        [ 24.,  24.,  24., ...,  22.,  22., 255.]],\n",
       "\n",
       "       [[  6.,   6.,   6., ...,   3.,   3., 255.],\n",
       "        [  5.,   5.,   5., ...,   3.,   3., 255.],\n",
       "        [  6.,   6.,   6., ...,   3.,   3., 255.],\n",
       "        ...,\n",
       "        [ 26.,  26.,  26., ...,  23.,  23., 255.],\n",
       "        [ 24.,  24.,  24., ...,  22.,  22., 255.],\n",
       "        [ 24.,  24.,  24., ...,  21.,  21., 255.]],\n",
       "\n",
       "       [[  6.,   6.,   6., ...,   3.,   3., 255.],\n",
       "        [  5.,   5.,   5., ...,   3.,   3., 255.],\n",
       "        [  6.,   6.,   6., ...,   3.,   3., 255.],\n",
       "        ...,\n",
       "        [ 24.,  24.,  24., ...,  21.,  21., 255.],\n",
       "        [ 23.,  23.,  23., ...,  20.,  20., 255.],\n",
       "        [ 23.,  23.,  23., ...,  20.,  20., 255.]],\n",
       "\n",
       "       ...,\n",
       "\n",
       "       [[  6.,   6.,   6., ...,   4.,   4., 255.],\n",
       "        [  6.,   6.,   6., ...,   4.,   4., 255.],\n",
       "        [  6.,   6.,   6., ...,   4.,   4., 255.],\n",
       "        ...,\n",
       "        [  4.,   4.,   4., ...,   3.,   3., 255.],\n",
       "        [  5.,   5.,   5., ...,   3.,   3., 255.],\n",
       "        [  5.,   5.,   5., ...,   3.,   3., 255.]],\n",
       "\n",
       "       [[  6.,   6.,   6., ...,   4.,   4., 255.],\n",
       "        [  6.,   6.,   6., ...,   4.,   4., 255.],\n",
       "        [  6.,   6.,   6., ...,   4.,   4., 255.],\n",
       "        ...,\n",
       "        [  4.,   4.,   4., ...,   3.,   3., 255.],\n",
       "        [  5.,   5.,   5., ...,   3.,   3., 255.],\n",
       "        [  5.,   5.,   5., ...,   3.,   3., 255.]],\n",
       "\n",
       "       [[  6.,   6.,   6., ...,   4.,   4., 255.],\n",
       "        [  6.,   6.,   6., ...,   4.,   4., 255.],\n",
       "        [  6.,   6.,   6., ...,   4.,   4., 255.],\n",
       "        ...,\n",
       "        [  4.,   4.,   4., ...,   3.,   3., 255.],\n",
       "        [  5.,   5.,   5., ...,   3.,   3., 255.],\n",
       "        [  5.,   5.,   5., ...,   3.,   3., 255.]]], dtype=float32)>"
      ]
     },
     "execution_count": 77,
     "metadata": {},
     "output_type": "execute_result"
    }
   ],
   "source": [
    "tf.cast(image, dtype=tf.float32)"
   ]
  },
  {
   "cell_type": "code",
   "execution_count": 82,
   "id": "f0b3090f-82a6-4c9c-a248-a37dcd56b7db",
   "metadata": {},
   "outputs": [
    {
     "data": {
      "text/plain": [
       "<matplotlib.image.AxesImage at 0x7ff84dbed588>"
      ]
     },
     "execution_count": 82,
     "metadata": {},
     "output_type": "execute_result"
    },
    {
     "data": {
      "image/png": "[encoded data removed]",
      "text/plain": [
       "<Figure size 432x288 with 1 Axes>"
      ]
     },
     "metadata": {
      "needs_background": "light"
     },
     "output_type": "display_data"
    }
   ],
   "source": [
    "plt.imshow(ir[:,:,0], cmap = \"gray\")"
   ]
  },
  {
   "cell_type": "code",
   "execution_count": 84,
   "id": "b454a66f-4984-4e0c-af25-1ee49e2bc21c",
   "metadata": {},
   "outputs": [
    {
     "data": {
      "text/plain": [
       "<matplotlib.image.AxesImage at 0x7ff86c9489e8>"
      ]
     },
     "execution_count": 84,
     "metadata": {},
     "output_type": "execute_result"
    },
    {
     "data": {
      "image/png": "[encoded data removed]",
      "text/plain": [
       "<Figure size 432x288 with 1 Axes>"
      ]
     },
     "metadata": {
      "needs_background": "light"
     },
     "output_type": "display_data"
    }
   ],
   "source": [
    "plt.imshow(image[:,:,0], cmap = \"gray\")"
   ]
  },
  {
   "cell_type": "code",
   "execution_count": 83,
   "id": "779a1405-bf3a-4ebb-b022-804cf6296a7d",
   "metadata": {},
   "outputs": [
    {
     "data": {
      "text/plain": [
       "<matplotlib.image.AxesImage at 0x7ff84db0bfd0>"
      ]
     },
     "execution_count": 83,
     "metadata": {},
     "output_type": "execute_result"
    },
    {
     "data": {
      "image/png": "[encoded data removed]",
      "text/plain": [
       "<Figure size 432x288 with 1 Axes>"
      ]
     },
     "metadata": {
      "needs_background": "light"
     },
     "output_type": "display_data"
    }
   ],
   "source": [
    "plt.imshow(lr[:,:,0], cmap = \"gray\")"
   ]
  },
  {
   "cell_type": "code",
   "execution_count": 85,
   "id": "0fa5f607-b560-493b-a57e-ace4c2f6ad3f",
   "metadata": {},
   "outputs": [
    {
     "data": {
      "text/plain": [
       "<matplotlib.image.AxesImage at 0x7ff86c38c438>"
      ]
     },
     "execution_count": 85,
     "metadata": {},
     "output_type": "execute_result"
    },
    {
     "data": {
      "image/png": "[encoded data removed]",
      "text/plain": [
       "<Figure size 432x288 with 1 Axes>"
      ]
     },
     "metadata": {
      "needs_background": "light"
     },
     "output_type": "display_data"
    }
   ],
   "source": [
    "plt.imshow(label[:,:,0], cmap = \"gray\")"
   ]
  },
  {
   "cell_type": "code",
   "execution_count": 18,
   "id": "a22ef232-73ee-4338-b047-e269c3cd8f14",
   "metadata": {},
   "outputs": [],
   "source": [
    "tf.config.run_functions_eagerly(False)\n",
    "dataset = train_dataset.skip(1).map(parser).map(data_augmentation)"
   ]
  },
  {
   "cell_type": "code",
   "execution_count": 14,
   "id": "f6bd9c72-eabf-4f15-94a8-098eee54d965",
   "metadata": {},
   "outputs": [
    {
     "name": "stdout",
     "output_type": "stream",
     "text": [
      "flipping_img_and_msk\n",
      "[[0.750233889]]\n",
      "rotate_cclk_img_and_msk\n",
      "[[0.854620934]]\n",
      "flipping_img_and_msk\n",
      "[[0.852463603]]\n",
      "coin_zoom_img_and_msk\n",
      "[[0.652289033]]\n",
      "before zoom\n",
      "tf.float32\n",
      "zoom 3\n",
      "tf.float32\n",
      "rotate_clk_img_and_msk\n",
      "[[0.768417239]]\n",
      "rotate_cclk_img_and_msk\n",
      "[[0.887747526]]\n",
      "coin_zoom_img_and_msk\n",
      "[[0.883666873]]\n",
      "before zoom\n",
      "tf.float32\n",
      "zoom 3\n",
      "tf.float32\n",
      "rotate_cclk_img_and_msk\n",
      "[[0.995643]]\n",
      "rotate_clk_img_and_msk\n",
      "[[0.864920259]]\n",
      "rotate_cclk_img_and_msk\n",
      "[[0.829363227]]\n",
      "coin_zoom_img_and_msk\n",
      "[[0.513843775]]\n",
      "before zoom\n",
      "tf.float32\n",
      "zoom 3\n",
      "tf.float32\n"
     ]
    }
   ],
   "source": [
    "outputs = list(dataset.take(5))"
   ]
  },
  {
   "cell_type": "code",
   "execution_count": 15,
   "id": "eaa2d6a5-b4ad-40b0-b90c-dc9d49c77674",
   "metadata": {},
   "outputs": [
    {
     "data": {
      "text/plain": [
       "5"
      ]
     },
     "execution_count": 15,
     "metadata": {},
     "output_type": "execute_result"
    }
   ],
   "source": [
    "len(outputs)"
   ]
  },
  {
   "cell_type": "code",
   "execution_count": 20,
   "id": "e61c9998-1a35-43ce-9972-5e3f2018e784",
   "metadata": {},
   "outputs": [],
   "source": [
    "import matplotlib.pyplot as plt"
   ]
  },
  {
   "cell_type": "code",
   "execution_count": 16,
   "id": "e9872c7c-27b1-4716-a904-7f2b9198d89f",
   "metadata": {},
   "outputs": [],
   "source": [
    "image,label = outputs[0]"
   ]
  },
  {
   "cell_type": "code",
   "execution_count": 17,
   "id": "c273f5d3-b5a9-4e78-9530-7170f6610930",
   "metadata": {},
   "outputs": [
    {
     "data": {
      "text/plain": [
       "TensorShape([512, 512, 16])"
      ]
     },
     "execution_count": 17,
     "metadata": {},
     "output_type": "execute_result"
    }
   ],
   "source": [
    "image.shape"
   ]
  },
  {
   "cell_type": "code",
   "execution_count": 18,
   "id": "3154da3f-4d5c-4c84-8950-e32056ca316b",
   "metadata": {},
   "outputs": [
    {
     "data": {
      "text/plain": [
       "TensorShape([512, 512, 4])"
      ]
     },
     "execution_count": 18,
     "metadata": {},
     "output_type": "execute_result"
    }
   ],
   "source": [
    "label.shape"
   ]
  },
  {
   "cell_type": "code",
   "execution_count": 21,
   "id": "8897045a-8085-428f-9e56-c66103d7bf8a",
   "metadata": {},
   "outputs": [
    {
     "data": {
      "text/plain": [
       "<matplotlib.image.AxesImage at 0x7f276409ec88>"
      ]
     },
     "execution_count": 21,
     "metadata": {},
     "output_type": "execute_result"
    },
    {
     "data": {
      "image/png": "[encoded data removed]",
      "text/plain": [
       "<Figure size 432x288 with 1 Axes>"
      ]
     },
     "metadata": {
      "needs_background": "light"
     },
     "output_type": "display_data"
    }
   ],
   "source": [
    "plt.imshow(image[:,:,0], cmap = \"gray\")"
   ]
  },
  {
   "cell_type": "code",
   "execution_count": 22,
   "id": "1f9315d1-57c0-48bc-b260-f052754e4754",
   "metadata": {},
   "outputs": [
    {
     "data": {
      "text/plain": [
       "<matplotlib.image.AxesImage at 0x7f27440bca58>"
      ]
     },
     "execution_count": 22,
     "metadata": {},
     "output_type": "execute_result"
    },
    {
     "data": {
      "image/png": "[encoded data removed]",
      "text/plain": [
       "<Figure size 432x288 with 1 Axes>"
      ]
     },
     "metadata": {
      "needs_background": "light"
     },
     "output_type": "display_data"
    }
   ],
   "source": [
    "plt.imshow(label[:,:,0], cmap = \"gray\")"
   ]
  },
  {
   "cell_type": "code",
   "execution_count": 23,
   "id": "483580fe-00a2-4912-b823-dd3e60dad9b5",
   "metadata": {},
   "outputs": [],
   "source": [
    "dataset_og = train_dataset.skip(1).map(parser)"
   ]
  },
  {
   "cell_type": "code",
   "execution_count": 24,
   "id": "ed85baed-5da3-4601-bbbc-62e6e6b2ce8a",
   "metadata": {},
   "outputs": [],
   "source": [
    "outputs_og = list(dataset_og.take(5))"
   ]
  },
  {
   "cell_type": "code",
   "execution_count": 25,
   "id": "a01abd6d-626e-49ec-8585-3948c80e02e5",
   "metadata": {},
   "outputs": [],
   "source": [
    "image_og,label_og = outputs_og[0]"
   ]
  },
  {
   "cell_type": "code",
   "execution_count": 26,
   "id": "adb25669-f3de-4bbd-bcf5-bdd88e4b70dc",
   "metadata": {},
   "outputs": [
    {
     "data": {
      "text/plain": [
       "<matplotlib.image.AxesImage at 0x7f2744011898>"
      ]
     },
     "execution_count": 26,
     "metadata": {},
     "output_type": "execute_result"
    },
    {
     "data": {
      "image/png": "[encoded data removed]",
      "text/plain": [
       "<Figure size 432x288 with 1 Axes>"
      ]
     },
     "metadata": {
      "needs_background": "light"
     },
     "output_type": "display_data"
    }
   ],
   "source": [
    "plt.imshow(image_og[:,:,0], cmap = \"gray\")"
   ]
  },
  {
   "cell_type": "code",
   "execution_count": 27,
   "id": "7f8f472c-96a2-4e73-893a-eced260ca94f",
   "metadata": {},
   "outputs": [
    {
     "data": {
      "text/plain": [
       "<matplotlib.image.AxesImage at 0x7f2725d9c320>"
      ]
     },
     "execution_count": 27,
     "metadata": {},
     "output_type": "execute_result"
    },
    {
     "data": {
      "image/png": "[encoded data removed]",
      "text/plain": [
       "<Figure size 432x288 with 1 Axes>"
      ]
     },
     "metadata": {
      "needs_background": "light"
     },
     "output_type": "display_data"
    }
   ],
   "source": [
    "plt.imshow(label_og[:,:,0], cmap = \"gray\")"
   ]
  },
  {
   "cell_type": "code",
   "execution_count": null,
   "id": "1f2b4876-a792-4d6f-9f15-5c567a0b50a5",
   "metadata": {},
   "outputs": [],
   "source": []
  },
  {
   "cell_type": "code",
   "execution_count": null,
   "id": "aa7a35c0-4d48-49f7-9775-d6d493bf6dde",
   "metadata": {},
   "outputs": [],
   "source": []
  },
  {
   "cell_type": "code",
   "execution_count": 106,
   "id": "bcf520e0-6d04-4bd1-89cf-1af72cafc60c",
   "metadata": {},
   "outputs": [
    {
     "data": {
      "text/plain": [
       "<tf.Tensor: shape=(1, 1), dtype=float32, numpy=array([[0.31031406]], dtype=float32)>"
      ]
     },
     "execution_count": 106,
     "metadata": {},
     "output_type": "execute_result"
    }
   ],
   "source": [
    "coin = tf.random.uniform(\n",
    "    shape = (1,1), minval=0, maxval=1, dtype=tf.dtypes.float32, seed=None, name=None\n",
    ")\n",
    "coin"
   ]
  },
  {
   "cell_type": "code",
   "execution_count": 107,
   "id": "372eba46-b029-4d93-bda5-94cd6d486db6",
   "metadata": {},
   "outputs": [
    {
     "data": {
      "text/plain": [
       "<tf.Tensor: shape=(1, 1), dtype=bool, numpy=array([[False]])>"
      ]
     },
     "execution_count": 107,
     "metadata": {},
     "output_type": "execute_result"
    }
   ],
   "source": [
    "tf.math.greater_equal(coin, tf.constant(0.5))"
   ]
  },
  {
   "cell_type": "code",
   "execution_count": 205,
   "id": "cb6cd6af-ccc2-4f85-bedb-5953f5e0af0b",
   "metadata": {},
   "outputs": [],
   "source": [
    "tf.config.run_functions_eagerly(False)\n",
    "iz,lz = zoom_img_and_msk(image,label,512,512)"
   ]
  },
  {
   "cell_type": "code",
   "execution_count": 206,
   "id": "eac0d279-4860-4d6f-8224-2e6f92754dc6",
   "metadata": {},
   "outputs": [
    {
     "data": {
      "text/plain": [
       "TensorShape([512, 512, 16])"
      ]
     },
     "execution_count": 206,
     "metadata": {},
     "output_type": "execute_result"
    }
   ],
   "source": [
    "iz.shape"
   ]
  },
  {
   "cell_type": "code",
   "execution_count": 207,
   "id": "acc3d949-48b2-4115-a922-acf82041f179",
   "metadata": {},
   "outputs": [
    {
     "data": {
      "text/plain": [
       "TensorShape([512, 512, 4])"
      ]
     },
     "execution_count": 207,
     "metadata": {},
     "output_type": "execute_result"
    }
   ],
   "source": [
    "lz.shape"
   ]
  },
  {
   "cell_type": "code",
   "execution_count": 208,
   "id": "fa971540-c11a-4ac3-9c28-abe7f2204901",
   "metadata": {},
   "outputs": [
    {
     "data": {
      "text/plain": [
       "<matplotlib.image.AxesImage at 0x7ff8472fc198>"
      ]
     },
     "execution_count": 208,
     "metadata": {},
     "output_type": "execute_result"
    },
    {
     "data": {
      "image/png": "[encoded data removed]",
      "text/plain": [
       "<Figure size 432x288 with 1 Axes>"
      ]
     },
     "metadata": {
      "needs_background": "light"
     },
     "output_type": "display_data"
    }
   ],
   "source": [
    "plt.imshow(iz[:,:,0], cmap = \"gray\")"
   ]
  },
  {
   "cell_type": "code",
   "execution_count": 209,
   "id": "b8aa6efd-0634-43b5-9182-a200973437bd",
   "metadata": {},
   "outputs": [
    {
     "data": {
      "text/plain": [
       "<matplotlib.image.AxesImage at 0x7ff8471df588>"
      ]
     },
     "execution_count": 209,
     "metadata": {},
     "output_type": "execute_result"
    },
    {
     "data": {
      "image/png": "[encoded data removed]",
      "text/plain": [
       "<Figure size 432x288 with 1 Axes>"
      ]
     },
     "metadata": {
      "needs_background": "light"
     },
     "output_type": "display_data"
    }
   ],
   "source": [
    "plt.imshow(lz[:,:,0], cmap = \"gray\")"
   ]
  },
  {
   "cell_type": "code",
   "execution_count": 105,
   "id": "488fe46d-7164-409e-a307-83ea4e5f134a",
   "metadata": {},
   "outputs": [],
   "source": [
    "t  = tf.data.TextLineDataset(TRAIN_DATA_PATH).skip(1).map(parser)"
   ]
  },
  {
   "cell_type": "code",
   "execution_count": 106,
   "id": "e37e5f85-e186-4c83-bb78-5c2a103bd518",
   "metadata": {},
   "outputs": [],
   "source": [
    "a = list(t.take(5))"
   ]
  },
  {
   "cell_type": "code",
   "execution_count": 107,
   "id": "cb74bb57-ffe2-4969-a171-111457c8d6cb",
   "metadata": {},
   "outputs": [
    {
     "data": {
      "text/plain": [
       "TensorShape([512, 512, 1])"
      ]
     },
     "execution_count": 107,
     "metadata": {},
     "output_type": "execute_result"
    }
   ],
   "source": [
    "a[0][1].shape"
   ]
  },
  {
   "cell_type": "code",
   "execution_count": 98,
   "id": "598d77fb-bf0c-474d-bc80-941592737bd2",
   "metadata": {},
   "outputs": [
    {
     "data": {
      "text/plain": [
       "TensorShape([512, 2048, 1])"
      ]
     },
     "execution_count": 98,
     "metadata": {},
     "output_type": "execute_result"
    }
   ],
   "source": [
    "tf.expand_dims(\n",
    "    a[0][0], axis = -1, name=None\n",
    ").shape"
   ]
  },
  {
   "cell_type": "code",
   "execution_count": null,
   "id": "47589ab4-bfc9-4109-aa48-e484f70c6977",
   "metadata": {},
   "outputs": [],
   "source": []
  }
 ],
 "metadata": {
  "kernelspec": {
   "display_name": "Python 3",
   "language": "python",
   "name": "python3"
  },
  "language_info": {
   "codemirror_mode": {
    "name": "ipython",
    "version": 3
   },
   "file_extension": ".py",
   "mimetype": "text/x-python",
   "name": "python",
   "nbconvert_exporter": "python",
   "pygments_lexer": "ipython3",
   "version": "3.6.13"
  }
 },
 "nbformat": 4,
 "nbformat_minor": 5
}
