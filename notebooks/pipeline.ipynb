{
 "cells": [
  {
   "cell_type": "code",
   "execution_count": 1,
   "id": "cde47580-55a2-4552-b1c5-586436089b44",
   "metadata": {},
   "outputs": [],
   "source": [
    "import tensorflow as tf\n",
    "import tensorflow_addons as tfa\n",
    "import tensorflow_io as tfio\n",
    "#import gcsfs"
   ]
  },
  {
   "cell_type": "code",
   "execution_count": 2,
   "id": "bb334748-4754-4803-85a2-70d12c3f453e",
   "metadata": {},
   "outputs": [],
   "source": [
    "import pandas as pd"
   ]
  },
  {
   "cell_type": "code",
   "execution_count": 3,
   "id": "9e4658bd-1dcc-4e9c-8e87-625d4962bcfe",
   "metadata": {},
   "outputs": [],
   "source": [
    "fs = gcsfs.GCSFileSystem()"
   ]
  },
  {
   "cell_type": "code",
   "execution_count": 4,
   "id": "2fc85693-9fa2-400d-8413-637e4a7f4e7d",
   "metadata": {},
   "outputs": [],
   "source": [
    "# For autotuning of the prefething buffer\n",
    "AUTOTUNE = tf.data.experimental.AUTOTUNE"
   ]
  },
  {
   "cell_type": "code",
   "execution_count": 5,
   "id": "aa6faa91-8740-4e7e-934e-f5906961b26c",
   "metadata": {},
   "outputs": [],
   "source": [
    "SEED = 42"
   ]
  },
  {
   "cell_type": "code",
   "execution_count": 6,
   "id": "a81d2736-e84b-405f-831c-3a593ffffa94",
   "metadata": {},
   "outputs": [],
   "source": [
    "TRAIN_DATA_PATH= \"gs://drivendata-snowcast/cloud_detection/data/gcs_train_data.csv\"\n",
    "VAL_DATA_PATH= \"gs://drivendata-snowcast/cloud_detection/data/gcs_val_data.csv\""
   ]
  },
  {
   "cell_type": "code",
   "execution_count": 7,
   "id": "b6efd1d8-5347-48bf-a783-0410c9dcef18",
   "metadata": {},
   "outputs": [
    {
     "data": {
      "text/plain": [
       "11748"
      ]
     },
     "execution_count": 7,
     "metadata": {},
     "output_type": "execute_result"
    }
   ],
   "source": [
    "# Number of feature folders\n",
    "len(fs.ls(\"gs://drivendata-snowcast/cloud_detection/data/train_features\"))"
   ]
  },
  {
   "cell_type": "code",
   "execution_count": 8,
   "id": "86f378b3-f1cc-4b60-820e-a36cd6260693",
   "metadata": {},
   "outputs": [
    {
     "data": {
      "text/plain": [
       "11748"
      ]
     },
     "execution_count": 8,
     "metadata": {},
     "output_type": "execute_result"
    }
   ],
   "source": [
    "# Number of masks\n",
    "len(fs.ls(\"gs://drivendata-snowcast/cloud_detection/data/train_labels\"))"
   ]
  },
  {
   "cell_type": "code",
   "execution_count": 9,
   "id": "96f46110-0a13-4f74-a496-7753e697bbfa",
   "metadata": {},
   "outputs": [],
   "source": [
    "IMG_SIZE = 192\n",
    "N_CHANNELS = 4\n",
    "N_CLASSES = 1"
   ]
  },
  {
   "cell_type": "code",
   "execution_count": 10,
   "id": "184d7bf5-e782-491a-8448-de98b4cd21ef",
   "metadata": {},
   "outputs": [],
   "source": [
    "file_paths = TRAIN_DATA_PATH"
   ]
  },
  {
   "cell_type": "code",
   "execution_count": 11,
   "id": "7a51f4af-c35e-4cbd-94c1-eed6b2ea7d3f",
   "metadata": {},
   "outputs": [
    {
     "name": "stderr",
     "output_type": "stream",
     "text": [
      "2022-01-09 09:44:27.763646: I tensorflow/core/common_runtime/process_util.cc:146] Creating new thread pool with default inter op setting: 2. Tune using inter_op_parallelism_threads for best performance.\n"
     ]
    }
   ],
   "source": [
    "train_dataset = tf.data.TextLineDataset(filenames=file_paths)"
   ]
  },
  {
   "cell_type": "code",
   "execution_count": 13,
   "id": "929f0b29-b8ab-4a01-ad59-468af536d6a3",
   "metadata": {},
   "outputs": [
    {
     "name": "stderr",
     "output_type": "stream",
     "text": [
      "2022-01-08 23:19:17.123753: I tensorflow/compiler/mlir/mlir_graph_optimization_pass.cc:185] None of the MLIR Optimization Passes are enabled (registered 2)\n"
     ]
    },
    {
     "data": {
      "text/plain": [
       "[<tf.Tensor: shape=(), dtype=string, numpy=b'adwp;gs://drivendata-snowcast/cloud_detection/data/train_features/adwp/B02.tif;gs://drivendata-snowcast/cloud_detection/data/train_features/adwp/B03.tif;gs://drivendata-snowcast/cloud_detection/data/train_features/adwp/B04.tif;gs://drivendata-snowcast/cloud_detection/data/train_features/adwp/B08.tif;gs://drivendata-snowcast/cloud_detection/data/train_labels/adwp.tif'>,\n",
       " <tf.Tensor: shape=(), dtype=string, numpy=b'adwu;gs://drivendata-snowcast/cloud_detection/data/train_features/adwu/B02.tif;gs://drivendata-snowcast/cloud_detection/data/train_features/adwu/B03.tif;gs://drivendata-snowcast/cloud_detection/data/train_features/adwu/B04.tif;gs://drivendata-snowcast/cloud_detection/data/train_features/adwu/B08.tif;gs://drivendata-snowcast/cloud_detection/data/train_labels/adwu.tif'>,\n",
       " <tf.Tensor: shape=(), dtype=string, numpy=b'adwz;gs://drivendata-snowcast/cloud_detection/data/train_features/adwz/B02.tif;gs://drivendata-snowcast/cloud_detection/data/train_features/adwz/B03.tif;gs://drivendata-snowcast/cloud_detection/data/train_features/adwz/B04.tif;gs://drivendata-snowcast/cloud_detection/data/train_features/adwz/B08.tif;gs://drivendata-snowcast/cloud_detection/data/train_labels/adwz.tif'>,\n",
       " <tf.Tensor: shape=(), dtype=string, numpy=b'adxp;gs://drivendata-snowcast/cloud_detection/data/train_features/adxp/B02.tif;gs://drivendata-snowcast/cloud_detection/data/train_features/adxp/B03.tif;gs://drivendata-snowcast/cloud_detection/data/train_features/adxp/B04.tif;gs://drivendata-snowcast/cloud_detection/data/train_features/adxp/B08.tif;gs://drivendata-snowcast/cloud_detection/data/train_labels/adxp.tif'>,\n",
       " <tf.Tensor: shape=(), dtype=string, numpy=b'aeaj;gs://drivendata-snowcast/cloud_detection/data/train_features/aeaj/B02.tif;gs://drivendata-snowcast/cloud_detection/data/train_features/aeaj/B03.tif;gs://drivendata-snowcast/cloud_detection/data/train_features/aeaj/B04.tif;gs://drivendata-snowcast/cloud_detection/data/train_features/aeaj/B08.tif;gs://drivendata-snowcast/cloud_detection/data/train_labels/aeaj.tif'>]"
      ]
     },
     "execution_count": 13,
     "metadata": {},
     "output_type": "execute_result"
    }
   ],
   "source": [
    "list(train_dataset.skip(1).take(5))"
   ]
  },
  {
   "cell_type": "code",
   "execution_count": 12,
   "id": "76f29fb4-2a7b-4a02-a43f-afbb8a9d4fb2",
   "metadata": {},
   "outputs": [],
   "source": [
    "record_defaults = [\"chip_id\",\"B02_path\",\"B03_path\",\"B04_path\",\"B08_path\",\"label_path\"]"
   ]
  },
  {
   "cell_type": "code",
   "execution_count": 13,
   "id": "9ba8a93b-7404-4f8e-966e-3a6953b53fc2",
   "metadata": {},
   "outputs": [],
   "source": [
    "@tf.function\n",
    "def load_image(img_path):\n",
    "    image = tf.io.read_file(img_path)\n",
    "    image = tfio.experimental.image.decode_tiff(image)\n",
    "    \n",
    "    return image"
   ]
  },
  {
   "cell_type": "code",
   "execution_count": 14,
   "id": "81aa445e-d439-4c0e-9678-a6657ab8eaa2",
   "metadata": {},
   "outputs": [],
   "source": [
    "@tf.function\n",
    "def parser(row_csv):\n",
    "    # decoding the csv file\n",
    "    chip_id,B02_path,B03_path,B04_path,B08_path,label_path = tf.io.decode_csv(records = row_csv, record_defaults = [\"chip_id\",\"B02_path\",\"B03_path\",\"B04_path\",\"B08_path\",\"label_path\"], field_delim=';')\n",
    "    \n",
    "    B02_img = load_image(B02_path)\n",
    "    B03_img = load_image(B03_path)\n",
    "    B04_img = load_image(B04_path)\n",
    "    B08_img = load_image(B08_path)\n",
    "    \n",
    "    image = tf.concat([B02_img,B03_img,B04_img,B08_img], axis = -1)\n",
    "    \n",
    "    label = load_image(label_path)\n",
    "    \n",
    "    return image, label\n",
    "    "
   ]
  },
  {
   "cell_type": "code",
   "execution_count": 46,
   "id": "331249f9-0047-4da9-be7e-5a071bf6c296",
   "metadata": {},
   "outputs": [
    {
     "data": {
      "text/plain": [
       "<tf.Tensor: shape=(9,), dtype=int32, numpy=array([ 4,  6,  8, 10, 12, 14, 16, 18, 20], dtype=int32)>"
      ]
     },
     "execution_count": 46,
     "metadata": {},
     "output_type": "execute_result"
    }
   ],
   "source": [
    "tf.constant([4, 6, 8, 10, 12, 14, 16, 18, 20])"
   ]
  },
  {
   "cell_type": "code",
   "execution_count": 47,
   "id": "7d913678-e9c5-42f3-a3bc-96cc7151f058",
   "metadata": {},
   "outputs": [
    {
     "name": "stdout",
     "output_type": "stream",
     "text": [
      "Help on function random_shuffle in module tensorflow.python.ops.random_ops:\n",
      "\n",
      "random_shuffle(value, seed=None, name=None)\n",
      "    Randomly shuffles a tensor along its first dimension.\n",
      "    \n",
      "    The tensor is shuffled along dimension 0, such that each `value[j]` is mapped\n",
      "    to one and only one `output[i]`. For example, a mapping that might occur for a\n",
      "    3x2 tensor is:\n",
      "    \n",
      "    ```python\n",
      "    [[1, 2],       [[5, 6],\n",
      "     [3, 4],  ==>   [1, 2],\n",
      "     [5, 6]]        [3, 4]]\n",
      "    ```\n",
      "    \n",
      "    Args:\n",
      "      value: A Tensor to be shuffled.\n",
      "      seed: A Python integer. Used to create a random seed for the distribution.\n",
      "        See\n",
      "        `tf.random.set_seed`\n",
      "        for behavior.\n",
      "      name: A name for the operation (optional).\n",
      "    \n",
      "    Returns:\n",
      "      A tensor of same shape and type as `value`, shuffled along its first\n",
      "      dimension.\n",
      "\n"
     ]
    }
   ],
   "source": [
    "help(tf.random.shuffle)"
   ]
  },
  {
   "cell_type": "code",
   "execution_count": 50,
   "id": "2e5a5c52-e7d5-497b-88e4-c6871891d1da",
   "metadata": {},
   "outputs": [
    {
     "data": {
      "text/plain": [
       "<tf.Tensor: shape=(), dtype=int32, numpy=6>"
      ]
     },
     "execution_count": 50,
     "metadata": {},
     "output_type": "execute_result"
    }
   ],
   "source": [
    "tf.random.shuffle(tf.constant([4, 6, 8, 10, 12, 14, 16, 18, 20]))[0]"
   ]
  },
  {
   "cell_type": "code",
   "execution_count": 25,
   "id": "48387a78-c024-4ab7-bdbb-78b139d327fc",
   "metadata": {},
   "outputs": [],
   "source": [
    "import numpy as np\n",
    "\n",
    "import tensorflow as tf\n",
    "import tensorflow_io as tfio\n",
    "import tensorflow_addons as tfa\n",
    "import tensorflow.keras.backend as K\n",
    "\n",
    "h,w = 512,512\n",
    "\n",
    "@tf.function\n",
    "def decode_img(img_path_tensor):\n",
    "    img_bytes = tf.io.read_file(filename = img_path_tensor)\n",
    "    img_tensor = tfio.experimental.image.decode_tiff(contents = img_bytes)\n",
    "    img_tensor = img_tensor[:,:,1]\n",
    "    img_tensor = tf.expand_dims(img_tensor, axis = -1)\n",
    "    return img_tensor\n",
    "\n",
    "def preprocessing(csv_row):\n",
    "    # Decoding the row\n",
    "    chip_id,b02_path,b03_path,b04_path,b08_path,label_path = tf.io.decode_csv(records = csv_row,record_defaults = ['chip_id', 'B02_path', 'B03_path', 'B04_path', 'B08_path', 'label_path'],field_delim = \";\")\n",
    "    \n",
    "    # Getting the train image paths\n",
    "    train_feature_paths = [b02_path,b03_path,b04_path,b08_path]\n",
    "    # Getting the train image tensors\n",
    "    train_img_tensor_list = [decode_img(path) for path in train_feature_paths]\n",
    "    \n",
    "    image = tf.concat(values = train_img_tensor_list, axis = -1)\n",
    "    \n",
    "    # label\n",
    "    label = decode_img(label_path)\n",
    "    \n",
    "    return image,label\n",
    "\n",
    "@tf.function\n",
    "def rotate_clk_img_and_msk(img, msk):\n",
    "    angles_tensor = tf.constant([4, 6, 8, 10, 12, 14, 16, 18, 20])\n",
    "    angle = tf.random.shuffle(angles_tensor)[0]\n",
    "    # Image\n",
    "    img_o = tfa.image.rotate(images = img,angles = angle,interpolation = \"nearest\",fill_mode = \"reflect\",fill_value = 0.0)\n",
    "    # Label\n",
    "    msk_o = tfa.image.rotate(images = msk,angles = angle,interpolation = \"nearest\",fill_mode = \"reflect\",fill_value = 0.0)\n",
    "    \n",
    "    return img_o, msk_o\n",
    "\n",
    "@tf.function\n",
    "def rotate_cclk_img_and_msk(img, msk):\n",
    "    angles_tensor = tf.constant([-20, -18, -16, -14, -12, -10, -8, -6, -4])\n",
    "    angle = tf.random.shuffle(angles_tensor)[0]\n",
    "    # Image\n",
    "    img_o = tfa.image.rotate(images = img,angles = angle,interpolation = \"nearest\",fill_mode = \"reflect\",fill_value = 0.0)\n",
    "    # Label\n",
    "    msk_o = tfa.image.rotate(images = msk,angles = angle,interpolation = \"nearest\",fill_mode = \"reflect\",fill_value = 0.0)\n",
    "    \n",
    "    return img_o, msk_o\n",
    "\n",
    "@tf.function\n",
    "def flipping_img_and_msk(img, msk):\n",
    "    img_o = tf.image.flip_left_right(img)\n",
    "    img_o = tf.image.flip_up_down(img)\n",
    "    \n",
    "    msk_o = tf.image.flip_left_right(msk)\n",
    "    msk_o = tf.image.flip_up_down(msk)\n",
    "    \n",
    "    return img_o,msk_o\n",
    "\n",
    "@tf.function\n",
    "def zoom_img_and_msk(img, msk,height = h,width = w):\n",
    "\n",
    "    zoom_factor_tensor = tf.constant([1.2, 1.5, 1.8, 2, 2.2, 2.5], dtype=tf.float32)  # currently doesn't have zoom out!\n",
    "    zoom_factor = tf.random.shuffle(zoom_factor_tensor)[0]\n",
    "    # print(\"*-*-*-*-*-*\")\n",
    "    # print(img.shape)\n",
    "    #h,w,c = img.shape\n",
    "    h = height\n",
    "    w = width\n",
    "    cast_h = tf.cast(h,dtype= tf.float32)\n",
    "    cast_w = tf.cast(w,dtype= tf.float32)\n",
    "    \n",
    "\n",
    "    # width and height of the zoomed image\n",
    "    zh = tf.math.multiply(zoom_factor, cast_h)\n",
    "    zh = tf.cast(zh,dtype= tf.int32)\n",
    "    \n",
    "    zw = tf.math.multiply(zoom_factor, cast_w)\n",
    "    zw = tf.cast(zw,dtype= tf.int32)\n",
    "    \n",
    "    # zh = int(np.round(zoom_factor * h))\n",
    "    # zw = int(np.round(zoom_factor * w))\n",
    "\n",
    "    img = tf.image.resize(img,(zh, zw),preserve_aspect_ratio=False)\n",
    "    msk = tf.image.resize(msk,(zh, zw),preserve_aspect_ratio=False)\n",
    "    \n",
    "    region_tensor = tf.constant([0, 1, 2, 3, 4])\n",
    "    region = tf.random.shuffle(region_tensor)[0]\n",
    "\n",
    "    # zooming out\n",
    "    \n",
    "    if tf.math.less_equal(zoom_factor, tf.constant(1)):\n",
    "        outimg = img\n",
    "        outmsk = msk\n",
    "\n",
    "    # zooming in\n",
    "    else:\n",
    "        # bounding box of the clipped region within the input array\n",
    "        if tf.math.equal(region, tf.constant(0)):\n",
    "            outimg = img[0:h, 0:w,:]\n",
    "            outmsk = msk[0:h, 0:w,:]\n",
    "        if tf.math.equal(region, tf.constant(1)):\n",
    "            outimg = img[0:h, zw - w:zw,:]\n",
    "            outmsk = msk[0:h, zw - w:zw,:]\n",
    "        if tf.math.equal(region, tf.constant(2)):\n",
    "            outimg = img[zh - h:zh, 0:w,:]\n",
    "            outmsk = msk[zh - h:zh, 0:w,:]\n",
    "        if tf.math.equal(region, tf.constant(3)):\n",
    "            outimg = img[zh - h:zh, zw - w:zw,:]\n",
    "            outmsk = msk[zh - h:zh, zw - w:zw,:]\n",
    "        if tf.math.equal(region, tf.constant(4)):\n",
    "            \n",
    "            marh = tf.math.floordiv( h, tf.constant(2))\n",
    "            marw = tf.math.floordiv( w, tf.constant(2))\n",
    "            \n",
    "            zh_div = tf.math.floordiv( zh, tf.constant(2))\n",
    "            zw_div = tf.math.floordiv( zw, tf.constant(2))\n",
    "            \n",
    "            zh_div_add = tf.math.add( zh_div, marh)\n",
    "            zh_div_minus = tf.math.subtract( zh_div, marh)\n",
    "            \n",
    "            zw_div_add = tf.math.add( zw_div, marw)\n",
    "            zw_div_minus = tf.math.subtract( zw_div, marw)\n",
    "            \n",
    "            outimg = img[zh_div_minus:zw_div_add, zw_div_minus:zw_div_add,:]\n",
    "            outmsk = msk[zh_div_minus:zw_div_add, zw_div_minus:zw_div_add,:]\n",
    "            \n",
    "            # outimg = img[(zh // 2 - marh):(zh // 2 + marh), (zw // 2 - marw):(zw // 2 + marw),:]\n",
    "            # outmsk = msk[(zh // 2 - marh):(zh // 2 + marh), (zw // 2 - marw):(zw // 2 + marw),:]\n",
    "\n",
    "    # to make sure the output is in the same size of the input\n",
    "    img_o = tf.image.resize(outimg,(h, w),preserve_aspect_ratio=False)\n",
    "    msk_o = tf.image.resize(outmsk,(h, w),preserve_aspect_ratio=False)\n",
    "    return img_o, msk_o\n",
    "\n",
    "# def data_augmentation(img,mask):\n",
    "    \n",
    "#     # random coin flip\n",
    "#     coin_tensor = tf.constant([1,2])\n",
    "    \n",
    "#     head = tf.constant(1)\n",
    "    \n",
    "#     rnd_flip = tf.random.shuffle(coin_tensor)[0]\n",
    "#     rnd_rotate_clk = tf.random.shuffle(coin_tensor)[0]\n",
    "#     rnd_rotate_cclk = tf.random.shuffle(coin_tensor)[0]\n",
    "#     rnd_zoom = tf.random.shuffle(coin_tensor)[0]\n",
    "    \n",
    "#     if rnd_flip == head:\n",
    "#         print(\"flip\")\n",
    "#         img, mask = flipping_img_and_msk(img, mask)\n",
    "        \n",
    "#     if rnd_rotate_clk == head:\n",
    "#         print(\"rotate\")\n",
    "#         img, mask = rotate_clk_img_and_msk(img, mask)\n",
    "        \n",
    "#     if rnd_rotate_cclk == head:\n",
    "#         print(\"cclk rotate\")\n",
    "#         img, mask = rotate_cclk_img_and_msk(img, mask)\n",
    "        \n",
    "#     if rnd_zoom == head:\n",
    "#         print(\"zoom\")\n",
    "#         img, mask = zoom_img_and_msk(img, mask)\n",
    "        \n",
    "#     return tf.cast(img, dtype = tf.float32),tf.cast(mask, dtype = tf.float32)\n",
    "\n",
    "# def load_dataset(file_paths,shuffle_buffer,random_state,num_epochs,batch_size,prefecth_buffer_size, training = True):\n",
    "#     # loading the csv train files\n",
    "#     dataset = tf.data.TextLineDataset(filenames = file_paths).skip(1).map(preprocessing).cache() # Skiping the header\n",
    "    \n",
    "#     if training:\n",
    "#         # Data augmentation\n",
    "#         dataset = dataset.map(data_augmentation).shuffle(buffer_size = shuffle_buffer, seed=random_state, reshuffle_each_iteration=True).repeat(count = num_epochs) # the dataset be repeated indefinitely\n",
    "#     else:\n",
    "#         dataset = dataset.repeat(count = 1)\n",
    "    \n",
    "#     # Prefetch prepares the next set of batches while current batch is in use.\n",
    "#     return dataset.batch(batch_size=batch_size).prefetch(buffer_size=prefecth_buffer_size)\n",
    "\n",
    "\n",
    "# class ADAMLearningRateTracker(tf.keras.callbacks.Callback):\n",
    "#     \"\"\"It prints out the last used learning rate after each epoch (useful for resuming a training)\n",
    "#     original code: https://github.com/keras-team/keras/issues/7874#issuecomment-329347949\n",
    "#     \"\"\"\n",
    "\n",
    "#     def __init__(self, end_lr):\n",
    "#         super(ADAMLearningRateTracker, self).__init__()\n",
    "#         self.end_lr = end_lr\n",
    "\n",
    "#     def on_epoch_end(self, epoch, logs={}):  # works only when decay in optimizer is zero\n",
    "#         optimizer = self.model.optimizer\n",
    "#         # t = K.cast(optimizer.iterations, K.floatx()) + 1\n",
    "#         # lr_t = K.eval(optimizer.lr * (K.sqrt(1. - K.pow(optimizer.beta_2, t)) /\n",
    "#         #                               (1. - K.pow(optimizer.beta_1, t))))\n",
    "#         # print('\\n***The last Actual Learning rate in this epoch is:', lr_t,'***\\n')\n",
    "#         print('\\n***The last Basic Learning rate in this epoch is:', K.eval(optimizer.lr), '***\\n')\n",
    "#         # stops the training if the basic lr is less than or equal to end_learning_rate\n",
    "#         if K.eval(optimizer.lr) <= self.end_lr:\n",
    "#             print(\"training is finished\")\n",
    "#             self.model.stop_training = True\n",
    "            \n",
    "# smooth = 0.0000001\n",
    "# def jacc_coef(y_true, y_pred):\n",
    "#     y_true_f = K.flatten(y_true)\n",
    "#     y_pred_f = K.flatten(y_pred)\n",
    "#     intersection = K.sum(y_true_f * y_pred_f)\n",
    "#     return 1 - ((intersection + smooth) / (K.sum(y_true_f) + K.sum(y_pred_f) - intersection + smooth))\n"
   ]
  },
  {
   "cell_type": "code",
   "execution_count": 17,
   "id": "f4a01020-419a-40c1-b6d2-80fa2dfcf093",
   "metadata": {},
   "outputs": [
    {
     "data": {
      "text/plain": [
       "3"
      ]
     },
     "execution_count": 17,
     "metadata": {},
     "output_type": "execute_result"
    }
   ],
   "source": [
    "16//5"
   ]
  },
  {
   "cell_type": "code",
   "execution_count": 22,
   "id": "83fc0bb7-f7b3-4907-9ab6-38baa33f5e39",
   "metadata": {},
   "outputs": [
    {
     "data": {
      "text/plain": [
       "<tf.Tensor: shape=(), dtype=int32, numpy=16>"
      ]
     },
     "execution_count": 22,
     "metadata": {},
     "output_type": "execute_result"
    }
   ],
   "source": [
    "x = tf.constant(16)\n",
    "x"
   ]
  },
  {
   "cell_type": "code",
   "execution_count": 23,
   "id": "1ea0943c-49b9-405a-9084-e26e611793a8",
   "metadata": {},
   "outputs": [
    {
     "data": {
      "text/plain": [
       "<tf.Tensor: shape=(), dtype=int32, numpy=5>"
      ]
     },
     "execution_count": 23,
     "metadata": {},
     "output_type": "execute_result"
    }
   ],
   "source": [
    "y = tf.constant(5)\n",
    "y"
   ]
  },
  {
   "cell_type": "code",
   "execution_count": 24,
   "id": "2f1e3f61-249c-4549-b19e-7fdb1a8d1673",
   "metadata": {},
   "outputs": [
    {
     "data": {
      "text/plain": [
       "<tf.Tensor: shape=(), dtype=int32, numpy=3>"
      ]
     },
     "execution_count": 24,
     "metadata": {},
     "output_type": "execute_result"
    }
   ],
   "source": [
    "tf.math.floordiv(\n",
    "    x, y, name=None\n",
    ")"
   ]
  },
  {
   "cell_type": "code",
   "execution_count": 66,
   "id": "69d43ded-edbd-491d-9d83-ebbf6a759190",
   "metadata": {},
   "outputs": [
    {
     "data": {
      "text/plain": [
       "<tf.Tensor: shape=(), dtype=int32, numpy=1>"
      ]
     },
     "execution_count": 66,
     "metadata": {},
     "output_type": "execute_result"
    }
   ],
   "source": [
    "kk  = tf.random.shuffle(tf.constant([1,2]))[0]\n",
    "kk"
   ]
  },
  {
   "cell_type": "code",
   "execution_count": 68,
   "id": "c317533c-30d4-48af-bad6-70df2bdfc558",
   "metadata": {},
   "outputs": [
    {
     "data": {
      "text/plain": [
       "<tf.Tensor: shape=(), dtype=bool, numpy=True>"
      ]
     },
     "execution_count": 68,
     "metadata": {},
     "output_type": "execute_result"
    }
   ],
   "source": [
    "kk == tf.constant(1)"
   ]
  },
  {
   "cell_type": "code",
   "execution_count": 56,
   "id": "0be7e93b-27eb-475f-af16-71b6bcf60bc9",
   "metadata": {},
   "outputs": [
    {
     "data": {
      "text/plain": [
       "<tf.Tensor: shape=(), dtype=int32, numpy=192>"
      ]
     },
     "execution_count": 56,
     "metadata": {},
     "output_type": "execute_result"
    }
   ],
   "source": [
    "a = tf.constant(192)\n",
    "a"
   ]
  },
  {
   "cell_type": "code",
   "execution_count": 57,
   "id": "40d60d19-b77e-4ddb-ab23-24cb8a4f464c",
   "metadata": {},
   "outputs": [
    {
     "data": {
      "text/plain": [
       "<tf.Tensor: shape=(), dtype=float32, numpy=0.2>"
      ]
     },
     "execution_count": 57,
     "metadata": {},
     "output_type": "execute_result"
    }
   ],
   "source": [
    "b = tf.constant(0.2)\n",
    "b"
   ]
  },
  {
   "cell_type": "code",
   "execution_count": 58,
   "id": "66db1f3e-caaa-4910-9eb0-99051c0dfbc5",
   "metadata": {},
   "outputs": [
    {
     "ename": "InvalidArgumentError",
     "evalue": "cannot compute Mul as input #1(zero-based) was expected to be a int32 tensor but is a float tensor [Op:Mul]",
     "output_type": "error",
     "traceback": [
      "\u001b[0;31m---------------------------------------------------------------------------\u001b[0m",
      "\u001b[0;31mInvalidArgumentError\u001b[0m                      Traceback (most recent call last)",
      "\u001b[0;32m/tmp/ipykernel_7230/3507077656.py\u001b[0m in \u001b[0;36m<module>\u001b[0;34m\u001b[0m\n\u001b[0;32m----> 1\u001b[0;31m \u001b[0ma\u001b[0m\u001b[0;34m*\u001b[0m\u001b[0mb\u001b[0m\u001b[0;34m\u001b[0m\u001b[0;34m\u001b[0m\u001b[0m\n\u001b[0m",
      "\u001b[0;32m/opt/conda/lib/python3.7/site-packages/tensorflow/python/ops/math_ops.py\u001b[0m in \u001b[0;36mbinary_op_wrapper\u001b[0;34m(x, y)\u001b[0m\n\u001b[1;32m   1365\u001b[0m         \u001b[0;31m#   r_binary_op_wrapper use different force_same_dtype values.\u001b[0m\u001b[0;34m\u001b[0m\u001b[0;34m\u001b[0m\u001b[0;34m\u001b[0m\u001b[0m\n\u001b[1;32m   1366\u001b[0m         \u001b[0mx\u001b[0m\u001b[0;34m,\u001b[0m \u001b[0my\u001b[0m \u001b[0;34m=\u001b[0m \u001b[0mmaybe_promote_tensors\u001b[0m\u001b[0;34m(\u001b[0m\u001b[0mx\u001b[0m\u001b[0;34m,\u001b[0m \u001b[0my\u001b[0m\u001b[0;34m,\u001b[0m \u001b[0mforce_same_dtype\u001b[0m\u001b[0;34m=\u001b[0m\u001b[0;32mFalse\u001b[0m\u001b[0;34m)\u001b[0m\u001b[0;34m\u001b[0m\u001b[0;34m\u001b[0m\u001b[0m\n\u001b[0;32m-> 1367\u001b[0;31m         \u001b[0;32mreturn\u001b[0m \u001b[0mfunc\u001b[0m\u001b[0;34m(\u001b[0m\u001b[0mx\u001b[0m\u001b[0;34m,\u001b[0m \u001b[0my\u001b[0m\u001b[0;34m,\u001b[0m \u001b[0mname\u001b[0m\u001b[0;34m=\u001b[0m\u001b[0mname\u001b[0m\u001b[0;34m)\u001b[0m\u001b[0;34m\u001b[0m\u001b[0;34m\u001b[0m\u001b[0m\n\u001b[0m\u001b[1;32m   1368\u001b[0m       \u001b[0;32mexcept\u001b[0m \u001b[0;34m(\u001b[0m\u001b[0mTypeError\u001b[0m\u001b[0;34m,\u001b[0m \u001b[0mValueError\u001b[0m\u001b[0;34m)\u001b[0m \u001b[0;32mas\u001b[0m \u001b[0me\u001b[0m\u001b[0;34m:\u001b[0m\u001b[0;34m\u001b[0m\u001b[0;34m\u001b[0m\u001b[0m\n\u001b[1;32m   1369\u001b[0m         \u001b[0;31m# Even if dispatching the op failed, the RHS may be a tensor aware\u001b[0m\u001b[0;34m\u001b[0m\u001b[0;34m\u001b[0m\u001b[0;34m\u001b[0m\u001b[0m\n",
      "\u001b[0;32m/opt/conda/lib/python3.7/site-packages/tensorflow/python/ops/math_ops.py\u001b[0m in \u001b[0;36m_mul_dispatch\u001b[0;34m(x, y, name)\u001b[0m\n\u001b[1;32m   1708\u001b[0m     \u001b[0;32mreturn\u001b[0m \u001b[0msparse_tensor\u001b[0m\u001b[0;34m.\u001b[0m\u001b[0mSparseTensor\u001b[0m\u001b[0;34m(\u001b[0m\u001b[0my\u001b[0m\u001b[0;34m.\u001b[0m\u001b[0mindices\u001b[0m\u001b[0;34m,\u001b[0m \u001b[0mnew_vals\u001b[0m\u001b[0;34m,\u001b[0m \u001b[0my\u001b[0m\u001b[0;34m.\u001b[0m\u001b[0mdense_shape\u001b[0m\u001b[0;34m)\u001b[0m\u001b[0;34m\u001b[0m\u001b[0;34m\u001b[0m\u001b[0m\n\u001b[1;32m   1709\u001b[0m   \u001b[0;32melse\u001b[0m\u001b[0;34m:\u001b[0m\u001b[0;34m\u001b[0m\u001b[0;34m\u001b[0m\u001b[0m\n\u001b[0;32m-> 1710\u001b[0;31m     \u001b[0;32mreturn\u001b[0m \u001b[0mmultiply\u001b[0m\u001b[0;34m(\u001b[0m\u001b[0mx\u001b[0m\u001b[0;34m,\u001b[0m \u001b[0my\u001b[0m\u001b[0;34m,\u001b[0m \u001b[0mname\u001b[0m\u001b[0;34m=\u001b[0m\u001b[0mname\u001b[0m\u001b[0;34m)\u001b[0m\u001b[0;34m\u001b[0m\u001b[0;34m\u001b[0m\u001b[0m\n\u001b[0m\u001b[1;32m   1711\u001b[0m \u001b[0;34m\u001b[0m\u001b[0m\n\u001b[1;32m   1712\u001b[0m \u001b[0;34m\u001b[0m\u001b[0m\n",
      "\u001b[0;32m/opt/conda/lib/python3.7/site-packages/tensorflow/python/util/dispatch.py\u001b[0m in \u001b[0;36mwrapper\u001b[0;34m(*args, **kwargs)\u001b[0m\n\u001b[1;32m    204\u001b[0m     \u001b[0;34m\"\"\"Call target, and fall back on dispatchers if there is a TypeError.\"\"\"\u001b[0m\u001b[0;34m\u001b[0m\u001b[0;34m\u001b[0m\u001b[0m\n\u001b[1;32m    205\u001b[0m     \u001b[0;32mtry\u001b[0m\u001b[0;34m:\u001b[0m\u001b[0;34m\u001b[0m\u001b[0;34m\u001b[0m\u001b[0m\n\u001b[0;32m--> 206\u001b[0;31m       \u001b[0;32mreturn\u001b[0m \u001b[0mtarget\u001b[0m\u001b[0;34m(\u001b[0m\u001b[0;34m*\u001b[0m\u001b[0margs\u001b[0m\u001b[0;34m,\u001b[0m \u001b[0;34m**\u001b[0m\u001b[0mkwargs\u001b[0m\u001b[0;34m)\u001b[0m\u001b[0;34m\u001b[0m\u001b[0;34m\u001b[0m\u001b[0m\n\u001b[0m\u001b[1;32m    207\u001b[0m     \u001b[0;32mexcept\u001b[0m \u001b[0;34m(\u001b[0m\u001b[0mTypeError\u001b[0m\u001b[0;34m,\u001b[0m \u001b[0mValueError\u001b[0m\u001b[0;34m)\u001b[0m\u001b[0;34m:\u001b[0m\u001b[0;34m\u001b[0m\u001b[0;34m\u001b[0m\u001b[0m\n\u001b[1;32m    208\u001b[0m       \u001b[0;31m# Note: convert_to_eager_tensor currently raises a ValueError, not a\u001b[0m\u001b[0;34m\u001b[0m\u001b[0;34m\u001b[0m\u001b[0;34m\u001b[0m\u001b[0m\n",
      "\u001b[0;32m/opt/conda/lib/python3.7/site-packages/tensorflow/python/ops/math_ops.py\u001b[0m in \u001b[0;36mmultiply\u001b[0;34m(x, y, name)\u001b[0m\n\u001b[1;32m    528\u001b[0m   \"\"\"\n\u001b[1;32m    529\u001b[0m \u001b[0;34m\u001b[0m\u001b[0m\n\u001b[0;32m--> 530\u001b[0;31m   \u001b[0;32mreturn\u001b[0m \u001b[0mgen_math_ops\u001b[0m\u001b[0;34m.\u001b[0m\u001b[0mmul\u001b[0m\u001b[0;34m(\u001b[0m\u001b[0mx\u001b[0m\u001b[0;34m,\u001b[0m \u001b[0my\u001b[0m\u001b[0;34m,\u001b[0m \u001b[0mname\u001b[0m\u001b[0;34m)\u001b[0m\u001b[0;34m\u001b[0m\u001b[0;34m\u001b[0m\u001b[0m\n\u001b[0m\u001b[1;32m    531\u001b[0m \u001b[0;34m\u001b[0m\u001b[0m\n\u001b[1;32m    532\u001b[0m \u001b[0;34m\u001b[0m\u001b[0m\n",
      "\u001b[0;32m/opt/conda/lib/python3.7/site-packages/tensorflow/python/ops/gen_math_ops.py\u001b[0m in \u001b[0;36mmul\u001b[0;34m(x, y, name)\u001b[0m\n\u001b[1;32m   6234\u001b[0m       \u001b[0;32mreturn\u001b[0m \u001b[0m_result\u001b[0m\u001b[0;34m\u001b[0m\u001b[0;34m\u001b[0m\u001b[0m\n\u001b[1;32m   6235\u001b[0m     \u001b[0;32mexcept\u001b[0m \u001b[0m_core\u001b[0m\u001b[0;34m.\u001b[0m\u001b[0m_NotOkStatusException\u001b[0m \u001b[0;32mas\u001b[0m \u001b[0me\u001b[0m\u001b[0;34m:\u001b[0m\u001b[0;34m\u001b[0m\u001b[0;34m\u001b[0m\u001b[0m\n\u001b[0;32m-> 6236\u001b[0;31m       \u001b[0m_ops\u001b[0m\u001b[0;34m.\u001b[0m\u001b[0mraise_from_not_ok_status\u001b[0m\u001b[0;34m(\u001b[0m\u001b[0me\u001b[0m\u001b[0;34m,\u001b[0m \u001b[0mname\u001b[0m\u001b[0;34m)\u001b[0m\u001b[0;34m\u001b[0m\u001b[0;34m\u001b[0m\u001b[0m\n\u001b[0m\u001b[1;32m   6237\u001b[0m     \u001b[0;32mexcept\u001b[0m \u001b[0m_core\u001b[0m\u001b[0;34m.\u001b[0m\u001b[0m_FallbackException\u001b[0m\u001b[0;34m:\u001b[0m\u001b[0;34m\u001b[0m\u001b[0;34m\u001b[0m\u001b[0m\n\u001b[1;32m   6238\u001b[0m       \u001b[0;32mpass\u001b[0m\u001b[0;34m\u001b[0m\u001b[0;34m\u001b[0m\u001b[0m\n",
      "\u001b[0;32m/opt/conda/lib/python3.7/site-packages/tensorflow/python/framework/ops.py\u001b[0m in \u001b[0;36mraise_from_not_ok_status\u001b[0;34m(e, name)\u001b[0m\n\u001b[1;32m   6939\u001b[0m   \u001b[0mmessage\u001b[0m \u001b[0;34m=\u001b[0m \u001b[0me\u001b[0m\u001b[0;34m.\u001b[0m\u001b[0mmessage\u001b[0m \u001b[0;34m+\u001b[0m \u001b[0;34m(\u001b[0m\u001b[0;34m\" name: \"\u001b[0m \u001b[0;34m+\u001b[0m \u001b[0mname\u001b[0m \u001b[0;32mif\u001b[0m \u001b[0mname\u001b[0m \u001b[0;32mis\u001b[0m \u001b[0;32mnot\u001b[0m \u001b[0;32mNone\u001b[0m \u001b[0;32melse\u001b[0m \u001b[0;34m\"\"\u001b[0m\u001b[0;34m)\u001b[0m\u001b[0;34m\u001b[0m\u001b[0;34m\u001b[0m\u001b[0m\n\u001b[1;32m   6940\u001b[0m   \u001b[0;31m# pylint: disable=protected-access\u001b[0m\u001b[0;34m\u001b[0m\u001b[0;34m\u001b[0m\u001b[0;34m\u001b[0m\u001b[0m\n\u001b[0;32m-> 6941\u001b[0;31m   \u001b[0msix\u001b[0m\u001b[0;34m.\u001b[0m\u001b[0mraise_from\u001b[0m\u001b[0;34m(\u001b[0m\u001b[0mcore\u001b[0m\u001b[0;34m.\u001b[0m\u001b[0m_status_to_exception\u001b[0m\u001b[0;34m(\u001b[0m\u001b[0me\u001b[0m\u001b[0;34m.\u001b[0m\u001b[0mcode\u001b[0m\u001b[0;34m,\u001b[0m \u001b[0mmessage\u001b[0m\u001b[0;34m)\u001b[0m\u001b[0;34m,\u001b[0m \u001b[0;32mNone\u001b[0m\u001b[0;34m)\u001b[0m\u001b[0;34m\u001b[0m\u001b[0;34m\u001b[0m\u001b[0m\n\u001b[0m\u001b[1;32m   6942\u001b[0m   \u001b[0;31m# pylint: enable=protected-access\u001b[0m\u001b[0;34m\u001b[0m\u001b[0;34m\u001b[0m\u001b[0;34m\u001b[0m\u001b[0m\n\u001b[1;32m   6943\u001b[0m \u001b[0;34m\u001b[0m\u001b[0m\n",
      "\u001b[0;32m/opt/conda/lib/python3.7/site-packages/six.py\u001b[0m in \u001b[0;36mraise_from\u001b[0;34m(value, from_value)\u001b[0m\n",
      "\u001b[0;31mInvalidArgumentError\u001b[0m: cannot compute Mul as input #1(zero-based) was expected to be a int32 tensor but is a float tensor [Op:Mul]"
     ]
    }
   ],
   "source": [
    "a*b"
   ]
  },
  {
   "cell_type": "code",
   "execution_count": 60,
   "id": "f082ca47-2ad0-46f2-9e73-e2971f8a21d6",
   "metadata": {},
   "outputs": [
    {
     "data": {
      "text/plain": [
       "<tf.Tensor: shape=(), dtype=float32, numpy=0.2>"
      ]
     },
     "execution_count": 60,
     "metadata": {},
     "output_type": "execute_result"
    }
   ],
   "source": [
    "b"
   ]
  },
  {
   "cell_type": "code",
   "execution_count": 61,
   "id": "31750e76-54bd-48e5-a0c3-fe986eea52ea",
   "metadata": {},
   "outputs": [],
   "source": [
    "a = tf.cast(a, dtype=tf.float32)\n",
    "b = tf.cast(b, dtype=tf.float32)"
   ]
  },
  {
   "cell_type": "code",
   "execution_count": 62,
   "id": "f1258966-64f5-4dcc-b395-07e87e20515f",
   "metadata": {},
   "outputs": [
    {
     "data": {
      "text/plain": [
       "<tf.Tensor: shape=(), dtype=float32, numpy=38.4>"
      ]
     },
     "execution_count": 62,
     "metadata": {},
     "output_type": "execute_result"
    }
   ],
   "source": [
    "a*b"
   ]
  },
  {
   "cell_type": "code",
   "execution_count": 63,
   "id": "bf556525-d714-4565-8aa5-df5fe1951201",
   "metadata": {},
   "outputs": [
    {
     "data": {
      "text/plain": [
       "<tf.Tensor: shape=(), dtype=float32, numpy=38.4>"
      ]
     },
     "execution_count": 63,
     "metadata": {},
     "output_type": "execute_result"
    }
   ],
   "source": [
    "tf.math.multiply(a, b)"
   ]
  },
  {
   "cell_type": "code",
   "execution_count": 52,
   "id": "5e7b581e-3b0d-4e22-a942-2ee134d79d82",
   "metadata": {},
   "outputs": [
    {
     "name": "stdout",
     "output_type": "stream",
     "text": [
      "Help on function cast in module tensorflow.python.ops.math_ops:\n",
      "\n",
      "cast(x, dtype, name=None)\n",
      "    Casts a tensor to a new type.\n",
      "    \n",
      "    The operation casts `x` (in case of `Tensor`) or `x.values`\n",
      "    (in case of `SparseTensor` or `IndexedSlices`) to `dtype`.\n",
      "    \n",
      "    For example:\n",
      "    \n",
      "    >>> x = tf.constant([1.8, 2.2], dtype=tf.float32)\n",
      "    >>> tf.cast(x, tf.int32)\n",
      "    <tf.Tensor: shape=(2,), dtype=int32, numpy=array([1, 2], dtype=int32)>\n",
      "    \n",
      "    Notice `tf.cast` has an alias `tf.dtypes.cast`:\n",
      "    \n",
      "    >>> x = tf.constant([1.8, 2.2], dtype=tf.float32)\n",
      "    >>> tf.dtypes.cast(x, tf.int32)\n",
      "    <tf.Tensor: shape=(2,), dtype=int32, numpy=array([1, 2], dtype=int32)>\n",
      "    \n",
      "    The operation supports data types (for `x` and `dtype`) of\n",
      "    `uint8`, `uint16`, `uint32`, `uint64`, `int8`, `int16`, `int32`, `int64`,\n",
      "    `float16`, `float32`, `float64`, `complex64`, `complex128`, `bfloat16`.\n",
      "    In case of casting from complex types (`complex64`, `complex128`) to real\n",
      "    types, only the real part of `x` is returned. In case of casting from real\n",
      "    types to complex types (`complex64`, `complex128`), the imaginary part of the\n",
      "    returned value is set to `0`. The handling of complex types here matches the\n",
      "    behavior of numpy.\n",
      "    \n",
      "    Note casting nan and inf values to integral types has undefined behavior.\n",
      "    \n",
      "    Args:\n",
      "      x: A `Tensor` or `SparseTensor` or `IndexedSlices` of numeric type. It could\n",
      "        be `uint8`, `uint16`, `uint32`, `uint64`, `int8`, `int16`, `int32`,\n",
      "        `int64`, `float16`, `float32`, `float64`, `complex64`, `complex128`,\n",
      "        `bfloat16`.\n",
      "      dtype: The destination type. The list of supported dtypes is the same as\n",
      "        `x`.\n",
      "      name: A name for the operation (optional).\n",
      "    \n",
      "    Returns:\n",
      "      A `Tensor` or `SparseTensor` or `IndexedSlices` with same shape as `x` and\n",
      "        same type as `dtype`.\n",
      "    \n",
      "    Raises:\n",
      "      TypeError: If `x` cannot be cast to the `dtype`.\n",
      "\n"
     ]
    }
   ],
   "source": [
    "help(tf.cast)"
   ]
  },
  {
   "cell_type": "code",
   "execution_count": 53,
   "id": "e4366629-bad1-429d-812d-2fe95c48701c",
   "metadata": {},
   "outputs": [
    {
     "data": {
      "text/plain": [
       "<tf.Tensor: shape=(1,), dtype=int32, numpy=array([12], dtype=int32)>"
      ]
     },
     "execution_count": 53,
     "metadata": {},
     "output_type": "execute_result"
    }
   ],
   "source": [
    "tf.cast(tf.constant([12.5]),dtype = tf.int32)"
   ]
  },
  {
   "cell_type": "code",
   "execution_count": null,
   "id": "24363984-93da-44e2-ba85-846acf9efd73",
   "metadata": {},
   "outputs": [],
   "source": []
  },
  {
   "cell_type": "code",
   "execution_count": null,
   "id": "d545b1fc-93f4-42c5-9735-37f794cd4aff",
   "metadata": {},
   "outputs": [],
   "source": []
  },
  {
   "cell_type": "code",
   "execution_count": 40,
   "id": "918ccfb1-7373-403b-bdd8-c31ecc3f27e0",
   "metadata": {},
   "outputs": [],
   "source": [
    "d = train_dataset.skip(1).map(parser)"
   ]
  },
  {
   "cell_type": "code",
   "execution_count": 41,
   "id": "5008a6f4-0a1c-4d85-9460-47b2163fc22a",
   "metadata": {
    "collapsed": true,
    "jupyter": {
     "outputs_hidden": true
    },
    "tags": []
   },
   "outputs": [
    {
     "name": "stderr",
     "output_type": "stream",
     "text": [
      "TIFFReadDirectory: Warning, Unknown field with tag 42113 (0xa481) encountered.\n",
      "TIFFReadDirectory: Warning, Unknown field with tag 42113 (0xa481) encountered.\n",
      "TIFFReadDirectory: Warning, Unknown field with tag 42113 (0xa481) encountered.\n",
      "TIFFReadDirectory: Warning, Unknown field with tag 42113 (0xa481) encountered.\n",
      "TIFFReadDirectory: Warning, Unknown field with tag 42113 (0xa481) encountered.\n",
      "TIFFReadDirectory: Warning, Unknown field with tag 42113 (0xa481) encountered.\n",
      "TIFFReadDirectory: Warning, Unknown field with tag 42113 (0xa481) encountered.\n",
      "TIFFReadDirectory: Warning, Unknown field with tag 42113 (0xa481) encountered.\n",
      "TIFFReadDirectory: Warning, Unknown field with tag 42113 (0xa481) encountered.\n",
      "TIFFReadDirectory: Warning, Unknown field with tag 42113 (0xa481) encountered.\n",
      "TIFFReadDirectory: Warning, Unknown field with tag 42113 (0xa481) encountered.\n",
      "TIFFReadDirectory: Warning, Unknown field with tag 42113 (0xa481) encountered.\n",
      "TIFFReadDirectory: Warning, Unknown field with tag 42113 (0xa481) encountered.\n",
      "TIFFReadDirectory: Warning, Unknown field with tag 42113 (0xa481) encountered.\n",
      "TIFFReadDirectory: Warning, Unknown field with tag 42113 (0xa481) encountered.\n",
      "TIFFReadDirectory: Warning, Unknown field with tag 42113 (0xa481) encountered.\n",
      "TIFFReadDirectory: Warning, Unknown field with tag 42113 (0xa481) encountered.\n",
      "TIFFReadDirectory: Warning, Unknown field with tag 42113 (0xa481) encountered.\n",
      "TIFFReadDirectory: Warning, Unknown field with tag 42113 (0xa481) encountered.\n",
      "TIFFReadDirectory: Warning, Unknown field with tag 42113 (0xa481) encountered.\n",
      "TIFFReadDirectory: Warning, Unknown field with tag 42113 (0xa481) encountered.\n",
      "TIFFReadDirectory: Warning, Unknown field with tag 42113 (0xa481) encountered.\n",
      "TIFFReadDirectory: Warning, Unknown field with tag 42113 (0xa481) encountered.\n",
      "TIFFReadDirectory: Warning, Unknown field with tag 42113 (0xa481) encountered.\n",
      "TIFFReadDirectory: Warning, Unknown field with tag 42113 (0xa481) encountered.\n",
      "TIFFReadDirectory: Warning, Unknown field with tag 42113 (0xa481) encountered.\n",
      "TIFFReadDirectory: Warning, Unknown field with tag 42113 (0xa481) encountered.\n",
      "TIFFReadDirectory: Warning, Unknown field with tag 42113 (0xa481) encountered.\n",
      "TIFFReadDirectory: Warning, Unknown field with tag 42113 (0xa481) encountered.\n",
      "TIFFReadDirectory: Warning, Unknown field with tag 42113 (0xa481) encountered.\n",
      "TIFFReadDirectory: Warning, Unknown field with tag 42113 (0xa481) encountered.\n",
      "TIFFReadDirectory: Warning, Unknown field with tag 42113 (0xa481) encountered.\n",
      "TIFFReadDirectory: Warning, Unknown field with tag 42113 (0xa481) encountered.\n",
      "TIFFReadDirectory: Warning, Unknown field with tag 42113 (0xa481) encountered.\n",
      "TIFFReadDirectory: Warning, Unknown field with tag 42113 (0xa481) encountered.\n",
      "TIFFReadDirectory: Warning, Unknown field with tag 42113 (0xa481) encountered.\n",
      "TIFFReadDirectory: Warning, Unknown field with tag 42113 (0xa481) encountered.\n",
      "TIFFReadDirectory: Warning, Unknown field with tag 42113 (0xa481) encountered.\n",
      "TIFFReadDirectory: Warning, Unknown field with tag 42113 (0xa481) encountered.\n",
      "TIFFReadDirectory: Warning, Unknown field with tag 42113 (0xa481) encountered.\n",
      "TIFFReadDirectory: Warning, Unknown field with tag 42113 (0xa481) encountered.\n",
      "TIFFReadDirectory: Warning, Unknown field with tag 42113 (0xa481) encountered.\n",
      "TIFFReadDirectory: Warning, Unknown field with tag 42113 (0xa481) encountered.\n",
      "TIFFReadDirectory: Warning, Unknown field with tag 42113 (0xa481) encountered.\n",
      "TIFFReadDirectory: Warning, Unknown field with tag 42113 (0xa481) encountered.\n",
      "TIFFReadDirectory: Warning, Unknown field with tag 42113 (0xa481) encountered.\n",
      "TIFFReadDirectory: Warning, Unknown field with tag 42113 (0xa481) encountered.\n",
      "TIFFReadDirectory: Warning, Unknown field with tag 42113 (0xa481) encountered.\n",
      "TIFFReadDirectory: Warning, Unknown field with tag 42113 (0xa481) encountered.\n",
      "TIFFReadDirectory: Warning, Unknown field with tag 42113 (0xa481) encountered.\n",
      "TIFFReadDirectory: Warning, Unknown field with tag 42113 (0xa481) encountered.\n",
      "TIFFReadDirectory: Warning, Unknown field with tag 42113 (0xa481) encountered.\n",
      "TIFFReadDirectory: Warning, Unknown field with tag 42113 (0xa481) encountered.\n",
      "TIFFReadDirectory: Warning, Unknown field with tag 42113 (0xa481) encountered.\n",
      "TIFFReadDirectory: Warning, Unknown field with tag 42113 (0xa481) encountered.\n",
      "TIFFReadDirectory: Warning, Unknown field with tag 42113 (0xa481) encountered.\n",
      "TIFFReadDirectory: Warning, Unknown field with tag 42113 (0xa481) encountered.\n",
      "TIFFReadDirectory: Warning, Unknown field with tag 42113 (0xa481) encountered.\n",
      "TIFFReadDirectory: Warning, Unknown field with tag 42113 (0xa481) encountered.\n",
      "TIFFReadDirectory: Warning, Unknown field with tag 42113 (0xa481) encountered.\n",
      "TIFFReadDirectory: Warning, Unknown field with tag 42113 (0xa481) encountered.\n",
      "TIFFReadDirectory: Warning, Unknown field with tag 42113 (0xa481) encountered.\n",
      "TIFFReadDirectory: Warning, Unknown field with tag 42113 (0xa481) encountered.\n",
      "TIFFReadDirectory: Warning, Unknown field with tag 42113 (0xa481) encountered.\n",
      "TIFFReadDirectory: Warning, Unknown field with tag 42113 (0xa481) encountered.\n",
      "TIFFReadDirectory: Warning, Unknown field with tag 42113 (0xa481) encountered.\n",
      "TIFFReadDirectory: Warning, Unknown field with tag 42113 (0xa481) encountered.\n",
      "TIFFReadDirectory: Warning, Unknown field with tag 42113 (0xa481) encountered.\n",
      "TIFFReadDirectory: Warning, Unknown field with tag 42113 (0xa481) encountered.\n",
      "TIFFReadDirectory: Warning, Unknown field with tag 42113 (0xa481) encountered.\n",
      "TIFFReadDirectory: Warning, Unknown field with tag 42113 (0xa481) encountered.\n",
      "TIFFReadDirectory: Warning, Unknown field with tag 42113 (0xa481) encountered.\n",
      "TIFFReadDirectory: Warning, Unknown field with tag 42113 (0xa481) encountered.\n",
      "TIFFReadDirectory: Warning, Unknown field with tag 42113 (0xa481) encountered.\n",
      "TIFFReadDirectory: Warning, Unknown field with tag 42113 (0xa481) encountered.\n",
      "TIFFReadDirectory: Warning, Unknown field with tag 42113 (0xa481) encountered.\n",
      "TIFFReadDirectory: Warning, Unknown field with tag 42113 (0xa481) encountered.\n",
      "TIFFReadDirectory: Warning, Unknown field with tag 42113 (0xa481) encountered.\n",
      "TIFFReadDirectory: Warning, Unknown field with tag 42113 (0xa481) encountered.\n",
      "TIFFReadDirectory: Warning, Unknown field with tag 42113 (0xa481) encountered.\n",
      "TIFFReadDirectory: Warning, Unknown field with tag 42113 (0xa481) encountered.\n",
      "TIFFReadDirectory: Warning, Unknown field with tag 42113 (0xa481) encountered.\n",
      "TIFFReadDirectory: Warning, Unknown field with tag 42113 (0xa481) encountered.\n",
      "TIFFReadDirectory: Warning, Unknown field with tag 42113 (0xa481) encountered.\n",
      "TIFFReadDirectory: Warning, Unknown field with tag 42113 (0xa481) encountered.\n",
      "TIFFReadDirectory: Warning, Unknown field with tag 42113 (0xa481) encountered.\n",
      "TIFFReadDirectory: Warning, Unknown field with tag 42113 (0xa481) encountered.\n",
      "TIFFReadDirectory: Warning, Unknown field with tag 42113 (0xa481) encountered.\n",
      "TIFFReadDirectory: Warning, Unknown field with tag 42113 (0xa481) encountered.\n",
      "TIFFReadDirectory: Warning, Unknown field with tag 42113 (0xa481) encountered.\n"
     ]
    }
   ],
   "source": [
    "im = list(d.take(5))"
   ]
  },
  {
   "cell_type": "code",
   "execution_count": 42,
   "id": "e9a6b56d-620e-445b-b011-02225e131896",
   "metadata": {},
   "outputs": [
    {
     "data": {
      "text/plain": [
       "5"
      ]
     },
     "execution_count": 42,
     "metadata": {},
     "output_type": "execute_result"
    }
   ],
   "source": [
    "len(im)"
   ]
  },
  {
   "cell_type": "code",
   "execution_count": 43,
   "id": "689dcfc1-cacf-481b-85a8-faaf648c2f74",
   "metadata": {},
   "outputs": [
    {
     "data": {
      "text/plain": [
       "2"
      ]
     },
     "execution_count": 43,
     "metadata": {},
     "output_type": "execute_result"
    }
   ],
   "source": [
    "len(im[0])"
   ]
  },
  {
   "cell_type": "code",
   "execution_count": 44,
   "id": "cbfcd6bf-1782-4dfb-80ed-dd1a469b7191",
   "metadata": {},
   "outputs": [
    {
     "data": {
      "text/plain": [
       "TensorShape([512, 512, 16])"
      ]
     },
     "execution_count": 44,
     "metadata": {},
     "output_type": "execute_result"
    }
   ],
   "source": [
    "im[0][0].shape"
   ]
  },
  {
   "cell_type": "code",
   "execution_count": 45,
   "id": "211795f8-c99c-4207-ba90-3e6798d12cbb",
   "metadata": {},
   "outputs": [
    {
     "data": {
      "text/plain": [
       "TensorShape([512, 512, 4])"
      ]
     },
     "execution_count": 45,
     "metadata": {},
     "output_type": "execute_result"
    }
   ],
   "source": [
    "im[0][1].shape"
   ]
  },
  {
   "cell_type": "code",
   "execution_count": 37,
   "id": "224d07d5-ac9a-40cc-b9ee-c8583a6eb75f",
   "metadata": {},
   "outputs": [
    {
     "data": {
      "text/plain": [
       "tf.uint8"
      ]
     },
     "execution_count": 37,
     "metadata": {},
     "output_type": "execute_result"
    }
   ],
   "source": [
    "im[0][1].dtype"
   ]
  },
  {
   "cell_type": "code",
   "execution_count": 38,
   "id": "a0f0cc13-dc3c-4cda-9b32-34d346155b20",
   "metadata": {},
   "outputs": [
    {
     "data": {
      "text/plain": [
       "<tf.Tensor: shape=(512, 512, 4), dtype=uint8, numpy=\n",
       "array([[[  0,   0,   0, 255],\n",
       "        [  0,   0,   0, 255],\n",
       "        [  0,   0,   0, 255],\n",
       "        ...,\n",
       "        [  1,   1,   1, 255],\n",
       "        [  1,   1,   1, 255],\n",
       "        [  1,   1,   1, 255]],\n",
       "\n",
       "       [[  0,   0,   0, 255],\n",
       "        [  0,   0,   0, 255],\n",
       "        [  0,   0,   0, 255],\n",
       "        ...,\n",
       "        [  1,   1,   1, 255],\n",
       "        [  1,   1,   1, 255],\n",
       "        [  1,   1,   1, 255]],\n",
       "\n",
       "       [[  0,   0,   0, 255],\n",
       "        [  0,   0,   0, 255],\n",
       "        [  0,   0,   0, 255],\n",
       "        ...,\n",
       "        [  1,   1,   1, 255],\n",
       "        [  1,   1,   1, 255],\n",
       "        [  1,   1,   1, 255]],\n",
       "\n",
       "       ...,\n",
       "\n",
       "       [[  0,   0,   0, 255],\n",
       "        [  0,   0,   0, 255],\n",
       "        [  0,   0,   0, 255],\n",
       "        ...,\n",
       "        [  0,   0,   0, 255],\n",
       "        [  0,   0,   0, 255],\n",
       "        [  0,   0,   0, 255]],\n",
       "\n",
       "       [[  0,   0,   0, 255],\n",
       "        [  0,   0,   0, 255],\n",
       "        [  0,   0,   0, 255],\n",
       "        ...,\n",
       "        [  0,   0,   0, 255],\n",
       "        [  0,   0,   0, 255],\n",
       "        [  0,   0,   0, 255]],\n",
       "\n",
       "       [[  0,   0,   0, 255],\n",
       "        [  0,   0,   0, 255],\n",
       "        [  0,   0,   0, 255],\n",
       "        ...,\n",
       "        [  0,   0,   0, 255],\n",
       "        [  0,   0,   0, 255],\n",
       "        [  0,   0,   0, 255]]], dtype=uint8)>"
      ]
     },
     "execution_count": 38,
     "metadata": {},
     "output_type": "execute_result"
    }
   ],
   "source": [
    "im[0][1]"
   ]
  },
  {
   "cell_type": "code",
   "execution_count": null,
   "id": "23885f19-3771-436d-9bf1-29f85db7cec0",
   "metadata": {},
   "outputs": [],
   "source": []
  },
  {
   "cell_type": "code",
   "execution_count": null,
   "id": "8801e966-b105-4db1-b228-e77bed9fbde8",
   "metadata": {},
   "outputs": [],
   "source": []
  },
  {
   "cell_type": "code",
   "execution_count": null,
   "id": "b041804c-8cf7-4802-94aa-50e85bfb3f6a",
   "metadata": {},
   "outputs": [],
   "source": []
  },
  {
   "cell_type": "code",
   "execution_count": null,
   "id": "98ca668e-31f0-4216-8c9d-9c415a06a135",
   "metadata": {},
   "outputs": [],
   "source": []
  },
  {
   "cell_type": "code",
   "execution_count": 10,
   "id": "63bb6bd6-19b5-4e76-bc10-799a2ad22d19",
   "metadata": {},
   "outputs": [],
   "source": []
  },
  {
   "cell_type": "code",
   "execution_count": null,
   "id": "923a8fa7-e3fe-45fb-a096-c96de3ed6d08",
   "metadata": {},
   "outputs": [],
   "source": []
  }
 ],
 "metadata": {
  "environment": {
   "kernel": "python3",
   "name": "tf2-gpu.2-6.m87",
   "type": "gcloud",
   "uri": "gcr.io/deeplearning-platform-release/tf2-gpu.2-6:m87"
  },
  "kernelspec": {
   "display_name": "Python 3",
   "language": "python",
   "name": "python3"
  },
  "language_info": {
   "codemirror_mode": {
    "name": "ipython",
    "version": 3
   },
   "file_extension": ".py",
   "mimetype": "text/x-python",
   "name": "python",
   "nbconvert_exporter": "python",
   "pygments_lexer": "ipython3",
   "version": "3.6.13"
  }
 },
 "nbformat": 4,
 "nbformat_minor": 5
}
